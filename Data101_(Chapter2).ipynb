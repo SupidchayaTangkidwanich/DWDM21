{
  "nbformat": 4,
  "nbformat_minor": 0,
  "metadata": {
    "colab": {
      "name": "Data101 (Chapter2).ipynb",
      "provenance": [],
      "authorship_tag": "ABX9TyMBW86mvVQ19zYDlV1LQq0h",
      "include_colab_link": true
    },
    "kernelspec": {
      "name": "python3",
      "display_name": "Python 3"
    },
    "language_info": {
      "name": "python"
    }
  },
  "cells": [
    {
      "cell_type": "markdown",
      "metadata": {
        "id": "view-in-github",
        "colab_type": "text"
      },
      "source": [
        "<a href=\"https://colab.research.google.com/github/SupidchayaTangkidwanich/DWDM21/blob/main/Data101_(Chapter2).ipynb\" target=\"_parent\"><img src=\"https://colab.research.google.com/assets/colab-badge.svg\" alt=\"Open In Colab\"/></a>"
      ]
    },
    {
      "cell_type": "markdown",
      "metadata": {
        "id": "MxIwoR1Lz0Op"
      },
      "source": [
        "ข้อความที่อยู่ใน textbox จะเป็น ภาษา markdown "
      ]
    },
    {
      "cell_type": "markdown",
      "metadata": {
        "id": "3iBgDYt-tl1b"
      },
      "source": [
        "ข้อดีหนึ่งของ Python คือมี package \n",
        "สำหรับทำงานต่างๆมากมาย \n",
        "\n",
        "ซึ่ง pandas เป็น package สำหรับการทำงานกับข้อมูลที่อยู่ในรูปเเบบตาราง\n",
        "\n",
        "โดย pandas จะเรียกตารางนั้นว่า dataframe"
      ]
    },
    {
      "cell_type": "code",
      "metadata": {
        "id": "AAIhZdGorvOq"
      },
      "source": [
        "import pandas # วิธีเรียกใช้ คือ import ตามด้วยชื่อ package |pandas ไว้ใช้เก็บข้อมูล"
      ],
      "execution_count": 30,
      "outputs": []
    },
    {
      "cell_type": "code",
      "metadata": {
        "id": "H5X5QjJQs2f2"
      },
      "source": [
        "import pandas as pd # เหมือนกันกับข้างบนเเต่ว่า ตั้งชื่อให้ package ที่โหลดมาใหม่ว่า pd"
      ],
      "execution_count": 31,
      "outputs": []
    },
    {
      "cell_type": "markdown",
      "metadata": {
        "id": "MSytLq9uusnU"
      },
      "source": [
        "ไฟล์ .csv (CSV = comma separated values)\n",
        "เป็นไฟล์หลักที่เราจะได้ใช้กันในวิชานี้\n",
        "\n",
        "จะเก็บข้อมูลเป็นตารางเข้าใจง่ายๆ สามารถส่งเเล้วเปิดได้ด้วยกันทั้งหมด"
      ]
    },
    {
      "cell_type": "code",
      "metadata": {
        "id": "umwqgzB3ubKG"
      },
      "source": [
        "data_df = pd.read_csv('data.csv') # ไว้ใช้โหลด data"
      ],
      "execution_count": 32,
      "outputs": []
    },
    {
      "cell_type": "code",
      "metadata": {
        "colab": {
          "base_uri": "https://localhost:8080/",
          "height": 143
        },
        "id": "hlDo_FIhxNjI",
        "outputId": "208f6705-46ce-4494-e748-cca2d2292a5f"
      },
      "source": [
        "data_df # เเสดงข้อมูล"
      ],
      "execution_count": 33,
      "outputs": [
        {
          "output_type": "execute_result",
          "data": {
            "text/html": [
              "<div>\n",
              "<style scoped>\n",
              "    .dataframe tbody tr th:only-of-type {\n",
              "        vertical-align: middle;\n",
              "    }\n",
              "\n",
              "    .dataframe tbody tr th {\n",
              "        vertical-align: top;\n",
              "    }\n",
              "\n",
              "    .dataframe thead th {\n",
              "        text-align: right;\n",
              "    }\n",
              "</style>\n",
              "<table border=\"1\" class=\"dataframe\">\n",
              "  <thead>\n",
              "    <tr style=\"text-align: right;\">\n",
              "      <th></th>\n",
              "      <th>name</th>\n",
              "      <th>age</th>\n",
              "      <th>city</th>\n",
              "    </tr>\n",
              "  </thead>\n",
              "  <tbody>\n",
              "    <tr>\n",
              "      <th>0</th>\n",
              "      <td>Tom</td>\n",
              "      <td>27</td>\n",
              "      <td>Khon Kaen</td>\n",
              "    </tr>\n",
              "    <tr>\n",
              "      <th>1</th>\n",
              "      <td>Paul</td>\n",
              "      <td>15</td>\n",
              "      <td>Bangkok</td>\n",
              "    </tr>\n",
              "    <tr>\n",
              "      <th>2</th>\n",
              "      <td>Sarah</td>\n",
              "      <td>49</td>\n",
              "      <td>London</td>\n",
              "    </tr>\n",
              "  </tbody>\n",
              "</table>\n",
              "</div>"
            ],
            "text/plain": [
              "    name  age       city\n",
              "0    Tom   27  Khon Kaen\n",
              "1   Paul   15    Bangkok\n",
              "2  Sarah   49     London"
            ]
          },
          "metadata": {
            "tags": []
          },
          "execution_count": 33
        }
      ]
    },
    {
      "cell_type": "code",
      "metadata": {
        "colab": {
          "base_uri": "https://localhost:8080/",
          "height": 143
        },
        "id": "ykXwS6BzxQzj",
        "outputId": "56eb216b-d243-4308-9e39-f4a26745ae1f"
      },
      "source": [
        "data_df2 = pd.read_csv('data.csv') # ใน 1 cell สามารถมีได้หลายคำสั่ง\n",
        "data_df2"
      ],
      "execution_count": 34,
      "outputs": [
        {
          "output_type": "execute_result",
          "data": {
            "text/html": [
              "<div>\n",
              "<style scoped>\n",
              "    .dataframe tbody tr th:only-of-type {\n",
              "        vertical-align: middle;\n",
              "    }\n",
              "\n",
              "    .dataframe tbody tr th {\n",
              "        vertical-align: top;\n",
              "    }\n",
              "\n",
              "    .dataframe thead th {\n",
              "        text-align: right;\n",
              "    }\n",
              "</style>\n",
              "<table border=\"1\" class=\"dataframe\">\n",
              "  <thead>\n",
              "    <tr style=\"text-align: right;\">\n",
              "      <th></th>\n",
              "      <th>name</th>\n",
              "      <th>age</th>\n",
              "      <th>city</th>\n",
              "    </tr>\n",
              "  </thead>\n",
              "  <tbody>\n",
              "    <tr>\n",
              "      <th>0</th>\n",
              "      <td>Tom</td>\n",
              "      <td>27</td>\n",
              "      <td>Khon Kaen</td>\n",
              "    </tr>\n",
              "    <tr>\n",
              "      <th>1</th>\n",
              "      <td>Paul</td>\n",
              "      <td>15</td>\n",
              "      <td>Bangkok</td>\n",
              "    </tr>\n",
              "    <tr>\n",
              "      <th>2</th>\n",
              "      <td>Sarah</td>\n",
              "      <td>49</td>\n",
              "      <td>London</td>\n",
              "    </tr>\n",
              "  </tbody>\n",
              "</table>\n",
              "</div>"
            ],
            "text/plain": [
              "    name  age       city\n",
              "0    Tom   27  Khon Kaen\n",
              "1   Paul   15    Bangkok\n",
              "2  Sarah   49     London"
            ]
          },
          "metadata": {
            "tags": []
          },
          "execution_count": 34
        }
      ]
    },
    {
      "cell_type": "markdown",
      "metadata": {
        "id": "TCnhImN4zCPS"
      },
      "source": [
        "# Basic python\n",
        "## Variables คือ กล่องที่เก็บข้อมูล\n",
        "\n",
        "ข้อกำหนดในการตั้งชื่อตัวเเปร\n",
        "\n",
        "\n",
        "1.   ชื่อห้ามมีเว้นวรรค\n",
        "2.   (พยายาม)ใช้ภาษาอังกฤษ \n",
        "3.   ตัวเล็กกับตัวใหญ่ เเตกต่างกัน (case sensitive)\n",
        "4.   ห้ามใช้ตัวเลขเป็นตัวหน้า\n",
        "\n",
        "\n"
      ]
    },
    {
      "cell_type": "code",
      "metadata": {
        "id": "uhK1VElsyFsE"
      },
      "source": [
        "variable_a = 12 # ข้อมูลเป็นค่าตัวเลข\n",
        "variable_b = 'abcde' # ' เรียกว่า quote ไว้ใช้กับ text/string\n",
        "variable_c = variable_a # ตัวเเปร"
      ],
      "execution_count": 35,
      "outputs": []
    },
    {
      "cell_type": "code",
      "metadata": {
        "colab": {
          "base_uri": "https://localhost:8080/"
        },
        "id": "8pVJ72tv1JGC",
        "outputId": "1a5ab19d-a984-401c-e9da-4a34ec1276b0"
      },
      "source": [
        "variable_a"
      ],
      "execution_count": 36,
      "outputs": [
        {
          "output_type": "execute_result",
          "data": {
            "text/plain": [
              "12"
            ]
          },
          "metadata": {
            "tags": []
          },
          "execution_count": 36
        }
      ]
    },
    {
      "cell_type": "code",
      "metadata": {
        "colab": {
          "base_uri": "https://localhost:8080/",
          "height": 34
        },
        "id": "w876hISk1Kl4",
        "outputId": "a1842f1e-1336-4b35-e948-44a32542594b"
      },
      "source": [
        "variable_b"
      ],
      "execution_count": 37,
      "outputs": [
        {
          "output_type": "execute_result",
          "data": {
            "application/vnd.google.colaboratory.intrinsic+json": {
              "type": "string"
            },
            "text/plain": [
              "'abcde'"
            ]
          },
          "metadata": {
            "tags": []
          },
          "execution_count": 37
        }
      ]
    },
    {
      "cell_type": "code",
      "metadata": {
        "colab": {
          "base_uri": "https://localhost:8080/"
        },
        "id": "D4J2flLD1NQi",
        "outputId": "206084f5-9b37-4db1-d6ff-85086abc9a26"
      },
      "source": [
        "variable_c # เท่ากับ variable_a "
      ],
      "execution_count": 38,
      "outputs": [
        {
          "output_type": "execute_result",
          "data": {
            "text/plain": [
              "12"
            ]
          },
          "metadata": {
            "tags": []
          },
          "execution_count": 38
        }
      ]
    },
    {
      "cell_type": "markdown",
      "metadata": {
        "id": "XmrgSEaW2HeE"
      },
      "source": [
        "### สิ่งที่ผิด"
      ]
    },
    {
      "cell_type": "code",
      "metadata": {
        "colab": {
          "base_uri": "https://localhost:8080/",
          "height": 132
        },
        "id": "wGJdPKJ81Ojn",
        "outputId": "97664b92-772e-4845-8ff5-d4f16acf774e"
      },
      "source": [
        "# ชื่อห้ามมีเว้นเวรรค\n",
        "variable a = 6"
      ],
      "execution_count": 40,
      "outputs": [
        {
          "output_type": "error",
          "ename": "SyntaxError",
          "evalue": "ignored",
          "traceback": [
            "\u001b[0;36m  File \u001b[0;32m\"<ipython-input-40-3c4ead0f09cc>\"\u001b[0;36m, line \u001b[0;32m2\u001b[0m\n\u001b[0;31m    variable a = 6\u001b[0m\n\u001b[0m             ^\u001b[0m\n\u001b[0;31mSyntaxError\u001b[0m\u001b[0;31m:\u001b[0m invalid syntax\n"
          ]
        }
      ]
    },
    {
      "cell_type": "code",
      "metadata": {
        "colab": {
          "base_uri": "https://localhost:8080/"
        },
        "id": "TlDEuWE22GLh",
        "outputId": "70f83374-e9a0-401d-8072-d502eab6ba27"
      },
      "source": [
        "# (พยายาม)ใช้ภาษาอังกฤษ\n",
        "#colab ใช้ภาษาไทยเป็นชื่อตัวเเปรได้ เเต่ไม่ควรใช้\n",
        "ตัวเเปร = 3 \n",
        "ตัวเเปร"
      ],
      "execution_count": 41,
      "outputs": [
        {
          "output_type": "execute_result",
          "data": {
            "text/plain": [
              "3"
            ]
          },
          "metadata": {
            "tags": []
          },
          "execution_count": 41
        }
      ]
    },
    {
      "cell_type": "code",
      "metadata": {
        "colab": {
          "base_uri": "https://localhost:8080/"
        },
        "id": "m_TtRNpu2RVn",
        "outputId": "05fc166c-ef59-41fe-8004-4b6a714d24c3"
      },
      "source": [
        "# ตัวเล็กกับตัวใหญ่ เเตกต่างกัน (case sensitive)\n",
        "v_a = 1\n",
        "V_a = 2\n",
        "print(v_a)\n",
        "print(V_a)"
      ],
      "execution_count": 42,
      "outputs": [
        {
          "output_type": "stream",
          "text": [
            "1\n",
            "2\n"
          ],
          "name": "stdout"
        }
      ]
    },
    {
      "cell_type": "code",
      "metadata": {
        "colab": {
          "base_uri": "https://localhost:8080/"
        },
        "id": "0H3BMDhc3HdX",
        "outputId": "e134a9bd-1498-47d1-e6ec-c1238d02ccb6"
      },
      "source": [
        "# ตัวเล็กกับตัวใหญ่ เเตกต่างกัน (case sensitive)\n",
        "v_a = 1\n",
        "v_a = 2\n",
        "print(v_a)\n",
        "print(v_a)"
      ],
      "execution_count": 43,
      "outputs": [
        {
          "output_type": "stream",
          "text": [
            "2\n",
            "2\n"
          ],
          "name": "stdout"
        }
      ]
    },
    {
      "cell_type": "code",
      "metadata": {
        "colab": {
          "base_uri": "https://localhost:8080/",
          "height": 132
        },
        "id": "RAP3lDpI3aJI",
        "outputId": "c797c411-3de4-4487-9944-7730717b7749"
      },
      "source": [
        "# ห้ามใช้ตัวเลขเป็นตัวหน้า\n",
        "2 = 1"
      ],
      "execution_count": 45,
      "outputs": [
        {
          "output_type": "error",
          "ename": "SyntaxError",
          "evalue": "ignored",
          "traceback": [
            "\u001b[0;36m  File \u001b[0;32m\"<ipython-input-45-24eb8a2ec18c>\"\u001b[0;36m, line \u001b[0;32m2\u001b[0m\n\u001b[0;31m    2 = 1\u001b[0m\n\u001b[0m         ^\u001b[0m\n\u001b[0;31mSyntaxError\u001b[0m\u001b[0;31m:\u001b[0m can't assign to literal\n"
          ]
        }
      ]
    },
    {
      "cell_type": "code",
      "metadata": {
        "id": "bCe6sI4-3pKn",
        "outputId": "aa28b310-5d5e-4663-f4be-466c13e769e7",
        "colab": {
          "base_uri": "https://localhost:8080/",
          "height": 132
        }
      },
      "source": [
        "# ห้ามใช้ตัวเลขเป็นตัวหน้า\n",
        "2ab = 1"
      ],
      "execution_count": 46,
      "outputs": [
        {
          "output_type": "error",
          "ename": "SyntaxError",
          "evalue": "ignored",
          "traceback": [
            "\u001b[0;36m  File \u001b[0;32m\"<ipython-input-46-4a1c88deec89>\"\u001b[0;36m, line \u001b[0;32m2\u001b[0m\n\u001b[0;31m    2ab = 1\u001b[0m\n\u001b[0m      ^\u001b[0m\n\u001b[0;31mSyntaxError\u001b[0m\u001b[0;31m:\u001b[0m invalid syntax\n"
          ]
        }
      ]
    },
    {
      "cell_type": "code",
      "metadata": {
        "id": "AOHNxjgd3vj6"
      },
      "source": [
        "# ห้ามใช้ตัวเลขเป็นตัวหน้า\n",
        "variable1 = 1 # ทำได้เพราะเลขอยู่ข้างหลัง"
      ],
      "execution_count": 47,
      "outputs": []
    },
    {
      "cell_type": "code",
      "metadata": {
        "id": "X5FfSzU930M_",
        "colab": {
          "base_uri": "https://localhost:8080/"
        },
        "outputId": "5440489f-d175-4f2a-f0fb-ebe331d01f63"
      },
      "source": [
        "print(variable1)"
      ],
      "execution_count": 48,
      "outputs": [
        {
          "output_type": "stream",
          "text": [
            "1\n"
          ],
          "name": "stdout"
        }
      ]
    },
    {
      "cell_type": "code",
      "metadata": {
        "id": "Rf7L70XG32KY"
      },
      "source": [
        "variable_a = 12 # ข้อมูลเป็นค่าตัวเลข\n",
        "variable_b = 'abcde' # ' เรียกว่า quote ไว้ใช้กับ text/string\n",
        "variable_c = variable_a # ตัวเเปร\n",
        "variable_d = -41.2\n",
        "variable_4 = \"KKU\" # \" \" เรียกว่า double quote ใช้เป็นค่า text/string"
      ],
      "execution_count": 49,
      "outputs": []
    },
    {
      "cell_type": "code",
      "metadata": {
        "colab": {
          "base_uri": "https://localhost:8080/"
        },
        "id": "I8TuRCWH39bO",
        "outputId": "7767a80d-9568-4b99-d70f-8c4472468a48"
      },
      "source": [
        "variable_x = variable_c + variable_d # ตัวเเปรสามารถบวกกันได้\n",
        "print(variable_x) # มาตรฐานในการเเสดงค่า"
      ],
      "execution_count": 50,
      "outputs": [
        {
          "output_type": "stream",
          "text": [
            "-29.200000000000003\n"
          ],
          "name": "stdout"
        }
      ]
    },
    {
      "cell_type": "code",
      "metadata": {
        "colab": {
          "base_uri": "https://localhost:8080/",
          "height": 184
        },
        "id": "O420xP1V4jCP",
        "outputId": "7fc553d7-f040-4765-de4f-9d2a54fc28c3"
      },
      "source": [
        "variable_a + variable_b  # ก็จะ error int + string ไม่สามารถบวกกันได้(ตัวเลขกับตัวหนังสือบวกกันไม่ได้)"
      ],
      "execution_count": 52,
      "outputs": [
        {
          "output_type": "error",
          "ename": "TypeError",
          "evalue": "ignored",
          "traceback": [
            "\u001b[0;31m---------------------------------------------------------------------------\u001b[0m",
            "\u001b[0;31mTypeError\u001b[0m                                 Traceback (most recent call last)",
            "\u001b[0;32m<ipython-input-52-c7eb5fbe674d>\u001b[0m in \u001b[0;36m<module>\u001b[0;34m()\u001b[0m\n\u001b[0;32m----> 1\u001b[0;31m \u001b[0mvariable_a\u001b[0m \u001b[0;34m+\u001b[0m \u001b[0mvariable_b\u001b[0m  \u001b[0;31m# ก็จะ error int + string ไม่สามารถบวกกันได้(ตัวเลขกับตัวหนังสือบวกกันไม่ได้)\u001b[0m\u001b[0;34m\u001b[0m\u001b[0;34m\u001b[0m\u001b[0m\n\u001b[0m",
            "\u001b[0;31mTypeError\u001b[0m: unsupported operand type(s) for +: 'int' and 'str'"
          ]
        }
      ]
    },
    {
      "cell_type": "code",
      "metadata": {
        "id": "iqcWr8VW6LNB",
        "outputId": "9d0ba587-6fb5-405a-c4e0-596c6b13a56c",
        "colab": {
          "base_uri": "https://localhost:8080/"
        }
      },
      "source": [
        "print(variable_b + variable_4) # ตัวหนังสือกับตัวหนังสือบวกกันได้ โดยการเอา string มาต่อกัน"
      ],
      "execution_count": 53,
      "outputs": [
        {
          "output_type": "stream",
          "text": [
            "abcdeKKU\n"
          ],
          "name": "stdout"
        }
      ]
    },
    {
      "cell_type": "markdown",
      "metadata": {
        "id": "k_3j9Qxh7BR5"
      },
      "source": [
        "## Casting int() floating() str() \n",
        "\n",
        "คือ สามารถเปลี่ยนชนิดของตัวเเปรได้"
      ]
    },
    {
      "cell_type": "code",
      "metadata": {
        "colab": {
          "base_uri": "https://localhost:8080/"
        },
        "id": "iMcr7CPI6ci4",
        "outputId": "b9d66372-1c7c-4ad0-8bd1-6765fef43ffc"
      },
      "source": [
        "print(variable_x)\n",
        "print(int(variable_x)) # มันจะตัดทศนิยมออกไปเลย ไม่ปัดขึ้น-ปัดลง"
      ],
      "execution_count": 54,
      "outputs": [
        {
          "output_type": "stream",
          "text": [
            "-29.200000000000003\n",
            "-29\n"
          ],
          "name": "stdout"
        }
      ]
    },
    {
      "cell_type": "code",
      "metadata": {
        "colab": {
          "base_uri": "https://localhost:8080/"
        },
        "id": "BD4NuOnp7YkH",
        "outputId": "55c846dd-e285-4d63-9c4e-a7ccc0fd6571"
      },
      "source": [
        "V_X = str(variable_x)\n",
        "print(V_X) # เป็น str เเล้ว"
      ],
      "execution_count": 55,
      "outputs": [
        {
          "output_type": "stream",
          "text": [
            "-29.200000000000003\n"
          ],
          "name": "stdout"
        }
      ]
    },
    {
      "cell_type": "code",
      "metadata": {
        "colab": {
          "base_uri": "https://localhost:8080/",
          "height": 166
        },
        "id": "GBH-9bE572lP",
        "outputId": "86b38818-5464-4e06-9006-332b7d01472a"
      },
      "source": [
        "V_X + variable_a  # ไม่สามารถทำได้เพราะ V_X เป็น str เเล้ว"
      ],
      "execution_count": 57,
      "outputs": [
        {
          "output_type": "error",
          "ename": "TypeError",
          "evalue": "ignored",
          "traceback": [
            "\u001b[0;31m---------------------------------------------------------------------------\u001b[0m",
            "\u001b[0;31mTypeError\u001b[0m                                 Traceback (most recent call last)",
            "\u001b[0;32m<ipython-input-57-fc71ec4110bf>\u001b[0m in \u001b[0;36m<module>\u001b[0;34m()\u001b[0m\n\u001b[0;32m----> 1\u001b[0;31m \u001b[0mV_X\u001b[0m \u001b[0;34m+\u001b[0m \u001b[0mvariable_a\u001b[0m  \u001b[0;31m# ไม่สามารถทำได้เพราะ V_X เป็น str เเล้ว\u001b[0m\u001b[0;34m\u001b[0m\u001b[0;34m\u001b[0m\u001b[0m\n\u001b[0m",
            "\u001b[0;31mTypeError\u001b[0m: can only concatenate str (not \"int\") to str"
          ]
        }
      ]
    },
    {
      "cell_type": "code",
      "metadata": {
        "colab": {
          "base_uri": "https://localhost:8080/",
          "height": 184
        },
        "id": "frJtGg4E78Qm",
        "outputId": "185c6fbe-cdda-497d-9c25-a9972c318726"
      },
      "source": [
        "variable_a + V_X # สลับที่ก็ยังคงบวกกันไม่ได้อยู่ดี เพราะ V_X เป็น str เเล้ว Variable_a เป็นตัวเลข"
      ],
      "execution_count": 58,
      "outputs": [
        {
          "output_type": "error",
          "ename": "TypeError",
          "evalue": "ignored",
          "traceback": [
            "\u001b[0;31m---------------------------------------------------------------------------\u001b[0m",
            "\u001b[0;31mTypeError\u001b[0m                                 Traceback (most recent call last)",
            "\u001b[0;32m<ipython-input-58-5ae90b8690c1>\u001b[0m in \u001b[0;36m<module>\u001b[0;34m()\u001b[0m\n\u001b[0;32m----> 1\u001b[0;31m \u001b[0mvariable_a\u001b[0m \u001b[0;34m+\u001b[0m \u001b[0mV_X\u001b[0m \u001b[0;31m# สลับที่ก็ยังคงบวกกันไม่ได้อยู่ดี เพราะ V_X เป็น str เเล้ว Variable_a เป็นตัวเลข\u001b[0m\u001b[0;34m\u001b[0m\u001b[0;34m\u001b[0m\u001b[0m\n\u001b[0m",
            "\u001b[0;31mTypeError\u001b[0m: unsupported operand type(s) for +: 'int' and 'str'"
          ]
        }
      ]
    },
    {
      "cell_type": "code",
      "metadata": {
        "colab": {
          "base_uri": "https://localhost:8080/",
          "height": 34
        },
        "id": "HwY6-ij68DT-",
        "outputId": "204e9c6a-f920-4726-ce09-6befded41556"
      },
      "source": [
        "V_X # จะบอกว่าเป็นตัวเเปรชนิดไหน"
      ],
      "execution_count": 59,
      "outputs": [
        {
          "output_type": "execute_result",
          "data": {
            "application/vnd.google.colaboratory.intrinsic+json": {
              "type": "string"
            },
            "text/plain": [
              "'-29.200000000000003'"
            ]
          },
          "metadata": {
            "tags": []
          },
          "execution_count": 59
        }
      ]
    },
    {
      "cell_type": "code",
      "metadata": {
        "colab": {
          "base_uri": "https://localhost:8080/"
        },
        "id": "bPvBTH2O8ZMP",
        "outputId": "8983fa3a-9326-4371-f6e0-bf05e4dcfde9"
      },
      "source": [
        "float(V_X) # เปลี่ยนกลายเป็นตัวเลขทศนิยมเหมือนเดิมได้"
      ],
      "execution_count": 60,
      "outputs": [
        {
          "output_type": "execute_result",
          "data": {
            "text/plain": [
              "-29.200000000000003"
            ]
          },
          "metadata": {
            "tags": []
          },
          "execution_count": 60
        }
      ]
    },
    {
      "cell_type": "markdown",
      "metadata": {
        "id": "QQQfgMSF839I"
      },
      "source": [
        "# Data Structure (โครงสร้างของข้อมูล)\n",
        "### list()\n",
        "\n",
        "คือ ตัวเลขหรือตัวเเปรมาเรียงต่อๆกัน"
      ]
    },
    {
      "cell_type": "code",
      "metadata": {
        "id": "CENuxLti8le_"
      },
      "source": [
        "list_a = [1,2,0.2,'abs'] # [] square brackets \n",
        "list_b = [2,'xyz',list_a,[1,2,0.0]] # สามารถเก็บซ้อนลิสต์ได้"
      ],
      "execution_count": 61,
      "outputs": []
    },
    {
      "cell_type": "code",
      "metadata": {
        "colab": {
          "base_uri": "https://localhost:8080/"
        },
        "id": "9GuVN0O094Cm",
        "outputId": "0b0df7c5-8bbb-4560-8750-82031752589b"
      },
      "source": [
        "list_a #ลำดับมีความสำคัญ"
      ],
      "execution_count": 62,
      "outputs": [
        {
          "output_type": "execute_result",
          "data": {
            "text/plain": [
              "[1, 2, 0.2, 'abs']"
            ]
          },
          "metadata": {
            "tags": []
          },
          "execution_count": 62
        }
      ]
    },
    {
      "cell_type": "code",
      "metadata": {
        "colab": {
          "base_uri": "https://localhost:8080/"
        },
        "id": "pCNWMr5N95Iv",
        "outputId": "95f3378d-fa1d-4503-80f4-458418714938"
      },
      "source": [
        "list_b"
      ],
      "execution_count": 63,
      "outputs": [
        {
          "output_type": "execute_result",
          "data": {
            "text/plain": [
              "[2, 'xyz', [1, 2, 0.2, 'abs'], [1, 2, 0.0]]"
            ]
          },
          "metadata": {
            "tags": []
          },
          "execution_count": 63
        }
      ]
    },
    {
      "cell_type": "code",
      "metadata": {
        "colab": {
          "base_uri": "https://localhost:8080/"
        },
        "id": "iM0yTahu-C1o",
        "outputId": "bf43c673-a92a-451e-eb9c-d788b3e9f426"
      },
      "source": [
        "len(list_b) # len ย่อมาจาก length ใช้ดูความยาว"
      ],
      "execution_count": 64,
      "outputs": [
        {
          "output_type": "execute_result",
          "data": {
            "text/plain": [
              "4"
            ]
          },
          "metadata": {
            "tags": []
          },
          "execution_count": 64
        }
      ]
    },
    {
      "cell_type": "code",
      "metadata": {
        "colab": {
          "base_uri": "https://localhost:8080/"
        },
        "id": "529tsoEK-QqW",
        "outputId": "8b7bd8f7-6f1b-40c5-a709-d3c582aeaf40"
      },
      "source": [
        "list_b[3] # ชี้ลิสต์ได้"
      ],
      "execution_count": 65,
      "outputs": [
        {
          "output_type": "execute_result",
          "data": {
            "text/plain": [
              "[1, 2, 0.0]"
            ]
          },
          "metadata": {
            "tags": []
          },
          "execution_count": 65
        }
      ]
    },
    {
      "cell_type": "code",
      "metadata": {
        "colab": {
          "base_uri": "https://localhost:8080/"
        },
        "id": "mlySZ5Ty-bbu",
        "outputId": "b4ec58d8-f70d-4f69-da35-754f9d560df1"
      },
      "source": [
        "list_b[3][1] # ชี้ซ้อนลิสต์ได้ ในทีนี้อยากชี้ลิสต์ [1,2,0.0] อยากชี้ตัวอันดับที่ 1 คือเลข 2"
      ],
      "execution_count": 66,
      "outputs": [
        {
          "output_type": "execute_result",
          "data": {
            "text/plain": [
              "2"
            ]
          },
          "metadata": {
            "tags": []
          },
          "execution_count": 66
        }
      ]
    },
    {
      "cell_type": "markdown",
      "metadata": {
        "id": "RS8lKzpJ-2YC"
      },
      "source": [
        "string คือ list ของ ตัวหนังสือ"
      ]
    },
    {
      "cell_type": "code",
      "metadata": {
        "id": "GUa0IzMG-kdW"
      },
      "source": [
        "a = 'Stat KKU'"
      ],
      "execution_count": 67,
      "outputs": []
    },
    {
      "cell_type": "code",
      "metadata": {
        "colab": {
          "base_uri": "https://localhost:8080/",
          "height": 34
        },
        "id": "G5MKhpw3_DVt",
        "outputId": "34f2c6f4-c1e0-4045-d061-dd61ffb13b3d"
      },
      "source": [
        "a[4] # เว้นววรค"
      ],
      "execution_count": 68,
      "outputs": [
        {
          "output_type": "execute_result",
          "data": {
            "application/vnd.google.colaboratory.intrinsic+json": {
              "type": "string"
            },
            "text/plain": [
              "' '"
            ]
          },
          "metadata": {
            "tags": []
          },
          "execution_count": 68
        }
      ]
    },
    {
      "cell_type": "markdown",
      "metadata": {
        "id": "FvJnPdhb_dP4"
      },
      "source": [
        "### วิธีสร้าง list ว่าง"
      ]
    },
    {
      "cell_type": "code",
      "metadata": {
        "id": "PLf8Ge3g_G-G"
      },
      "source": [
        "list_c = list() # เเบบที่ 1 \n",
        "list_d = [] # เเบบที่ 2 "
      ],
      "execution_count": 112,
      "outputs": []
    },
    {
      "cell_type": "code",
      "metadata": {
        "colab": {
          "base_uri": "https://localhost:8080/"
        },
        "id": "4WHmbOap_2yc",
        "outputId": "89877218-e577-44ad-b5e2-9e3db665fedd"
      },
      "source": [
        "list_c "
      ],
      "execution_count": 113,
      "outputs": [
        {
          "output_type": "execute_result",
          "data": {
            "text/plain": [
              "[]"
            ]
          },
          "metadata": {
            "tags": []
          },
          "execution_count": 113
        }
      ]
    },
    {
      "cell_type": "code",
      "metadata": {
        "colab": {
          "base_uri": "https://localhost:8080/"
        },
        "id": "QRlFbbj1_4B_",
        "outputId": "f48f124e-7afb-4128-a0f5-4cb7340e8dc6"
      },
      "source": [
        "list_d"
      ],
      "execution_count": 114,
      "outputs": [
        {
          "output_type": "execute_result",
          "data": {
            "text/plain": [
              "[]"
            ]
          },
          "metadata": {
            "tags": []
          },
          "execution_count": 114
        }
      ]
    },
    {
      "cell_type": "markdown",
      "metadata": {
        "id": "6mTsdKTbAbji"
      },
      "source": [
        "เติมค่าลงไปใน list(.append())"
      ]
    },
    {
      "cell_type": "code",
      "metadata": {
        "id": "LP5EotRf_70v"
      },
      "source": [
        "list_d.append('a')"
      ],
      "execution_count": 115,
      "outputs": []
    },
    {
      "cell_type": "code",
      "metadata": {
        "colab": {
          "base_uri": "https://localhost:8080/"
        },
        "id": "YJpFttlMAqR-",
        "outputId": "8114fc71-0b31-4853-c3e1-659a9baba02c"
      },
      "source": [
        "list_d"
      ],
      "execution_count": 116,
      "outputs": [
        {
          "output_type": "execute_result",
          "data": {
            "text/plain": [
              "['a']"
            ]
          },
          "metadata": {
            "tags": []
          },
          "execution_count": 116
        }
      ]
    },
    {
      "cell_type": "code",
      "metadata": {
        "id": "MoyPtVyMAtKl"
      },
      "source": [
        "list_d.append(56)"
      ],
      "execution_count": 117,
      "outputs": []
    },
    {
      "cell_type": "code",
      "metadata": {
        "colab": {
          "base_uri": "https://localhost:8080/"
        },
        "id": "A1P7G6NGA2nm",
        "outputId": "112a61be-d896-4a99-b2cd-c3be85393551"
      },
      "source": [
        "list_d"
      ],
      "execution_count": 118,
      "outputs": [
        {
          "output_type": "execute_result",
          "data": {
            "text/plain": [
              "['a', 56]"
            ]
          },
          "metadata": {
            "tags": []
          },
          "execution_count": 118
        }
      ]
    },
    {
      "cell_type": "markdown",
      "metadata": {
        "id": "GYLDMJSiBCQQ"
      },
      "source": [
        "#### การชี้ค่าใน list (Indexing)\n",
        "\n",
        "1.   ใช้ลำดับในการชี้\n",
        "2.   ลำดับเริ่มจาก 0 \n",
        "3.   สามารถชี้จากข้างหลังได้โดยใช้ negative index\n",
        "\n"
      ]
    },
    {
      "cell_type": "code",
      "metadata": {
        "colab": {
          "base_uri": "https://localhost:8080/"
        },
        "id": "J-3WfOqhA32s",
        "outputId": "bb06ed77-bfb7-415e-d7bc-ef168aff3c88"
      },
      "source": [
        "list_b"
      ],
      "execution_count": 119,
      "outputs": [
        {
          "output_type": "execute_result",
          "data": {
            "text/plain": [
              "[2, 'xyz', [1, 2, 0.2, 'abs'], [1, 2, 0.0]]"
            ]
          },
          "metadata": {
            "tags": []
          },
          "execution_count": 119
        }
      ]
    },
    {
      "cell_type": "code",
      "metadata": {
        "colab": {
          "base_uri": "https://localhost:8080/"
        },
        "id": "gFUKqlB5Bagu",
        "outputId": "6b430708-5b62-4851-a9af-2c208ca2336c"
      },
      "source": [
        "list_b[-1] # ชี้จากข้างหลังได้"
      ],
      "execution_count": 120,
      "outputs": [
        {
          "output_type": "execute_result",
          "data": {
            "text/plain": [
              "[1, 2, 0.0]"
            ]
          },
          "metadata": {
            "tags": []
          },
          "execution_count": 120
        }
      ]
    },
    {
      "cell_type": "markdown",
      "metadata": {
        "id": "Lc16tQQMCCko"
      },
      "source": [
        "### list slicing \n",
        "\n",
        "คือ  การตัด list เลือกบางส่วนของ list ได้"
      ]
    },
    {
      "cell_type": "code",
      "metadata": {
        "id": "jx-XR5JxBgOl"
      },
      "source": [
        "list_ex = [1,2,3,5,6,8,-1,20,50,0]"
      ],
      "execution_count": 78,
      "outputs": []
    },
    {
      "cell_type": "markdown",
      "metadata": {
        "id": "K3mRF3ITC3Q5"
      },
      "source": [
        "เราจะตัด list โดยเอาตั้งเเต่ [ตัวหน้า:ตัวก่อนตัวหลัง]\n",
        "\n",
        "ถ้าเป็นสัญลักษณ์คณิตศาสตร์ [ตัวหน้า:ตัวหลัง]-> [ตัวหน้า,ตัวหลัง)"
      ]
    },
    {
      "cell_type": "code",
      "metadata": {
        "colab": {
          "base_uri": "https://localhost:8080/"
        },
        "id": "x3LYKB6jCV7b",
        "outputId": "6be85d07-b6ad-4f06-b4c4-bb3983297f02"
      },
      "source": [
        "list_ex[1:6] # อยากได้ตัวที่ 1 - 5"
      ],
      "execution_count": 79,
      "outputs": [
        {
          "output_type": "execute_result",
          "data": {
            "text/plain": [
              "[2, 3, 5, 6, 8]"
            ]
          },
          "metadata": {
            "tags": []
          },
          "execution_count": 79
        }
      ]
    },
    {
      "cell_type": "code",
      "metadata": {
        "colab": {
          "base_uri": "https://localhost:8080/"
        },
        "id": "oZ26pmasCj3m",
        "outputId": "0dde80c5-b689-4d58-de33-428cadca45a6"
      },
      "source": [
        "list_ex[4:] # คือเอาจนถึงตัวสุดท้าย"
      ],
      "execution_count": 80,
      "outputs": [
        {
          "output_type": "execute_result",
          "data": {
            "text/plain": [
              "[6, 8, -1, 20, 50, 0]"
            ]
          },
          "metadata": {
            "tags": []
          },
          "execution_count": 80
        }
      ]
    },
    {
      "cell_type": "code",
      "metadata": {
        "colab": {
          "base_uri": "https://localhost:8080/"
        },
        "id": "zBil77pNDe6b",
        "outputId": "7db8c107-863c-4454-ab13-5116b0773441"
      },
      "source": [
        "list_ex[:6] # คือเอาตั้งเเต่ตัวเเรก จนถึงตัวที่ 6"
      ],
      "execution_count": 81,
      "outputs": [
        {
          "output_type": "execute_result",
          "data": {
            "text/plain": [
              "[1, 2, 3, 5, 6, 8]"
            ]
          },
          "metadata": {
            "tags": []
          },
          "execution_count": 81
        }
      ]
    },
    {
      "cell_type": "markdown",
      "metadata": {
        "id": "GtXJLG9nELEf"
      },
      "source": [
        "[จุดเริ่มต้น:จุดสุดท้าย:step]"
      ]
    },
    {
      "cell_type": "code",
      "metadata": {
        "colab": {
          "base_uri": "https://localhost:8080/"
        },
        "id": "ZpZjoFKNEVKH",
        "outputId": "e2b569c9-3a6d-4064-8475-0362aa652f52"
      },
      "source": [
        "list_ex"
      ],
      "execution_count": 82,
      "outputs": [
        {
          "output_type": "execute_result",
          "data": {
            "text/plain": [
              "[1, 2, 3, 5, 6, 8, -1, 20, 50, 0]"
            ]
          },
          "metadata": {
            "tags": []
          },
          "execution_count": 82
        }
      ]
    },
    {
      "cell_type": "code",
      "metadata": {
        "colab": {
          "base_uri": "https://localhost:8080/"
        },
        "id": "ryEPGBvFDmz9",
        "outputId": "70062fd0-7f3a-4292-bfa9-8d2556537aba"
      },
      "source": [
        "list_ex[::2] # ตัวเเรกไปจนถึงตัวสุดท้าย step 2 คือกระโดด 2"
      ],
      "execution_count": 83,
      "outputs": [
        {
          "output_type": "execute_result",
          "data": {
            "text/plain": [
              "[1, 3, 6, -1, 50]"
            ]
          },
          "metadata": {
            "tags": []
          },
          "execution_count": 83
        }
      ]
    },
    {
      "cell_type": "code",
      "metadata": {
        "colab": {
          "base_uri": "https://localhost:8080/"
        },
        "id": "9cJmkKr1EAfE",
        "outputId": "014aafbf-80a2-4bfc-bebb-57b8dd287435"
      },
      "source": [
        "list_ex[::-1] # การกลับ list "
      ],
      "execution_count": 84,
      "outputs": [
        {
          "output_type": "execute_result",
          "data": {
            "text/plain": [
              "[0, 50, 20, -1, 8, 6, 5, 3, 2, 1]"
            ]
          },
          "metadata": {
            "tags": []
          },
          "execution_count": 84
        }
      ]
    },
    {
      "cell_type": "code",
      "metadata": {
        "colab": {
          "base_uri": "https://localhost:8080/",
          "height": 34
        },
        "id": "Cu5vmUzzEsPE",
        "outputId": "ada6508b-ed87-4b90-ad2b-61df9574cc8a"
      },
      "source": [
        "a"
      ],
      "execution_count": 85,
      "outputs": [
        {
          "output_type": "execute_result",
          "data": {
            "application/vnd.google.colaboratory.intrinsic+json": {
              "type": "string"
            },
            "text/plain": [
              "'Stat KKU'"
            ]
          },
          "metadata": {
            "tags": []
          },
          "execution_count": 85
        }
      ]
    },
    {
      "cell_type": "code",
      "metadata": {
        "colab": {
          "base_uri": "https://localhost:8080/",
          "height": 34
        },
        "id": "yi8g7pdoE42M",
        "outputId": "b1438a01-7dd8-4a76-c809-bfe786383af3"
      },
      "source": [
        "a[5:]"
      ],
      "execution_count": 86,
      "outputs": [
        {
          "output_type": "execute_result",
          "data": {
            "application/vnd.google.colaboratory.intrinsic+json": {
              "type": "string"
            },
            "text/plain": [
              "'KKU'"
            ]
          },
          "metadata": {
            "tags": []
          },
          "execution_count": 86
        }
      ]
    },
    {
      "cell_type": "code",
      "metadata": {
        "colab": {
          "base_uri": "https://localhost:8080/",
          "height": 34
        },
        "id": "w1MAJx5pFDbt",
        "outputId": "8298db6a-9d5e-4769-c4b0-1464fc3c03f6"
      },
      "source": [
        "a[-3:]"
      ],
      "execution_count": 87,
      "outputs": [
        {
          "output_type": "execute_result",
          "data": {
            "application/vnd.google.colaboratory.intrinsic+json": {
              "type": "string"
            },
            "text/plain": [
              "'KKU'"
            ]
          },
          "metadata": {
            "tags": []
          },
          "execution_count": 87
        }
      ]
    },
    {
      "cell_type": "code",
      "metadata": {
        "colab": {
          "base_uri": "https://localhost:8080/",
          "height": 34
        },
        "id": "fEwR6zDoFwbb",
        "outputId": "a74e3a10-e90b-46d8-a481-124ee9eb6f22"
      },
      "source": [
        "a[5::]"
      ],
      "execution_count": 88,
      "outputs": [
        {
          "output_type": "execute_result",
          "data": {
            "application/vnd.google.colaboratory.intrinsic+json": {
              "type": "string"
            },
            "text/plain": [
              "'KKU'"
            ]
          },
          "metadata": {
            "tags": []
          },
          "execution_count": 88
        }
      ]
    },
    {
      "cell_type": "code",
      "metadata": {
        "colab": {
          "base_uri": "https://localhost:8080/",
          "height": 34
        },
        "id": "5iDU2bw5FyYN",
        "outputId": "9c33e86d-34c0-4989-9379-919f706a6ab3"
      },
      "source": [
        "a[5:8]"
      ],
      "execution_count": 89,
      "outputs": [
        {
          "output_type": "execute_result",
          "data": {
            "application/vnd.google.colaboratory.intrinsic+json": {
              "type": "string"
            },
            "text/plain": [
              "'KKU'"
            ]
          },
          "metadata": {
            "tags": []
          },
          "execution_count": 89
        }
      ]
    },
    {
      "cell_type": "code",
      "metadata": {
        "colab": {
          "base_uri": "https://localhost:8080/",
          "height": 34
        },
        "id": "8CihkmNlF_jE",
        "outputId": "e63782f0-3e6d-44cf-d129-eedee37bfcb4"
      },
      "source": [
        "a[-3::]"
      ],
      "execution_count": 90,
      "outputs": [
        {
          "output_type": "execute_result",
          "data": {
            "application/vnd.google.colaboratory.intrinsic+json": {
              "type": "string"
            },
            "text/plain": [
              "'KKU'"
            ]
          },
          "metadata": {
            "tags": []
          },
          "execution_count": 90
        }
      ]
    },
    {
      "cell_type": "markdown",
      "metadata": {
        "id": "b4TtmWLUGlL-"
      },
      "source": [
        "### list + list"
      ]
    },
    {
      "cell_type": "code",
      "metadata": {
        "colab": {
          "base_uri": "https://localhost:8080/"
        },
        "id": "10ErZapsGEb6",
        "outputId": "e85415d6-cfe6-4527-d8c6-c8d879deb007"
      },
      "source": [
        "print(list_a)\n",
        "print(list_b)"
      ],
      "execution_count": 91,
      "outputs": [
        {
          "output_type": "stream",
          "text": [
            "[1, 2, 0.2, 'abs']\n",
            "[2, 'xyz', [1, 2, 0.2, 'abs'], [1, 2, 0.0]]\n"
          ],
          "name": "stdout"
        }
      ]
    },
    {
      "cell_type": "code",
      "metadata": {
        "colab": {
          "base_uri": "https://localhost:8080/"
        },
        "id": "tDoX6Ff_G5wT",
        "outputId": "de730c75-c8f6-471b-b82a-4538b13cb23b"
      },
      "source": [
        "list_a + list_b # คือ เอา list สองอันมาต่อกันเลย"
      ],
      "execution_count": 92,
      "outputs": [
        {
          "output_type": "execute_result",
          "data": {
            "text/plain": [
              "[1, 2, 0.2, 'abs', 2, 'xyz', [1, 2, 0.2, 'abs'], [1, 2, 0.0]]"
            ]
          },
          "metadata": {
            "tags": []
          },
          "execution_count": 92
        }
      ]
    },
    {
      "cell_type": "markdown",
      "metadata": {
        "id": "1k8lZHXXLRj3"
      },
      "source": [
        "#### format string"
      ]
    },
    {
      "cell_type": "markdown",
      "metadata": {
        "id": "_RK_z6SnLxMc"
      },
      "source": [
        "\n",
        "\n",
        "```python\n",
        "f'string{ตัวเเปร}'\n",
        "```\n",
        "{} เรียกว่า curly brackets \n"
      ]
    },
    {
      "cell_type": "code",
      "metadata": {
        "colab": {
          "base_uri": "https://localhost:8080/",
          "height": 34
        },
        "id": "0LAWzUciLVSt",
        "outputId": "4c65790f-0d83-4a3c-ad34-9fcc35642493"
      },
      "source": [
        "f'ตัวเเปร list_a มีค่าคือ {list_a}' # ภายใน {} คือ ค่า"
      ],
      "execution_count": 93,
      "outputs": [
        {
          "output_type": "execute_result",
          "data": {
            "application/vnd.google.colaboratory.intrinsic+json": {
              "type": "string"
            },
            "text/plain": [
              "\"ตัวเเปร list_a มีค่าคือ [1, 2, 0.2, 'abs']\""
            ]
          },
          "metadata": {
            "tags": []
          },
          "execution_count": 93
        }
      ]
    },
    {
      "cell_type": "markdown",
      "metadata": {
        "id": "HxBLnYExHhOv"
      },
      "source": [
        "## Loop เป็น การวนซ้ำ\n",
        "\n",
        "ทำงานซ้ำๆ หรือ ทำงานคล้ายๆกัน\n"
      ]
    },
    {
      "cell_type": "markdown",
      "metadata": {
        "id": "dRzikHV3KStw"
      },
      "source": [
        "indent เเปลว่าเว้น\n",
        "```python\n",
        "for ตัวเเปรที่จะรับค่าจากลิสต์ in ลิสต์ที่จะนำมาวนลูป:\n",
        "    do something # in loop\n",
        "    do another thing # in loop\n",
        "do other things # out side loop\n",
        "```\n",
        "\n"
      ]
    },
    {
      "cell_type": "code",
      "metadata": {
        "colab": {
          "base_uri": "https://localhost:8080/"
        },
        "id": "_6BZany-JuZJ",
        "outputId": "7fd0827a-f789-40a1-a5a4-330fc769dcc8"
      },
      "source": [
        "for i in [1,2,3,4,5]:\n",
        "    print(i+1) # อันดับที่ 1"
      ],
      "execution_count": 94,
      "outputs": [
        {
          "output_type": "stream",
          "text": [
            "2\n",
            "3\n",
            "4\n",
            "5\n",
            "6\n"
          ],
          "name": "stdout"
        }
      ]
    },
    {
      "cell_type": "code",
      "metadata": {
        "colab": {
          "base_uri": "https://localhost:8080/"
        },
        "id": "UxnfhJrzMXjc",
        "outputId": "c1e47b9e-d379-4914-d19c-bb500b3a2d12"
      },
      "source": [
        "for x in [1,2,3,4,5]:\n",
        "    print(f'ค่าตัวเเปร x คือ {x} เเละ x+2={x+2}')"
      ],
      "execution_count": 95,
      "outputs": [
        {
          "output_type": "stream",
          "text": [
            "ค่าตัวเเปร x คือ 1 เเละ x+2=3\n",
            "ค่าตัวเเปร x คือ 2 เเละ x+2=4\n",
            "ค่าตัวเเปร x คือ 3 เเละ x+2=5\n",
            "ค่าตัวเเปร x คือ 4 เเละ x+2=6\n",
            "ค่าตัวเเปร x คือ 5 เเละ x+2=7\n"
          ],
          "name": "stdout"
        }
      ]
    },
    {
      "cell_type": "code",
      "metadata": {
        "colab": {
          "base_uri": "https://localhost:8080/"
        },
        "id": "mqxD5U82M6Bd",
        "outputId": "4608a966-a4df-42c7-d434-abb10b4aefb1"
      },
      "source": [
        "list5=[1,2,3,4,5]\n",
        "for x in list5:\n",
        "    print(f'ค่าตัวเเปร x คือ {x} เเละ x+2={x+2}')"
      ],
      "execution_count": 96,
      "outputs": [
        {
          "output_type": "stream",
          "text": [
            "ค่าตัวเเปร x คือ 1 เเละ x+2=3\n",
            "ค่าตัวเเปร x คือ 2 เเละ x+2=4\n",
            "ค่าตัวเเปร x คือ 3 เเละ x+2=5\n",
            "ค่าตัวเเปร x คือ 4 เเละ x+2=6\n",
            "ค่าตัวเเปร x คือ 5 เเละ x+2=7\n"
          ],
          "name": "stdout"
        }
      ]
    },
    {
      "cell_type": "code",
      "metadata": {
        "colab": {
          "base_uri": "https://localhost:8080/"
        },
        "id": "65zxzkd9NEwd",
        "outputId": "a72c4588-5f33-4102-e60f-6aac9d1ebe79"
      },
      "source": [
        "list(range(10)) # สร้าง list ที่เริ่มตั้งเเต่ 0 ถึง 9(ก่อนหน้าตัวมันเอง)"
      ],
      "execution_count": 97,
      "outputs": [
        {
          "output_type": "execute_result",
          "data": {
            "text/plain": [
              "[0, 1, 2, 3, 4, 5, 6, 7, 8, 9]"
            ]
          },
          "metadata": {
            "tags": []
          },
          "execution_count": 97
        }
      ]
    },
    {
      "cell_type": "code",
      "metadata": {
        "colab": {
          "base_uri": "https://localhost:8080/"
        },
        "id": "VLq35bEgNTsc",
        "outputId": "1bdaa486-0e09-4b5c-f824-464a7b2c9e0d"
      },
      "source": [
        "for i in range(2,7):\n",
        "    print(i) #คือเอาตั้งเเต่ 2 ถึง ตัวก่อนหน้า คือ 6"
      ],
      "execution_count": 98,
      "outputs": [
        {
          "output_type": "stream",
          "text": [
            "2\n",
            "3\n",
            "4\n",
            "5\n",
            "6\n"
          ],
          "name": "stdout"
        }
      ]
    },
    {
      "cell_type": "code",
      "metadata": {
        "colab": {
          "base_uri": "https://localhost:8080/"
        },
        "id": "OecfkBdxN1V9",
        "outputId": "e5cb1617-334a-464d-93d2-4b9b5a0ce482"
      },
      "source": [
        "for i in range(2,7,2): # เลขตั้งเเต่ 2 จนถึง 6 เเต่กระโดดทีละ 2\n",
        "    print(i)"
      ],
      "execution_count": 99,
      "outputs": [
        {
          "output_type": "stream",
          "text": [
            "2\n",
            "4\n",
            "6\n"
          ],
          "name": "stdout"
        }
      ]
    },
    {
      "cell_type": "code",
      "metadata": {
        "colab": {
          "base_uri": "https://localhost:8080/"
        },
        "id": "IE0e38pOJl8X",
        "outputId": "b2ab302f-fe46-4ae0-b842-6449d32bbb45"
      },
      "source": [
        "for i in range(5):\n",
        "    print('hahaha') # print  hahaha 5 รอบ"
      ],
      "execution_count": 100,
      "outputs": [
        {
          "output_type": "stream",
          "text": [
            "hahaha\n",
            "hahaha\n",
            "hahaha\n",
            "hahaha\n",
            "hahaha\n"
          ],
          "name": "stdout"
        }
      ]
    },
    {
      "cell_type": "code",
      "metadata": {
        "colab": {
          "base_uri": "https://localhost:8080/"
        },
        "id": "Clk5ILVgOdgl",
        "outputId": "affe9433-495e-4458-857b-93610ef6b1c9"
      },
      "source": [
        "for i in range(5):\n",
        "    print('hahaha')\n",
        "    x = i + 3\n",
        "    print(f'i={i} x={x}')"
      ],
      "execution_count": 101,
      "outputs": [
        {
          "output_type": "stream",
          "text": [
            "hahaha\n",
            "i=0 x=3\n",
            "hahaha\n",
            "i=1 x=4\n",
            "hahaha\n",
            "i=2 x=5\n",
            "hahaha\n",
            "i=3 x=6\n",
            "hahaha\n",
            "i=4 x=7\n"
          ],
          "name": "stdout"
        }
      ]
    },
    {
      "cell_type": "markdown",
      "metadata": {
        "id": "HsMsdBJLPCCs"
      },
      "source": [
        "### Nested loop คือ loop ซ้อน loop"
      ]
    },
    {
      "cell_type": "code",
      "metadata": {
        "colab": {
          "base_uri": "https://localhost:8080/"
        },
        "id": "I3t2pf9OPBc2",
        "outputId": "d3a7cdf9-35a7-4b89-8e53-1831bb6e5d25"
      },
      "source": [
        "for i in range(3):\n",
        "    print(f'now i = {i}')\n",
        "    print('start j loop')\n",
        "    for j in range(4): # วน j ก่อนค่อยเปลี่ยน i\n",
        "        print(f'i = {i} j= {j} i+j ={i+j}')\n",
        "    print('end j loop')    "
      ],
      "execution_count": 102,
      "outputs": [
        {
          "output_type": "stream",
          "text": [
            "now i = 0\n",
            "start j loop\n",
            "i = 0 j= 0 i+j =0\n",
            "i = 0 j= 1 i+j =1\n",
            "i = 0 j= 2 i+j =2\n",
            "i = 0 j= 3 i+j =3\n",
            "end j loop\n",
            "now i = 1\n",
            "start j loop\n",
            "i = 1 j= 0 i+j =1\n",
            "i = 1 j= 1 i+j =2\n",
            "i = 1 j= 2 i+j =3\n",
            "i = 1 j= 3 i+j =4\n",
            "end j loop\n",
            "now i = 2\n",
            "start j loop\n",
            "i = 2 j= 0 i+j =2\n",
            "i = 2 j= 1 i+j =3\n",
            "i = 2 j= 2 i+j =4\n",
            "i = 2 j= 3 i+j =5\n",
            "end j loop\n"
          ],
          "name": "stdout"
        }
      ]
    },
    {
      "cell_type": "markdown",
      "metadata": {
        "id": "9L-e8akdJoSn"
      },
      "source": [
        "### Condition (if statement)"
      ]
    },
    {
      "cell_type": "markdown",
      "metadata": {
        "id": "91C9a1GFFiX3"
      },
      "source": [
        "\n",
        "\n",
        "```python\n",
        "if เงื่อนไขที่จะตรวจสอบ(โดยใช้สัญลักษณ์ ==,!=,<,>,<=,>=):\n",
        "    ถ้าเงื่อนไขเป็นจริง ทำงาน 1\n",
        "    ถ้าเงื่อนไขเป็นจริง ทำงาน 2\n",
        "\n",
        "```\n",
        "\n"
      ]
    },
    {
      "cell_type": "code",
      "metadata": {
        "colab": {
          "base_uri": "https://localhost:8080/"
        },
        "id": "rnkB8ID7G5GG",
        "outputId": "bed50f07-ea62-4cf9-8f12-5fb0e6c78b56"
      },
      "source": [
        "stringx = 'sadfasdfsadfweirjwersdfspadofgj'\n",
        "\n",
        "if len(stringx) > 30:\n",
        "    print(f'{stringx} is longer than 30 characters') # มีการเช็คเเล้ว"
      ],
      "execution_count": 103,
      "outputs": [
        {
          "output_type": "stream",
          "text": [
            "sadfasdfsadfweirjwersdfspadofgj is longer than 30 characters\n"
          ],
          "name": "stdout"
        }
      ]
    },
    {
      "cell_type": "code",
      "metadata": {
        "id": "JWtIAQZWF5hI"
      },
      "source": [
        "stringx = 'sadfasdfsadfweirjwersdfspadofgj'\n",
        "\n",
        "if len(stringx) > 100:\n",
        "    print(f'{stringx} is longer than 100 characters') # มีการเช็คเเล้ว"
      ],
      "execution_count": 104,
      "outputs": []
    },
    {
      "cell_type": "markdown",
      "metadata": {
        "id": "KB_Hy0dqHoZL"
      },
      "source": [
        "```python\n",
        "if เงื่อนไขที่จะตรวจสอบ(โดยใช้สัญลักษณ์ ==,!=,<,>,<=,>=):\n",
        "    ถ้าเงื่อนไขเป็นจริง ทำงาน 1\n",
        "    ถ้าเงื่อนไขเป็นจริง ทำงาน 2\n",
        "else:# ตรวจสอบเงื่อนไขข้างบนเเล้วไม่เป็นจริง\n",
        "    ทำงานที่ x\n",
        "\n",
        "```\n",
        "\n"
      ]
    },
    {
      "cell_type": "code",
      "metadata": {
        "colab": {
          "base_uri": "https://localhost:8080/"
        },
        "id": "ULl3s8ptH-p1",
        "outputId": "376ef4d0-7511-4ade-83a6-04dab3f8a3b3"
      },
      "source": [
        "stringx = 'sadfasdfsadfweirjwersdfspadofgj'\n",
        "\n",
        "if len(stringx) > 100:\n",
        "    print(f'{stringx} is longer than 100 characters') # มีการเช็คเเล้ว\n",
        "else:\n",
        "    print(f'{stringx} in {len(stringx)} characters long') # มันจะเช็คว่ามีจำนวนตัวอักษรเท่าไหร่"
      ],
      "execution_count": 105,
      "outputs": [
        {
          "output_type": "stream",
          "text": [
            "sadfasdfsadfweirjwersdfspadofgj in 31 characters long\n"
          ],
          "name": "stdout"
        }
      ]
    },
    {
      "cell_type": "markdown",
      "metadata": {
        "id": "t28VWELNJGb_"
      },
      "source": [
        "```python\n",
        "if เงื่อนไขที่จะตรวจสอบ(โดยใช้สัญลักษณ์ ==,!=,<,>,<=,>=):\n",
        "    ถ้าเงื่อนไขเป็นจริง ทำงาน 1\n",
        "    ถ้าเงื่อนไขเป็นจริง ทำงาน 2\n",
        "elif เงื่อนไขที่จะตรวจสอบต่อไปถ้าเงื่อนไขข้างบนไม่เป็นจริง:\n",
        "    ถ้าเงื่อนไขเป็นจริง ทำงานที่ a1\n",
        "    ถ้าเงื่อนไขเป็นจริง ทำงานที่ a2\n",
        "elif เงื่อนไขที่จะตรวจสอบต่อไปถ้าเงื่อนไขข้างบนไม่เป็นจริง:\n",
        "    ถ้าเงื่อนไขเป็นจริง ทำงานที่ b1\n",
        "    ถ้าเงื่อนไขเป็นจริง ทำงานที่ b2\n",
        "else:# ตรวจสอบเงื่อนไขข้างบนเเล้วไม่เป็นจริง\n",
        "    ทำงานที่ x\n",
        "\n",
        "```"
      ]
    },
    {
      "cell_type": "code",
      "metadata": {
        "colab": {
          "base_uri": "https://localhost:8080/"
        },
        "id": "H3hLASuqKwuN",
        "outputId": "aa0116dc-0e6d-414e-970e-51ee8caffbb0"
      },
      "source": [
        "password = '12345'\n",
        "\n",
        "input_pass = '123sf'\n",
        "if input_pass == password:\n",
        "    print(f'{stringx} is longer than 100 characters')\n",
        "elif len(input_pass) > len(password):\n",
        "    print('Too long, try again!')\n",
        "elif len(input_pass) < len(password):\n",
        "    print('Too short, try again!')   \n",
        "else:\n",
        "    print('Wrong password, try again!')        "
      ],
      "execution_count": 106,
      "outputs": [
        {
          "output_type": "stream",
          "text": [
            "Wrong password, try again!\n"
          ],
          "name": "stdout"
        }
      ]
    },
    {
      "cell_type": "markdown",
      "metadata": {
        "id": "PaXouSqYK6Gn"
      },
      "source": [
        "Quiz 1 หา min  "
      ]
    },
    {
      "cell_type": "code",
      "metadata": {
        "id": "fNPO4f3nNjrG"
      },
      "source": [
        "list_ex = [1,5,9,-19,-2,0] # หาค่าน้อยที่สุดใน list_ex โดยไม่ใช้ function min (commit ก่อน 10:30:Quiz1)"
      ],
      "execution_count": 107,
      "outputs": []
    },
    {
      "cell_type": "code",
      "metadata": {
        "colab": {
          "base_uri": "https://localhost:8080/"
        },
        "id": "9A4mEcaLN6Kc",
        "outputId": "0bb5b30c-92eb-4202-9c24-e166e21b81ff"
      },
      "source": [
        "min = 10000000\n",
        "\n",
        "for i in list_ex:\n",
        "  if i < min:\n",
        "      min = i\n",
        "\n",
        "print(min)"
      ],
      "execution_count": 108,
      "outputs": [
        {
          "output_type": "stream",
          "text": [
            "-19\n"
          ],
          "name": "stdout"
        }
      ]
    },
    {
      "cell_type": "code",
      "metadata": {
        "colab": {
          "base_uri": "https://localhost:8080/"
        },
        "id": "cIic_gehUHIK",
        "outputId": "b7ea890a-39e3-4143-e31c-855c1a6692f1"
      },
      "source": [
        "min = 10000000\n",
        "print(list_ex)\n",
        "for i in list_ex:\n",
        "  print(f'now i = {i}, min = {min}')\n",
        "  print('Start condition')\n",
        "  if i < min:\n",
        "      print(f'i < min, update min -> {i}')\n",
        "      min = i\n",
        "  else:\n",
        "      print('i >=min, not update')\n",
        "  print('end condition, go to next i')    \n",
        "print(min)"
      ],
      "execution_count": 109,
      "outputs": [
        {
          "output_type": "stream",
          "text": [
            "[1, 5, 9, -19, -2, 0]\n",
            "now i = 1, min = 10000000\n",
            "Start condition\n",
            "i < min, update min -> 1\n",
            "end condition, go to next i\n",
            "now i = 5, min = 1\n",
            "Start condition\n",
            "i >=min, not update\n",
            "end condition, go to next i\n",
            "now i = 9, min = 1\n",
            "Start condition\n",
            "i >=min, not update\n",
            "end condition, go to next i\n",
            "now i = -19, min = 1\n",
            "Start condition\n",
            "i < min, update min -> -19\n",
            "end condition, go to next i\n",
            "now i = -2, min = -19\n",
            "Start condition\n",
            "i >=min, not update\n",
            "end condition, go to next i\n",
            "now i = 0, min = -19\n",
            "Start condition\n",
            "i >=min, not update\n",
            "end condition, go to next i\n",
            "-19\n"
          ],
          "name": "stdout"
        }
      ]
    },
    {
      "cell_type": "markdown",
      "metadata": {
        "id": "LFMvuf_OK-xM"
      },
      "source": [
        "HW3 ตัดเกรด"
      ]
    },
    {
      "cell_type": "code",
      "metadata": {
        "id": "JmEK-7SSVuiq"
      },
      "source": [
        "score = [49,65,70,95,82,55,89,20,77,77,81,59,10] # ตัดเกรด คะเเนนใน list score (ใช้ if กับ for)"
      ],
      "execution_count": 110,
      "outputs": []
    },
    {
      "cell_type": "code",
      "metadata": {
        "id": "392Qlu1gv-Xh",
        "colab": {
          "base_uri": "https://localhost:8080/"
        },
        "outputId": "5d65f1fd-1560-4276-f53e-44f0c2157eb9"
      },
      "source": [
        "for i in score:\n",
        "  if i >= 80:\n",
        "    print(f'คะเเนน เท่ากับ {i} อยู่ในเกณฑ์ A')\n",
        "  elif i>=75:\n",
        "    print(f'คะเเนน เท่ากับ {i} อยู่ในเกณฑ์ B+')\n",
        "  elif i>=70:\n",
        "    print(f'คะเเนน เท่ากับ {i} อยู่ในเกณฑ์ B')\n",
        "  elif i>=65:\n",
        "    print(f'คะเเนน เท่ากับ {i} อยู่ในเกณฑ์ C+')\n",
        "  elif i>=60:\n",
        "    print(f'คะเเนน เท่ากับ {i} อยู่ในเกณฑ์ C')\n",
        "  elif i>=55:\n",
        "    print(f'คะเเนน เท่ากับ {i} อยู่ในเกณฑ์ D+')\n",
        "  elif i>=50:\n",
        "    print(f'คะเเนน เท่ากับ {i} อยู่ในเกณฑ์ D')\n",
        "  else:\n",
        "    print(f'คะเเนน เท่ากับ {i} อยู่ในเกณฑ์ F ')   "
      ],
      "execution_count": 111,
      "outputs": [
        {
          "output_type": "stream",
          "text": [
            "คะเเนน เท่ากับ 49 อยู่ในเกณฑ์ F \n",
            "คะเเนน เท่ากับ 65 อยู่ในเกณฑ์ C+\n",
            "คะเเนน เท่ากับ 70 อยู่ในเกณฑ์ B\n",
            "คะเเนน เท่ากับ 95 อยู่ในเกณฑ์ A\n",
            "คะเเนน เท่ากับ 82 อยู่ในเกณฑ์ A\n",
            "คะเเนน เท่ากับ 55 อยู่ในเกณฑ์ D+\n",
            "คะเเนน เท่ากับ 89 อยู่ในเกณฑ์ A\n",
            "คะเเนน เท่ากับ 20 อยู่ในเกณฑ์ F \n",
            "คะเเนน เท่ากับ 77 อยู่ในเกณฑ์ B+\n",
            "คะเเนน เท่ากับ 77 อยู่ในเกณฑ์ B+\n",
            "คะเเนน เท่ากับ 81 อยู่ในเกณฑ์ A\n",
            "คะเเนน เท่ากับ 59 อยู่ในเกณฑ์ D+\n",
            "คะเเนน เท่ากับ 10 อยู่ในเกณฑ์ F \n"
          ],
          "name": "stdout"
        }
      ]
    },
    {
      "cell_type": "markdown",
      "metadata": {
        "id": "lRl3-GlzJq0k"
      },
      "source": [
        "#### Function\n",
        "\n",
        "```python\n",
        "def ชื่อฟังก์ชั่น(input1,input2,...):\n",
        "    งานxxx\n",
        "    งานyyy\n",
        "    return output\n",
        "```\n",
        "ส่วนประกอบสำคัญ\n",
        "*  input\n",
        "*  process (ไม่มีไม่ได้)\n",
        "*  output\n"
      ]
    },
    {
      "cell_type": "markdown",
      "metadata": {
        "id": "BuF9ULSzyuVB"
      },
      "source": [
        "#### Example1"
      ]
    },
    {
      "cell_type": "code",
      "metadata": {
        "id": "wTF0pHbj0T62"
      },
      "source": [
        "def grading(score):   # กด ctrl+[ เพื่อเลื่อนเข้าเลื่อนออกของ indent\n",
        "\n",
        "    if score >= 80:\n",
        "        grade = 'A'\n",
        "    elif score>=75:\n",
        "        grade = 'B+'\n",
        "    elif score>=70:\n",
        "        grade = 'B'\n",
        "    elif score>=65:\n",
        "        grade = 'C+'\n",
        "    elif score>=60:\n",
        "        grade = 'C'\n",
        "    elif score>=55:\n",
        "        grade = 'D+'\n",
        "    elif score>=50:\n",
        "        grade = 'D'\n",
        "    else:\n",
        "        grade = 'F'\n",
        "\n",
        "    return grade"
      ],
      "execution_count": 121,
      "outputs": []
    },
    {
      "cell_type": "code",
      "metadata": {
        "id": "knX6jIs-0TdZ",
        "outputId": "e72b5e24-b8c6-46aa-8a46-a83d0034601a",
        "colab": {
          "base_uri": "https://localhost:8080/"
        }
      },
      "source": [
        "score = [49,65,70,95,82,55,89,20,77,77,81,59,10]\n",
        "for i in score:\n",
        "    print(f'คะเเนน {i} ได้เกรด {grading(i)}') # ล้อมวงเล็บไว้ที่ {} ถ้าเป็นค่าตัวเลข"
      ],
      "execution_count": 123,
      "outputs": [
        {
          "output_type": "stream",
          "text": [
            "คะเเนน 49 ได้เกรด F\n",
            "คะเเนน 65 ได้เกรด C+\n",
            "คะเเนน 70 ได้เกรด B\n",
            "คะเเนน 95 ได้เกรด A\n",
            "คะเเนน 82 ได้เกรด A\n",
            "คะเเนน 55 ได้เกรด D+\n",
            "คะเเนน 89 ได้เกรด A\n",
            "คะเเนน 20 ได้เกรด F\n",
            "คะเเนน 77 ได้เกรด B+\n",
            "คะเเนน 77 ได้เกรด B+\n",
            "คะเเนน 81 ได้เกรด A\n",
            "คะเเนน 59 ได้เกรด D+\n",
            "คะเเนน 10 ได้เกรด F\n"
          ],
          "name": "stdout"
        }
      ]
    },
    {
      "cell_type": "code",
      "metadata": {
        "id": "7K2hsGlz01jC"
      },
      "source": [
        "def grading_list(list_score):\n",
        "    grade_list = []\n",
        "    for score in list_score:\n",
        "        if score >= 80:\n",
        "            grade = 'A'\n",
        "        elif score>=75:\n",
        "            grade = 'B+'\n",
        "        elif score>=70:\n",
        "            grade = 'B'\n",
        "        elif score>=65:\n",
        "            grade = 'C+'\n",
        "        elif score>=60:\n",
        "            grade = 'C'\n",
        "        elif score>=55:\n",
        "            grade = 'D+'\n",
        "        elif score>=50:\n",
        "            grade = 'D'\n",
        "        else:\n",
        "            grade = 'F'\n",
        "        grade_list.append([score,grade]) # ใส่ในวงเล็บเป็นคะเเนน,เกรดไป เพื่อreturn\n",
        "    return grade_list"
      ],
      "execution_count": 127,
      "outputs": []
    },
    {
      "cell_type": "code",
      "metadata": {
        "id": "2F3f6O4v3Dc5",
        "outputId": "7c895926-8fcf-4186-8d78-768317c36e13",
        "colab": {
          "base_uri": "https://localhost:8080/"
        }
      },
      "source": [
        "g = grading_list(score)\n",
        "g"
      ],
      "execution_count": 128,
      "outputs": [
        {
          "output_type": "execute_result",
          "data": {
            "text/plain": [
              "[[49, 'F'],\n",
              " [65, 'C+'],\n",
              " [70, 'B'],\n",
              " [95, 'A'],\n",
              " [82, 'A'],\n",
              " [55, 'D+'],\n",
              " [89, 'A'],\n",
              " [20, 'F'],\n",
              " [77, 'B+'],\n",
              " [77, 'B+'],\n",
              " [81, 'A'],\n",
              " [59, 'D+'],\n",
              " [10, 'F']]"
            ]
          },
          "metadata": {
            "tags": []
          },
          "execution_count": 128
        }
      ]
    },
    {
      "cell_type": "code",
      "metadata": {
        "id": "uNkiI6pN3MoA",
        "outputId": "f39c3a4d-9fa3-4142-a45e-8d7cf3b5557b",
        "colab": {
          "base_uri": "https://localhost:8080/"
        }
      },
      "source": [
        "for i in g:\n",
        "    print(f'คะเเนนน {i[0]} ได้เกรด {i[1]}')"
      ],
      "execution_count": 129,
      "outputs": [
        {
          "output_type": "stream",
          "text": [
            "คะเเนนน 49 ได้เกรด F\n",
            "คะเเนนน 65 ได้เกรด C+\n",
            "คะเเนนน 70 ได้เกรด B\n",
            "คะเเนนน 95 ได้เกรด A\n",
            "คะเเนนน 82 ได้เกรด A\n",
            "คะเเนนน 55 ได้เกรด D+\n",
            "คะเเนนน 89 ได้เกรด A\n",
            "คะเเนนน 20 ได้เกรด F\n",
            "คะเเนนน 77 ได้เกรด B+\n",
            "คะเเนนน 77 ได้เกรด B+\n",
            "คะเเนนน 81 ได้เกรด A\n",
            "คะเเนนน 59 ได้เกรด D+\n",
            "คะเเนนน 10 ได้เกรด F\n"
          ],
          "name": "stdout"
        }
      ]
    },
    {
      "cell_type": "code",
      "metadata": {
        "id": "53XILweP5TdY"
      },
      "source": [
        "def grading2(score):\n",
        "    if score >= 80:\n",
        "        return 'A'\n",
        "    elif score>=75:\n",
        "        return 'B+'\n",
        "    elif score>=70:\n",
        "        return 'B'\n",
        "    elif score>=65:\n",
        "        return 'C+'\n",
        "    elif score>=60:\n",
        "        return 'C'\n",
        "    elif score>=55:\n",
        "        return 'D+'\n",
        "    elif score>=50:\n",
        "        return 'D'\n",
        "    else:\n",
        "        return 'F'"
      ],
      "execution_count": 130,
      "outputs": []
    },
    {
      "cell_type": "code",
      "metadata": {
        "id": "R4kiaqjl7hRJ",
        "outputId": "57873acc-06f6-41a7-87b5-1460d9d03840",
        "colab": {
          "base_uri": "https://localhost:8080/"
        }
      },
      "source": [
        "score = [49,65,70,95,82,55,89,20,77,77,81,59,10]\n",
        "for i in score:\n",
        "    print(f'คะเเนน {i} ได้เกรด {grading2(i)}')"
      ],
      "execution_count": 131,
      "outputs": [
        {
          "output_type": "stream",
          "text": [
            "คะเเนน 49 ได้เกรด F\n",
            "คะเเนน 65 ได้เกรด C+\n",
            "คะเเนน 70 ได้เกรด B\n",
            "คะเเนน 95 ได้เกรด A\n",
            "คะเเนน 82 ได้เกรด A\n",
            "คะเเนน 55 ได้เกรด D+\n",
            "คะเเนน 89 ได้เกรด A\n",
            "คะเเนน 20 ได้เกรด F\n",
            "คะเเนน 77 ได้เกรด B+\n",
            "คะเเนน 77 ได้เกรด B+\n",
            "คะเเนน 81 ได้เกรด A\n",
            "คะเเนน 59 ได้เกรด D+\n",
            "คะเเนน 10 ได้เกรด F\n"
          ],
          "name": "stdout"
        }
      ]
    },
    {
      "cell_type": "markdown",
      "metadata": {
        "id": "95BzL4KV9GuP"
      },
      "source": [
        "Example2(ไม่มี input)"
      ]
    },
    {
      "cell_type": "code",
      "metadata": {
        "id": "UEhM_rGz7pqG"
      },
      "source": [
        "def mypi(): # เป็นฟังก์ชั่น พาย\n",
        "    return 3.14"
      ],
      "execution_count": 132,
      "outputs": []
    },
    {
      "cell_type": "code",
      "metadata": {
        "id": "hq8xmrKr9RJy",
        "outputId": "0fb1e8f5-d553-450b-b4e8-e8e963855028",
        "colab": {
          "base_uri": "https://localhost:8080/"
        }
      },
      "source": [
        "r=10\n",
        "print(f'รัศมี={r} จะมีเส้นรอบวง={2*mypi()*r}')"
      ],
      "execution_count": 133,
      "outputs": [
        {
          "output_type": "stream",
          "text": [
            "รัศมี=10 จะมีเส้นรอบวง=62.800000000000004\n"
          ],
          "name": "stdout"
        }
      ]
    },
    {
      "cell_type": "code",
      "metadata": {
        "id": "aTFbLZqN9doG",
        "outputId": "6f082757-f00e-444a-d4e5-5c47399995c3",
        "colab": {
          "base_uri": "https://localhost:8080/"
        }
      },
      "source": [
        "import math\n",
        "math.pi  # ไม่ใช่ฟังก์ชั่นเป็น ค่าที่เซ็ตไว้"
      ],
      "execution_count": 134,
      "outputs": [
        {
          "output_type": "execute_result",
          "data": {
            "text/plain": [
              "3.141592653589793"
            ]
          },
          "metadata": {
            "tags": []
          },
          "execution_count": 134
        }
      ]
    },
    {
      "cell_type": "markdown",
      "metadata": {
        "id": "h0K0dBUu929p"
      },
      "source": [
        "Example3 (ไม่มี Output) \n",
        "   \n",
        "    คือ ไม่มีการ return ออกมา"
      ]
    },
    {
      "cell_type": "code",
      "metadata": {
        "id": "T8gGIwFB9mX2"
      },
      "source": [
        "def grading_nooutput(score): \n",
        "    if score >= 80:\n",
        "        print('ได้เกรด A') \n",
        "    elif score>=75:\n",
        "        print('ได้เกรด B+') \n",
        "    elif score>=70:\n",
        "        print('ได้เกรด B') \n",
        "    elif score>=65:\n",
        "        print('ได้เกรด C+') \n",
        "    elif score>=60:\n",
        "        print('ได้เกรด C') \n",
        "    elif score>=55:\n",
        "        print('ได้เกรด D+') \n",
        "    elif score>=50:\n",
        "        print('ได้เกรด D') \n",
        "    else:\n",
        "        print('ได้เกรด F') "
      ],
      "execution_count": 135,
      "outputs": []
    },
    {
      "cell_type": "code",
      "metadata": {
        "id": "BrTYNwCQ-iSf",
        "outputId": "3533f209-5da5-43f9-ab2e-84657db47509",
        "colab": {
          "base_uri": "https://localhost:8080/"
        }
      },
      "source": [
        "score = [49,65,70,95,82,55,89,20,77,77,81,59,10]\n",
        "for i in score:\n",
        "    print(f'คะเเนน {i}',end=' ') # end='' คือสามารถทำ space ในเเต่ละบรรทัดได้\n",
        "    grading_nooutput(i)"
      ],
      "execution_count": 136,
      "outputs": [
        {
          "output_type": "stream",
          "text": [
            "คะเเนน 49 ได้เกรด F\n",
            "คะเเนน 65 ได้เกรด C+\n",
            "คะเเนน 70 ได้เกรด B\n",
            "คะเเนน 95 ได้เกรด A\n",
            "คะเเนน 82 ได้เกรด A\n",
            "คะเเนน 55 ได้เกรด D+\n",
            "คะเเนน 89 ได้เกรด A\n",
            "คะเเนน 20 ได้เกรด F\n",
            "คะเเนน 77 ได้เกรด B+\n",
            "คะเเนน 77 ได้เกรด B+\n",
            "คะเเนน 81 ได้เกรด A\n",
            "คะเเนน 59 ได้เกรด D+\n",
            "คะเเนน 10 ได้เกรด F\n"
          ],
          "name": "stdout"
        }
      ]
    },
    {
      "cell_type": "markdown",
      "metadata": {
        "id": "rLnmxH4K_nFd"
      },
      "source": [
        "Example4(ไม่มี input เเละ output)"
      ]
    },
    {
      "cell_type": "code",
      "metadata": {
        "id": "xIVWaOKc-sG2"
      },
      "source": [
        "def draw_rect(): # วาดรูปได้\n",
        "    print('===========')\n",
        "    print('|         |')\n",
        "    print('|         |')\n",
        "    print('===========')"
      ],
      "execution_count": 137,
      "outputs": []
    },
    {
      "cell_type": "code",
      "metadata": {
        "id": "X_eLxi3PAAWV",
        "outputId": "c4629cd4-f7c1-4949-f6f9-c1448f4287a2",
        "colab": {
          "base_uri": "https://localhost:8080/"
        }
      },
      "source": [
        "draw_rect()\n",
        "draw_rect()"
      ],
      "execution_count": 138,
      "outputs": [
        {
          "output_type": "stream",
          "text": [
            "===========\n",
            "|         |\n",
            "|         |\n",
            "===========\n",
            "===========\n",
            "|         |\n",
            "|         |\n",
            "===========\n"
          ],
          "name": "stdout"
        }
      ]
    },
    {
      "cell_type": "markdown",
      "metadata": {
        "id": "ag1evDHSA3pr"
      },
      "source": [
        "#### ลักษณะของ input(parameter) \n",
        "\n",
        "\n",
        "*   จำเป็นต้องใส่\n",
        "*   ไม่จำเป็นต้องใส่\n",
        "\n",
        "\n",
        "\n"
      ]
    },
    {
      "cell_type": "code",
      "metadata": {
        "id": "k4VQ9Fg7AEdt"
      },
      "source": [
        "def A(input1,input2 = 3): # จำเป็นต้องใส่ คือ input 1 ไม่จำเป็นต้องใส่ คือ input 2\n",
        "    return input1+input2"
      ],
      "execution_count": 139,
      "outputs": []
    },
    {
      "cell_type": "code",
      "metadata": {
        "id": "0jkIRgqvBrGX",
        "outputId": "813b0c2d-98e0-4edc-e17a-e06533770f90",
        "colab": {
          "base_uri": "https://localhost:8080/"
        }
      },
      "source": [
        "A(1) "
      ],
      "execution_count": 140,
      "outputs": [
        {
          "output_type": "execute_result",
          "data": {
            "text/plain": [
              "4"
            ]
          },
          "metadata": {
            "tags": []
          },
          "execution_count": 140
        }
      ]
    },
    {
      "cell_type": "code",
      "metadata": {
        "id": "sBe_sLCaB0cu",
        "outputId": "99f31767-b458-4af3-fd15-371d31375c6f",
        "colab": {
          "base_uri": "https://localhost:8080/"
        }
      },
      "source": [
        "A(1,6) # ถ้าใส่ input 2 ด้วยจะคิดเองเลย # การใส่ลำดับสำคัญ"
      ],
      "execution_count": 142,
      "outputs": [
        {
          "output_type": "execute_result",
          "data": {
            "text/plain": [
              "7"
            ]
          },
          "metadata": {
            "tags": []
          },
          "execution_count": 142
        }
      ]
    },
    {
      "cell_type": "code",
      "metadata": {
        "id": "gC-FReKqB2tU",
        "outputId": "a6789333-0db7-44fa-8d13-c8c5cbebe1e9",
        "colab": {
          "base_uri": "https://localhost:8080/",
          "height": 166
        }
      },
      "source": [
        "A() # ถ้าไม่มีไม่ได้เลย จำเป็นต้องใส่ ใน input1"
      ],
      "execution_count": 143,
      "outputs": [
        {
          "output_type": "error",
          "ename": "TypeError",
          "evalue": "ignored",
          "traceback": [
            "\u001b[0;31m---------------------------------------------------------------------------\u001b[0m",
            "\u001b[0;31mTypeError\u001b[0m                                 Traceback (most recent call last)",
            "\u001b[0;32m<ipython-input-143-6234893e030b>\u001b[0m in \u001b[0;36m<module>\u001b[0;34m()\u001b[0m\n\u001b[0;32m----> 1\u001b[0;31m \u001b[0mA\u001b[0m\u001b[0;34m(\u001b[0m\u001b[0;34m)\u001b[0m\u001b[0;34m\u001b[0m\u001b[0;34m\u001b[0m\u001b[0m\n\u001b[0m",
            "\u001b[0;31mTypeError\u001b[0m: A() missing 1 required positional argument: 'input1'"
          ]
        }
      ]
    },
    {
      "cell_type": "code",
      "metadata": {
        "id": "dhnngNwYCtWj"
      },
      "source": [
        "def printlove(input1,input2 = 'Stat',input3 = 'KKU'): \n",
        "    print(f'{input1} love {input2} {input3}')"
      ],
      "execution_count": 145,
      "outputs": []
    },
    {
      "cell_type": "code",
      "metadata": {
        "id": "262GLGqeCeVA",
        "outputId": "fbf48386-acee-41dc-ea9d-444e549d1906",
        "colab": {
          "base_uri": "https://localhost:8080/"
        }
      },
      "source": [
        "printlove('Thanapong')"
      ],
      "execution_count": 146,
      "outputs": [
        {
          "output_type": "stream",
          "text": [
            "Thanapong love Stat KKU\n"
          ],
          "name": "stdout"
        }
      ]
    },
    {
      "cell_type": "code",
      "metadata": {
        "id": "yLKJvdXQDLU0",
        "outputId": "4cfd7198-ac6f-4e37-d725-4fb9293bb57d",
        "colab": {
          "base_uri": "https://localhost:8080/"
        }
      },
      "source": [
        "printlove('Thanapong','SI','Stat')"
      ],
      "execution_count": 147,
      "outputs": [
        {
          "output_type": "stream",
          "text": [
            "Thanapong love SI Stat\n"
          ],
          "name": "stdout"
        }
      ]
    },
    {
      "cell_type": "code",
      "metadata": {
        "id": "oY1wbwJ_DRr1",
        "outputId": "c9b1e07d-d574-4bc4-9029-a83694699a3c",
        "colab": {
          "base_uri": "https://localhost:8080/"
        }
      },
      "source": [
        "printlove(input3 = 'Thanapong',input2 = 'SI',input1 ='Stat') # สามารถสลับลำดับของinput ได้ ถ้ารู้ชือ parameter"
      ],
      "execution_count": 148,
      "outputs": [
        {
          "output_type": "stream",
          "text": [
            "Stat love SI Thanapong\n"
          ],
          "name": "stdout"
        }
      ]
    },
    {
      "cell_type": "code",
      "metadata": {
        "id": "pJ8TccijDdAd",
        "outputId": "4662d52a-a5db-4e25-fc59-beb90783c9ba",
        "colab": {
          "base_uri": "https://localhost:8080/",
          "height": 132
        }
      },
      "source": [
        "def printlove(input2 = 'Stat',input1,input3 = 'KKU'):  # ไม่สามารถทำได้ เพราะไม่ควรเอา input ที่ไม่จำเป็น ก่อนจำเป็น\n",
        "    print(f'{input1} love {input2} {input3}')"
      ],
      "execution_count": 149,
      "outputs": [
        {
          "output_type": "error",
          "ename": "SyntaxError",
          "evalue": "ignored",
          "traceback": [
            "\u001b[0;36m  File \u001b[0;32m\"<ipython-input-149-11d850ce3756>\"\u001b[0;36m, line \u001b[0;32m1\u001b[0m\n\u001b[0;31m    def printlove(input2 = 'Stat',input1,input3 = 'KKU'):\u001b[0m\n\u001b[0m                 ^\u001b[0m\n\u001b[0;31mSyntaxError\u001b[0m\u001b[0;31m:\u001b[0m non-default argument follows default argument\n"
          ]
        }
      ]
    },
    {
      "cell_type": "markdown",
      "metadata": {
        "id": "-ykr2cpqE-ac"
      },
      "source": [
        "#### HW4\n",
        "สร้างฟังก์ชั่น\n",
        "\n",
        "*  วาดรูปบ้าน\n",
        "*  วาดรูปต้นไม้\n"
      ]
    },
    {
      "cell_type": "code",
      "metadata": {
        "id": "wnkeWI-rDsm1"
      },
      "source": [
        ""
      ],
      "execution_count": null,
      "outputs": []
    }
  ]
}