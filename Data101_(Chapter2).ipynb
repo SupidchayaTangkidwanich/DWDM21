{
  "nbformat": 4,
  "nbformat_minor": 0,
  "metadata": {
    "colab": {
      "name": "Data101 (Chapter2).ipynb",
      "provenance": [],
      "authorship_tag": "ABX9TyMFM1tANQmgA6x5pHbjV2Zo",
      "include_colab_link": true
    },
    "kernelspec": {
      "name": "python3",
      "display_name": "Python 3"
    },
    "language_info": {
      "name": "python"
    }
  },
  "cells": [
    {
      "cell_type": "markdown",
      "metadata": {
        "id": "view-in-github",
        "colab_type": "text"
      },
      "source": [
        "<a href=\"https://colab.research.google.com/github/SupidchayaTangkidwanich/DWDM21/blob/main/Data101_(Chapter2).ipynb\" target=\"_parent\"><img src=\"https://colab.research.google.com/assets/colab-badge.svg\" alt=\"Open In Colab\"/></a>"
      ]
    },
    {
      "cell_type": "markdown",
      "metadata": {
        "id": "MxIwoR1Lz0Op"
      },
      "source": [
        "ข้อความที่อยู่ใน textbox จะเป็น ภาษา markdown "
      ]
    },
    {
      "cell_type": "markdown",
      "metadata": {
        "id": "3iBgDYt-tl1b"
      },
      "source": [
        "ข้อดีหนึ่งของ Python คือมี package \n",
        "สำหรับทำงานต่างๆมากมาย \n",
        "\n",
        "ซึ่ง pandas เป็น package สำหรับการทำงานกับข้อมูลที่อยู่ในรูปเเบบตาราง\n",
        "\n",
        "โดย pandas จะเรียกตารางนั้นว่า dataframe"
      ]
    },
    {
      "cell_type": "code",
      "metadata": {
        "id": "AAIhZdGorvOq"
      },
      "source": [
        "import pandas # วิธีเรียกใช้ คือ import ตามด้วยชื่อ package |pandas ไว้ใช้เก็บข้อมูล"
      ],
      "execution_count": 64,
      "outputs": []
    },
    {
      "cell_type": "code",
      "metadata": {
        "id": "H5X5QjJQs2f2"
      },
      "source": [
        "import pandas as pd # เหมือนกันกับข้างบนเเต่ว่า ตั้งชื่อให้ package ที่โหลดมาใหม่ว่า pd"
      ],
      "execution_count": 65,
      "outputs": []
    },
    {
      "cell_type": "markdown",
      "metadata": {
        "id": "MSytLq9uusnU"
      },
      "source": [
        "ไฟล์ .csv (CSV = comma separated values)\n",
        "เป็นไฟล์หลักที่เราจะได้ใช้กันในวิชานี้\n",
        "\n",
        "จะเก็บข้อมูลเป็นตารางเข้าใจง่ายๆ สามารถส่งเเล้วเปิดได้ด้วยกันทั้งหมด"
      ]
    },
    {
      "cell_type": "code",
      "metadata": {
        "id": "umwqgzB3ubKG"
      },
      "source": [
        "data_df = pd.read_csv('data.csv') # ไว้ใช้โหลด data"
      ],
      "execution_count": 66,
      "outputs": []
    },
    {
      "cell_type": "code",
      "metadata": {
        "colab": {
          "base_uri": "https://localhost:8080/",
          "height": 142
        },
        "id": "hlDo_FIhxNjI",
        "outputId": "dd3ba11c-6709-48ea-fcd2-47ba276d4634"
      },
      "source": [
        "data_df # เเสดงข้อมูล"
      ],
      "execution_count": 67,
      "outputs": [
        {
          "output_type": "execute_result",
          "data": {
            "text/html": [
              "<div>\n",
              "<style scoped>\n",
              "    .dataframe tbody tr th:only-of-type {\n",
              "        vertical-align: middle;\n",
              "    }\n",
              "\n",
              "    .dataframe tbody tr th {\n",
              "        vertical-align: top;\n",
              "    }\n",
              "\n",
              "    .dataframe thead th {\n",
              "        text-align: right;\n",
              "    }\n",
              "</style>\n",
              "<table border=\"1\" class=\"dataframe\">\n",
              "  <thead>\n",
              "    <tr style=\"text-align: right;\">\n",
              "      <th></th>\n",
              "      <th>name</th>\n",
              "      <th>age</th>\n",
              "      <th>city</th>\n",
              "    </tr>\n",
              "  </thead>\n",
              "  <tbody>\n",
              "    <tr>\n",
              "      <th>0</th>\n",
              "      <td>Tom</td>\n",
              "      <td>27</td>\n",
              "      <td>Khon Kaen</td>\n",
              "    </tr>\n",
              "    <tr>\n",
              "      <th>1</th>\n",
              "      <td>Paul</td>\n",
              "      <td>15</td>\n",
              "      <td>Bangkok</td>\n",
              "    </tr>\n",
              "    <tr>\n",
              "      <th>2</th>\n",
              "      <td>Sarah</td>\n",
              "      <td>49</td>\n",
              "      <td>London</td>\n",
              "    </tr>\n",
              "  </tbody>\n",
              "</table>\n",
              "</div>"
            ],
            "text/plain": [
              "    name  age       city\n",
              "0    Tom   27  Khon Kaen\n",
              "1   Paul   15    Bangkok\n",
              "2  Sarah   49     London"
            ]
          },
          "metadata": {
            "tags": []
          },
          "execution_count": 67
        }
      ]
    },
    {
      "cell_type": "code",
      "metadata": {
        "colab": {
          "base_uri": "https://localhost:8080/",
          "height": 142
        },
        "id": "ykXwS6BzxQzj",
        "outputId": "f06c8779-dc16-4b77-a280-130a1d90bfed"
      },
      "source": [
        "data_df2 = pd.read_csv('data.csv') # ใน 1 cell สามารถมีได้หลายคำสั่ง\n",
        "data_df2"
      ],
      "execution_count": 68,
      "outputs": [
        {
          "output_type": "execute_result",
          "data": {
            "text/html": [
              "<div>\n",
              "<style scoped>\n",
              "    .dataframe tbody tr th:only-of-type {\n",
              "        vertical-align: middle;\n",
              "    }\n",
              "\n",
              "    .dataframe tbody tr th {\n",
              "        vertical-align: top;\n",
              "    }\n",
              "\n",
              "    .dataframe thead th {\n",
              "        text-align: right;\n",
              "    }\n",
              "</style>\n",
              "<table border=\"1\" class=\"dataframe\">\n",
              "  <thead>\n",
              "    <tr style=\"text-align: right;\">\n",
              "      <th></th>\n",
              "      <th>name</th>\n",
              "      <th>age</th>\n",
              "      <th>city</th>\n",
              "    </tr>\n",
              "  </thead>\n",
              "  <tbody>\n",
              "    <tr>\n",
              "      <th>0</th>\n",
              "      <td>Tom</td>\n",
              "      <td>27</td>\n",
              "      <td>Khon Kaen</td>\n",
              "    </tr>\n",
              "    <tr>\n",
              "      <th>1</th>\n",
              "      <td>Paul</td>\n",
              "      <td>15</td>\n",
              "      <td>Bangkok</td>\n",
              "    </tr>\n",
              "    <tr>\n",
              "      <th>2</th>\n",
              "      <td>Sarah</td>\n",
              "      <td>49</td>\n",
              "      <td>London</td>\n",
              "    </tr>\n",
              "  </tbody>\n",
              "</table>\n",
              "</div>"
            ],
            "text/plain": [
              "    name  age       city\n",
              "0    Tom   27  Khon Kaen\n",
              "1   Paul   15    Bangkok\n",
              "2  Sarah   49     London"
            ]
          },
          "metadata": {
            "tags": []
          },
          "execution_count": 68
        }
      ]
    },
    {
      "cell_type": "markdown",
      "metadata": {
        "id": "TCnhImN4zCPS"
      },
      "source": [
        "# Basic python\n",
        "## Variables คือ กล่องที่เก็บข้อมูล\n",
        "\n",
        "ข้อกำหนดในการตั้งชื่อตัวเเปร\n",
        "\n",
        "\n",
        "1.   ชื่อห้ามมีเว้นวรรค\n",
        "2.   (พยายาม)ใช้ภาษาอังกฤษ \n",
        "3.   ตัวเล็กกับตัวใหญ่ เเตกต่างกัน (case sensitive)\n",
        "4.   ห้ามใช้ตัวเลขเป็นตัวหน้า\n",
        "\n",
        "\n"
      ]
    },
    {
      "cell_type": "code",
      "metadata": {
        "id": "uhK1VElsyFsE"
      },
      "source": [
        "variable_a = 12 # ข้อมูลเป็นค่าตัวเลข\n",
        "variable_b = 'abcde' # ' เรียกว่า quote ไว้ใช้กับ text/string\n",
        "variable_c = variable_a # ตัวเเปร"
      ],
      "execution_count": 69,
      "outputs": []
    },
    {
      "cell_type": "code",
      "metadata": {
        "colab": {
          "base_uri": "https://localhost:8080/"
        },
        "id": "8pVJ72tv1JGC",
        "outputId": "ab502570-b6c2-46f5-c3c3-2f46f2f94e52"
      },
      "source": [
        "variable_a"
      ],
      "execution_count": 70,
      "outputs": [
        {
          "output_type": "execute_result",
          "data": {
            "text/plain": [
              "12"
            ]
          },
          "metadata": {
            "tags": []
          },
          "execution_count": 70
        }
      ]
    },
    {
      "cell_type": "code",
      "metadata": {
        "colab": {
          "base_uri": "https://localhost:8080/",
          "height": 35
        },
        "id": "w876hISk1Kl4",
        "outputId": "2b891cb7-dc8f-4208-d3b8-29a855cf8e27"
      },
      "source": [
        "variable_b"
      ],
      "execution_count": 71,
      "outputs": [
        {
          "output_type": "execute_result",
          "data": {
            "application/vnd.google.colaboratory.intrinsic+json": {
              "type": "string"
            },
            "text/plain": [
              "'abcde'"
            ]
          },
          "metadata": {
            "tags": []
          },
          "execution_count": 71
        }
      ]
    },
    {
      "cell_type": "code",
      "metadata": {
        "colab": {
          "base_uri": "https://localhost:8080/"
        },
        "id": "D4J2flLD1NQi",
        "outputId": "0317e810-788e-4d71-f787-43fd83419adf"
      },
      "source": [
        "variable_c # เท่ากับ variable_a "
      ],
      "execution_count": 72,
      "outputs": [
        {
          "output_type": "execute_result",
          "data": {
            "text/plain": [
              "12"
            ]
          },
          "metadata": {
            "tags": []
          },
          "execution_count": 72
        }
      ]
    },
    {
      "cell_type": "markdown",
      "metadata": {
        "id": "XmrgSEaW2HeE"
      },
      "source": [
        "### สิ่งที่ผิด"
      ]
    },
    {
      "cell_type": "code",
      "metadata": {
        "colab": {
          "base_uri": "https://localhost:8080/",
          "height": 128
        },
        "id": "wGJdPKJ81Ojn",
        "outputId": "95784a3f-3075-4222-ca83-8fda11c31ec1"
      },
      "source": [
        "# ชื่อห้ามมีเว้นเวรรค\n",
        "variable a = 6"
      ],
      "execution_count": 85,
      "outputs": [
        {
          "output_type": "error",
          "ename": "SyntaxError",
          "evalue": "ignored",
          "traceback": [
            "\u001b[0;36m  File \u001b[0;32m\"<ipython-input-85-3c4ead0f09cc>\"\u001b[0;36m, line \u001b[0;32m2\u001b[0m\n\u001b[0;31m    variable a = 6\u001b[0m\n\u001b[0m             ^\u001b[0m\n\u001b[0;31mSyntaxError\u001b[0m\u001b[0;31m:\u001b[0m invalid syntax\n"
          ]
        }
      ]
    },
    {
      "cell_type": "code",
      "metadata": {
        "colab": {
          "base_uri": "https://localhost:8080/"
        },
        "id": "TlDEuWE22GLh",
        "outputId": "f6063f3a-1152-4765-8617-af8f43bdb2d0"
      },
      "source": [
        "# (พยายาม)ใช้ภาษาอังกฤษ\n",
        "#colab ใช้ภาษาไทยเป็นชื่อตัวเเปรได้ เเต่ไม่ควรใช้\n",
        "ตัวเเปร = 3 \n",
        "ตัวเเปร"
      ],
      "execution_count": 86,
      "outputs": [
        {
          "output_type": "execute_result",
          "data": {
            "text/plain": [
              "3"
            ]
          },
          "metadata": {
            "tags": []
          },
          "execution_count": 86
        }
      ]
    },
    {
      "cell_type": "code",
      "metadata": {
        "colab": {
          "base_uri": "https://localhost:8080/"
        },
        "id": "m_TtRNpu2RVn",
        "outputId": "87ce35ef-4a04-4bd0-ca0e-d9d4f962293b"
      },
      "source": [
        "# ตัวเล็กกับตัวใหญ่ เเตกต่างกัน (case sensitive)\n",
        "v_a = 1\n",
        "V_a = 2\n",
        "print(v_a)\n",
        "print(V_a)"
      ],
      "execution_count": 87,
      "outputs": [
        {
          "output_type": "stream",
          "text": [
            "1\n",
            "2\n"
          ],
          "name": "stdout"
        }
      ]
    },
    {
      "cell_type": "code",
      "metadata": {
        "colab": {
          "base_uri": "https://localhost:8080/"
        },
        "id": "0H3BMDhc3HdX",
        "outputId": "782b81c0-e2aa-408f-d8ca-b64f274e50dc"
      },
      "source": [
        "# ตัวเล็กกับตัวใหญ่ เเตกต่างกัน (case sensitive)\n",
        "v_a = 1\n",
        "v_a = 2\n",
        "print(v_a)\n",
        "print(v_a)"
      ],
      "execution_count": 88,
      "outputs": [
        {
          "output_type": "stream",
          "text": [
            "2\n",
            "2\n"
          ],
          "name": "stdout"
        }
      ]
    },
    {
      "cell_type": "code",
      "metadata": {
        "colab": {
          "base_uri": "https://localhost:8080/",
          "height": 128
        },
        "id": "RAP3lDpI3aJI",
        "outputId": "314e98b7-1c53-46fe-9bbd-42358bd3a258"
      },
      "source": [
        "# ห้ามใช้ตัวเลขเป็นตัวหน้า\n",
        "2 = 1"
      ],
      "execution_count": 89,
      "outputs": [
        {
          "output_type": "error",
          "ename": "SyntaxError",
          "evalue": "ignored",
          "traceback": [
            "\u001b[0;36m  File \u001b[0;32m\"<ipython-input-89-24eb8a2ec18c>\"\u001b[0;36m, line \u001b[0;32m2\u001b[0m\n\u001b[0;31m    2 = 1\u001b[0m\n\u001b[0m         ^\u001b[0m\n\u001b[0;31mSyntaxError\u001b[0m\u001b[0;31m:\u001b[0m can't assign to literal\n"
          ]
        }
      ]
    },
    {
      "cell_type": "code",
      "metadata": {
        "id": "bCe6sI4-3pKn",
        "colab": {
          "base_uri": "https://localhost:8080/",
          "height": 128
        },
        "outputId": "aba9548a-328c-4697-f5e4-b8542f149811"
      },
      "source": [
        "# ห้ามใช้ตัวเลขเป็นตัวหน้า\n",
        "2ab = 1"
      ],
      "execution_count": 90,
      "outputs": [
        {
          "output_type": "error",
          "ename": "SyntaxError",
          "evalue": "ignored",
          "traceback": [
            "\u001b[0;36m  File \u001b[0;32m\"<ipython-input-90-4a1c88deec89>\"\u001b[0;36m, line \u001b[0;32m2\u001b[0m\n\u001b[0;31m    2ab = 1\u001b[0m\n\u001b[0m      ^\u001b[0m\n\u001b[0;31mSyntaxError\u001b[0m\u001b[0;31m:\u001b[0m invalid syntax\n"
          ]
        }
      ]
    },
    {
      "cell_type": "code",
      "metadata": {
        "id": "AOHNxjgd3vj6"
      },
      "source": [
        "# ห้ามใช้ตัวเลขเป็นตัวหน้า\n",
        "variable1 = 1 # ทำได้เพราะเลขอยู่ข้างหลัง"
      ],
      "execution_count": 91,
      "outputs": []
    },
    {
      "cell_type": "code",
      "metadata": {
        "id": "X5FfSzU930M_",
        "colab": {
          "base_uri": "https://localhost:8080/"
        },
        "outputId": "6e1edfe5-4c98-45ff-b293-0a773c7ce24b"
      },
      "source": [
        "print(variable1)"
      ],
      "execution_count": 92,
      "outputs": [
        {
          "output_type": "stream",
          "text": [
            "1\n"
          ],
          "name": "stdout"
        }
      ]
    },
    {
      "cell_type": "code",
      "metadata": {
        "id": "Rf7L70XG32KY"
      },
      "source": [
        "variable_a = 12 # ข้อมูลเป็นค่าตัวเลข\n",
        "variable_b = 'abcde' # ' เรียกว่า quote ไว้ใช้กับ text/string\n",
        "variable_c = variable_a # ตัวเเปร\n",
        "variable_d = -41.2\n",
        "variable_4 = \"KKU\" # \" \" เรียกว่า double quote ใช้เป็นค่า text/string"
      ],
      "execution_count": 93,
      "outputs": []
    },
    {
      "cell_type": "code",
      "metadata": {
        "colab": {
          "base_uri": "https://localhost:8080/"
        },
        "id": "I8TuRCWH39bO",
        "outputId": "bdd94877-f2a3-4357-af83-167256c0c281"
      },
      "source": [
        "variable_x = variable_c + variable_d # ตัวเเปรสามารถบวกกันได้\n",
        "print(variable_x) # มาตรฐานในการเเสดงค่า"
      ],
      "execution_count": 94,
      "outputs": [
        {
          "output_type": "stream",
          "text": [
            "-29.200000000000003\n"
          ],
          "name": "stdout"
        }
      ]
    },
    {
      "cell_type": "code",
      "metadata": {
        "colab": {
          "base_uri": "https://localhost:8080/",
          "height": 178
        },
        "id": "O420xP1V4jCP",
        "outputId": "4d42eda2-f4de-4cb8-aafa-4e92d6952b26"
      },
      "source": [
        "variable_a + variable_b  # ก็จะ error int + string ไม่สามารถบวกกันได้(ตัวเลขกับตัวหนังสือบวกกันไม่ได้)"
      ],
      "execution_count": 95,
      "outputs": [
        {
          "output_type": "error",
          "ename": "TypeError",
          "evalue": "ignored",
          "traceback": [
            "\u001b[0;31m---------------------------------------------------------------------------\u001b[0m",
            "\u001b[0;31mTypeError\u001b[0m                                 Traceback (most recent call last)",
            "\u001b[0;32m<ipython-input-95-c7eb5fbe674d>\u001b[0m in \u001b[0;36m<module>\u001b[0;34m()\u001b[0m\n\u001b[0;32m----> 1\u001b[0;31m \u001b[0mvariable_a\u001b[0m \u001b[0;34m+\u001b[0m \u001b[0mvariable_b\u001b[0m  \u001b[0;31m# ก็จะ error int + string ไม่สามารถบวกกันได้(ตัวเลขกับตัวหนังสือบวกกันไม่ได้)\u001b[0m\u001b[0;34m\u001b[0m\u001b[0;34m\u001b[0m\u001b[0m\n\u001b[0m",
            "\u001b[0;31mTypeError\u001b[0m: unsupported operand type(s) for +: 'int' and 'str'"
          ]
        }
      ]
    },
    {
      "cell_type": "code",
      "metadata": {
        "colab": {
          "base_uri": "https://localhost:8080/"
        },
        "id": "iqcWr8VW6LNB",
        "outputId": "75201c7f-3292-45a6-e989-5380db0c876d"
      },
      "source": [
        "print(variable_b + variable_4) # ตัวหนังสือกับตัวหนังสือบวกกันได้ โดยการเอา string มาต่อกัน"
      ],
      "execution_count": 96,
      "outputs": [
        {
          "output_type": "stream",
          "text": [
            "abcdeKKU\n"
          ],
          "name": "stdout"
        }
      ]
    },
    {
      "cell_type": "markdown",
      "metadata": {
        "id": "k_3j9Qxh7BR5"
      },
      "source": [
        "## Casting int() floating() str() \n",
        "\n",
        "คือ สามารถเปลี่ยนชนิดของตัวเเปรได้"
      ]
    },
    {
      "cell_type": "code",
      "metadata": {
        "colab": {
          "base_uri": "https://localhost:8080/"
        },
        "id": "iMcr7CPI6ci4",
        "outputId": "5684390a-10e2-464e-c72a-8edfc8804f1c"
      },
      "source": [
        "print(variable_x)\n",
        "print(int(variable_x)) # มันจะตัดทศนิยมออกไปเลย ไม่ปัดขึ้น-ปัดลง"
      ],
      "execution_count": 97,
      "outputs": [
        {
          "output_type": "stream",
          "text": [
            "-29.200000000000003\n",
            "-29\n"
          ],
          "name": "stdout"
        }
      ]
    },
    {
      "cell_type": "code",
      "metadata": {
        "colab": {
          "base_uri": "https://localhost:8080/"
        },
        "id": "BD4NuOnp7YkH",
        "outputId": "ba5cea3b-65cd-4314-eb19-afed332c5577"
      },
      "source": [
        "V_X = str(variable_x)\n",
        "print(V_X) # เป็น str เเล้ว"
      ],
      "execution_count": 101,
      "outputs": [
        {
          "output_type": "stream",
          "text": [
            "-29.200000000000003\n"
          ],
          "name": "stdout"
        }
      ]
    },
    {
      "cell_type": "code",
      "metadata": {
        "colab": {
          "base_uri": "https://localhost:8080/",
          "height": 162
        },
        "id": "GBH-9bE572lP",
        "outputId": "d161e0ec-0a0a-403c-912c-c21bac5561af"
      },
      "source": [
        "V_X + variable_a  # ไม่สามารถทำได้เพราะ V_X เป็น str เเล้ว"
      ],
      "execution_count": 102,
      "outputs": [
        {
          "output_type": "error",
          "ename": "TypeError",
          "evalue": "ignored",
          "traceback": [
            "\u001b[0;31m---------------------------------------------------------------------------\u001b[0m",
            "\u001b[0;31mTypeError\u001b[0m                                 Traceback (most recent call last)",
            "\u001b[0;32m<ipython-input-102-fc71ec4110bf>\u001b[0m in \u001b[0;36m<module>\u001b[0;34m()\u001b[0m\n\u001b[0;32m----> 1\u001b[0;31m \u001b[0mV_X\u001b[0m \u001b[0;34m+\u001b[0m \u001b[0mvariable_a\u001b[0m  \u001b[0;31m# ไม่สามารถทำได้เพราะ V_X เป็น str เเล้ว\u001b[0m\u001b[0;34m\u001b[0m\u001b[0;34m\u001b[0m\u001b[0m\n\u001b[0m",
            "\u001b[0;31mTypeError\u001b[0m: can only concatenate str (not \"int\") to str"
          ]
        }
      ]
    },
    {
      "cell_type": "code",
      "metadata": {
        "colab": {
          "base_uri": "https://localhost:8080/",
          "height": 162
        },
        "id": "frJtGg4E78Qm",
        "outputId": "03a45c08-d675-4be0-e416-a1f23bc6cd70"
      },
      "source": [
        "variable_a + V_X # สลับที่ก็ยังคงบวกกันไม่ได้อยู่ดี เพราะ V_X เป็น str เเล้ว Variable_a เป็นตัวเลข"
      ],
      "execution_count": 103,
      "outputs": [
        {
          "output_type": "error",
          "ename": "TypeError",
          "evalue": "ignored",
          "traceback": [
            "\u001b[0;31m---------------------------------------------------------------------------\u001b[0m",
            "\u001b[0;31mTypeError\u001b[0m                                 Traceback (most recent call last)",
            "\u001b[0;32m<ipython-input-103-5ae90b8690c1>\u001b[0m in \u001b[0;36m<module>\u001b[0;34m()\u001b[0m\n\u001b[0;32m----> 1\u001b[0;31m \u001b[0mvariable_a\u001b[0m \u001b[0;34m+\u001b[0m \u001b[0mV_X\u001b[0m \u001b[0;31m# สลับที่ก็ยังคงบวกกันไม่ได้อยู่ดี เพราะ V_X เป็น str เเล้ว Variable_a เป็นตัวเลข\u001b[0m\u001b[0;34m\u001b[0m\u001b[0;34m\u001b[0m\u001b[0m\n\u001b[0m",
            "\u001b[0;31mTypeError\u001b[0m: unsupported operand type(s) for +: 'int' and 'str'"
          ]
        }
      ]
    },
    {
      "cell_type": "code",
      "metadata": {
        "colab": {
          "base_uri": "https://localhost:8080/",
          "height": 35
        },
        "id": "HwY6-ij68DT-",
        "outputId": "f0704e6f-cc5b-48e5-b000-d22dfe8cc7d1"
      },
      "source": [
        "V_X # จะบอกว่าเป็นตัวเเปรชนิดไหน"
      ],
      "execution_count": 104,
      "outputs": [
        {
          "output_type": "execute_result",
          "data": {
            "application/vnd.google.colaboratory.intrinsic+json": {
              "type": "string"
            },
            "text/plain": [
              "'-29.200000000000003'"
            ]
          },
          "metadata": {
            "tags": []
          },
          "execution_count": 104
        }
      ]
    },
    {
      "cell_type": "code",
      "metadata": {
        "colab": {
          "base_uri": "https://localhost:8080/"
        },
        "id": "bPvBTH2O8ZMP",
        "outputId": "65517a57-5cda-45e3-bfb7-c5f80b01c4e5"
      },
      "source": [
        "float(V_X) # เปลี่ยนกลายเป็นตัวเลขทศนิยมเหมือนเดิมได้"
      ],
      "execution_count": 105,
      "outputs": [
        {
          "output_type": "execute_result",
          "data": {
            "text/plain": [
              "-29.200000000000003"
            ]
          },
          "metadata": {
            "tags": []
          },
          "execution_count": 105
        }
      ]
    },
    {
      "cell_type": "markdown",
      "metadata": {
        "id": "QQQfgMSF839I"
      },
      "source": [
        "# Data Structure (โครงสร้างของข้อมูล)\n",
        "### list()\n",
        "\n",
        "คือ ตัวเลขหรือตัวเเปรมาเรียงต่อๆกัน"
      ]
    },
    {
      "cell_type": "code",
      "metadata": {
        "id": "CENuxLti8le_"
      },
      "source": [
        "list_a = [1,2,0.2,'abs'] # [] square brackets \n",
        "list_b = [2,'xyz',list_a,[1,2,0.0]] # สามารถเก็บซ้อนลิสต์ได้"
      ],
      "execution_count": 106,
      "outputs": []
    },
    {
      "cell_type": "code",
      "metadata": {
        "colab": {
          "base_uri": "https://localhost:8080/"
        },
        "id": "9GuVN0O094Cm",
        "outputId": "601d8684-e52d-43ca-e1cf-fb040528b662"
      },
      "source": [
        "list_a #ลำดับมีความสำคัญ"
      ],
      "execution_count": 107,
      "outputs": [
        {
          "output_type": "execute_result",
          "data": {
            "text/plain": [
              "[1, 2, 0.2, 'abs']"
            ]
          },
          "metadata": {
            "tags": []
          },
          "execution_count": 107
        }
      ]
    },
    {
      "cell_type": "code",
      "metadata": {
        "colab": {
          "base_uri": "https://localhost:8080/"
        },
        "id": "pCNWMr5N95Iv",
        "outputId": "1a0dac1c-7244-48d1-b771-1da0f855b136"
      },
      "source": [
        "list_b"
      ],
      "execution_count": 108,
      "outputs": [
        {
          "output_type": "execute_result",
          "data": {
            "text/plain": [
              "[2, 'xyz', [1, 2, 0.2, 'abs'], [1, 2, 0.0]]"
            ]
          },
          "metadata": {
            "tags": []
          },
          "execution_count": 108
        }
      ]
    },
    {
      "cell_type": "code",
      "metadata": {
        "colab": {
          "base_uri": "https://localhost:8080/"
        },
        "id": "iM0yTahu-C1o",
        "outputId": "c25bfdb7-666f-4f33-f202-f768129c4c76"
      },
      "source": [
        "len(list_b) # len ย่อมาจาก length ใช้ดูความยาว"
      ],
      "execution_count": 109,
      "outputs": [
        {
          "output_type": "execute_result",
          "data": {
            "text/plain": [
              "4"
            ]
          },
          "metadata": {
            "tags": []
          },
          "execution_count": 109
        }
      ]
    },
    {
      "cell_type": "code",
      "metadata": {
        "colab": {
          "base_uri": "https://localhost:8080/"
        },
        "id": "529tsoEK-QqW",
        "outputId": "afc51246-5b65-4962-a858-ebea30d92c8d"
      },
      "source": [
        "list_b[3] # ชี้ลิสต์ได้"
      ],
      "execution_count": 110,
      "outputs": [
        {
          "output_type": "execute_result",
          "data": {
            "text/plain": [
              "[1, 2, 0.0]"
            ]
          },
          "metadata": {
            "tags": []
          },
          "execution_count": 110
        }
      ]
    },
    {
      "cell_type": "code",
      "metadata": {
        "colab": {
          "base_uri": "https://localhost:8080/"
        },
        "id": "mlySZ5Ty-bbu",
        "outputId": "50033fc8-e66e-4c2d-8280-78eb3cb41396"
      },
      "source": [
        "list_b[3][1] # ชี้ซ้อนลิสต์ได้ ในทีนี้อยากชี้ลิสต์ [1,2,0.0] อยากชี้ตัวอันดับที่ 1 คือเลข 2"
      ],
      "execution_count": 111,
      "outputs": [
        {
          "output_type": "execute_result",
          "data": {
            "text/plain": [
              "2"
            ]
          },
          "metadata": {
            "tags": []
          },
          "execution_count": 111
        }
      ]
    },
    {
      "cell_type": "markdown",
      "metadata": {
        "id": "RS8lKzpJ-2YC"
      },
      "source": [
        "string คือ list ของ ตัวหนังสือ"
      ]
    },
    {
      "cell_type": "code",
      "metadata": {
        "id": "GUa0IzMG-kdW"
      },
      "source": [
        "a = 'Stat KKU'"
      ],
      "execution_count": 112,
      "outputs": []
    },
    {
      "cell_type": "code",
      "metadata": {
        "colab": {
          "base_uri": "https://localhost:8080/",
          "height": 35
        },
        "id": "G5MKhpw3_DVt",
        "outputId": "6b83652a-45ef-42c3-e8e3-7cd209286fb8"
      },
      "source": [
        "a[4] # เว้นววรค"
      ],
      "execution_count": 113,
      "outputs": [
        {
          "output_type": "execute_result",
          "data": {
            "application/vnd.google.colaboratory.intrinsic+json": {
              "type": "string"
            },
            "text/plain": [
              "' '"
            ]
          },
          "metadata": {
            "tags": []
          },
          "execution_count": 113
        }
      ]
    },
    {
      "cell_type": "markdown",
      "metadata": {
        "id": "FvJnPdhb_dP4"
      },
      "source": [
        "### วิธีสร้าง list ว่าง"
      ]
    },
    {
      "cell_type": "code",
      "metadata": {
        "id": "PLf8Ge3g_G-G"
      },
      "source": [
        "list_c = list() # เเบบที่ 1 \n",
        "list_d = [] # เเบบที่ 2 "
      ],
      "execution_count": 114,
      "outputs": []
    },
    {
      "cell_type": "code",
      "metadata": {
        "colab": {
          "base_uri": "https://localhost:8080/"
        },
        "id": "4WHmbOap_2yc",
        "outputId": "5b1ffbee-baba-4854-e21a-a07b3ec21c5a"
      },
      "source": [
        "list_c "
      ],
      "execution_count": 115,
      "outputs": [
        {
          "output_type": "execute_result",
          "data": {
            "text/plain": [
              "[]"
            ]
          },
          "metadata": {
            "tags": []
          },
          "execution_count": 115
        }
      ]
    },
    {
      "cell_type": "code",
      "metadata": {
        "colab": {
          "base_uri": "https://localhost:8080/"
        },
        "id": "QRlFbbj1_4B_",
        "outputId": "1d525661-5364-4109-8da2-b89297076c15"
      },
      "source": [
        "list_d"
      ],
      "execution_count": 116,
      "outputs": [
        {
          "output_type": "execute_result",
          "data": {
            "text/plain": [
              "[]"
            ]
          },
          "metadata": {
            "tags": []
          },
          "execution_count": 116
        }
      ]
    },
    {
      "cell_type": "markdown",
      "metadata": {
        "id": "6mTsdKTbAbji"
      },
      "source": [
        "เติมค่าลงไปใน list(.append())"
      ]
    },
    {
      "cell_type": "code",
      "metadata": {
        "id": "LP5EotRf_70v"
      },
      "source": [
        "list_d.append('a')"
      ],
      "execution_count": 117,
      "outputs": []
    },
    {
      "cell_type": "code",
      "metadata": {
        "colab": {
          "base_uri": "https://localhost:8080/"
        },
        "id": "YJpFttlMAqR-",
        "outputId": "86fe3d39-fb3e-4700-d29b-8e231b558e64"
      },
      "source": [
        "list_d"
      ],
      "execution_count": 118,
      "outputs": [
        {
          "output_type": "execute_result",
          "data": {
            "text/plain": [
              "['a']"
            ]
          },
          "metadata": {
            "tags": []
          },
          "execution_count": 118
        }
      ]
    },
    {
      "cell_type": "code",
      "metadata": {
        "id": "MoyPtVyMAtKl"
      },
      "source": [
        "list_d.append(56)"
      ],
      "execution_count": 119,
      "outputs": []
    },
    {
      "cell_type": "code",
      "metadata": {
        "colab": {
          "base_uri": "https://localhost:8080/"
        },
        "id": "A1P7G6NGA2nm",
        "outputId": "fd08f2cb-f845-40cc-bc60-1c9d767ca758"
      },
      "source": [
        "list_d"
      ],
      "execution_count": 120,
      "outputs": [
        {
          "output_type": "execute_result",
          "data": {
            "text/plain": [
              "['a', 56]"
            ]
          },
          "metadata": {
            "tags": []
          },
          "execution_count": 120
        }
      ]
    },
    {
      "cell_type": "markdown",
      "metadata": {
        "id": "GYLDMJSiBCQQ"
      },
      "source": [
        "#### การชี้ค่าใน list (Indexing)\n",
        "\n",
        "1.   ใช้ลำดับในการชี้\n",
        "2.   ลำดับเริ่มจาก 0 \n",
        "3.   สามารถชี้จากข้างหลังได้โดยใช้ negative index\n",
        "\n"
      ]
    },
    {
      "cell_type": "code",
      "metadata": {
        "colab": {
          "base_uri": "https://localhost:8080/"
        },
        "id": "J-3WfOqhA32s",
        "outputId": "b51266c7-e7e5-44ed-fbe8-b2a142866027"
      },
      "source": [
        "list_b"
      ],
      "execution_count": 121,
      "outputs": [
        {
          "output_type": "execute_result",
          "data": {
            "text/plain": [
              "[2, 'xyz', [1, 2, 0.2, 'abs'], [1, 2, 0.0]]"
            ]
          },
          "metadata": {
            "tags": []
          },
          "execution_count": 121
        }
      ]
    },
    {
      "cell_type": "code",
      "metadata": {
        "colab": {
          "base_uri": "https://localhost:8080/"
        },
        "id": "gFUKqlB5Bagu",
        "outputId": "b5ff45e6-3463-425f-d7aa-254f1f99c0ef"
      },
      "source": [
        "list_b[-1] # ชี้จากข้างหลังได้"
      ],
      "execution_count": 122,
      "outputs": [
        {
          "output_type": "execute_result",
          "data": {
            "text/plain": [
              "[1, 2, 0.0]"
            ]
          },
          "metadata": {
            "tags": []
          },
          "execution_count": 122
        }
      ]
    },
    {
      "cell_type": "markdown",
      "metadata": {
        "id": "Lc16tQQMCCko"
      },
      "source": [
        "### list slicing \n",
        "\n",
        "คือ  การตัด list เลือกบางส่วนของ list ได้"
      ]
    },
    {
      "cell_type": "code",
      "metadata": {
        "id": "jx-XR5JxBgOl"
      },
      "source": [
        "list_ex = [1,2,3,5,6,8,-1,20,50,0]"
      ],
      "execution_count": 123,
      "outputs": []
    },
    {
      "cell_type": "markdown",
      "metadata": {
        "id": "K3mRF3ITC3Q5"
      },
      "source": [
        "เราจะตัด list โดยเอาตั้งเเต่ [ตัวหน้า:ตัวก่อนตัวหลัง]\n",
        "\n",
        "ถ้าเป็นสัญลักษณ์คณิตศาสตร์ [ตัวหน้า:ตัวหลัง]-> [ตัวหน้า,ตัวหลัง)"
      ]
    },
    {
      "cell_type": "code",
      "metadata": {
        "colab": {
          "base_uri": "https://localhost:8080/"
        },
        "id": "x3LYKB6jCV7b",
        "outputId": "2c574998-cea0-4f7d-f784-d64041dafbcf"
      },
      "source": [
        "list_ex[1:6] # อยากได้ตัวที่ 1 - 5"
      ],
      "execution_count": 124,
      "outputs": [
        {
          "output_type": "execute_result",
          "data": {
            "text/plain": [
              "[2, 3, 5, 6, 8]"
            ]
          },
          "metadata": {
            "tags": []
          },
          "execution_count": 124
        }
      ]
    },
    {
      "cell_type": "code",
      "metadata": {
        "colab": {
          "base_uri": "https://localhost:8080/"
        },
        "id": "oZ26pmasCj3m",
        "outputId": "ff93ade7-1fa1-4382-a6fa-33676e819e94"
      },
      "source": [
        "list_ex[4:] # คือเอาจนถึงตัวสุดท้าย"
      ],
      "execution_count": 125,
      "outputs": [
        {
          "output_type": "execute_result",
          "data": {
            "text/plain": [
              "[6, 8, -1, 20, 50, 0]"
            ]
          },
          "metadata": {
            "tags": []
          },
          "execution_count": 125
        }
      ]
    },
    {
      "cell_type": "code",
      "metadata": {
        "colab": {
          "base_uri": "https://localhost:8080/"
        },
        "id": "zBil77pNDe6b",
        "outputId": "aa073ceb-bc57-4c2f-a2d8-5d44a6ba7f19"
      },
      "source": [
        "list_ex[:6] # คือเอาตั้งเเต่ตัวเเรก จนถึงตัวที่ 6"
      ],
      "execution_count": 126,
      "outputs": [
        {
          "output_type": "execute_result",
          "data": {
            "text/plain": [
              "[1, 2, 3, 5, 6, 8]"
            ]
          },
          "metadata": {
            "tags": []
          },
          "execution_count": 126
        }
      ]
    },
    {
      "cell_type": "markdown",
      "metadata": {
        "id": "GtXJLG9nELEf"
      },
      "source": [
        "[จุดเริ่มต้น:จุดสุดท้าย:step]"
      ]
    },
    {
      "cell_type": "code",
      "metadata": {
        "colab": {
          "base_uri": "https://localhost:8080/"
        },
        "id": "ZpZjoFKNEVKH",
        "outputId": "d56240e9-2fbc-4906-8935-7fc89beb23c1"
      },
      "source": [
        "list_ex"
      ],
      "execution_count": 127,
      "outputs": [
        {
          "output_type": "execute_result",
          "data": {
            "text/plain": [
              "[1, 2, 3, 5, 6, 8, -1, 20, 50, 0]"
            ]
          },
          "metadata": {
            "tags": []
          },
          "execution_count": 127
        }
      ]
    },
    {
      "cell_type": "code",
      "metadata": {
        "colab": {
          "base_uri": "https://localhost:8080/"
        },
        "id": "ryEPGBvFDmz9",
        "outputId": "32ab6082-0852-4567-9f91-ce2c7c655c4a"
      },
      "source": [
        "list_ex[::2] # ตัวเเรกไปจนถึงตัวสุดท้าย step 2 คือกระโดด 2"
      ],
      "execution_count": 128,
      "outputs": [
        {
          "output_type": "execute_result",
          "data": {
            "text/plain": [
              "[1, 3, 6, -1, 50]"
            ]
          },
          "metadata": {
            "tags": []
          },
          "execution_count": 128
        }
      ]
    },
    {
      "cell_type": "code",
      "metadata": {
        "colab": {
          "base_uri": "https://localhost:8080/"
        },
        "id": "9cJmkKr1EAfE",
        "outputId": "a4d0e91d-cd2e-4848-e7a1-bf0431c97ed5"
      },
      "source": [
        "list_ex[::-1] # การกลับ list "
      ],
      "execution_count": 129,
      "outputs": [
        {
          "output_type": "execute_result",
          "data": {
            "text/plain": [
              "[0, 50, 20, -1, 8, 6, 5, 3, 2, 1]"
            ]
          },
          "metadata": {
            "tags": []
          },
          "execution_count": 129
        }
      ]
    },
    {
      "cell_type": "code",
      "metadata": {
        "colab": {
          "base_uri": "https://localhost:8080/",
          "height": 35
        },
        "id": "Cu5vmUzzEsPE",
        "outputId": "c26a0d91-9bc2-4a03-b8c2-8d0f7b768098"
      },
      "source": [
        "a"
      ],
      "execution_count": 130,
      "outputs": [
        {
          "output_type": "execute_result",
          "data": {
            "application/vnd.google.colaboratory.intrinsic+json": {
              "type": "string"
            },
            "text/plain": [
              "'Stat KKU'"
            ]
          },
          "metadata": {
            "tags": []
          },
          "execution_count": 130
        }
      ]
    },
    {
      "cell_type": "code",
      "metadata": {
        "colab": {
          "base_uri": "https://localhost:8080/",
          "height": 35
        },
        "id": "yi8g7pdoE42M",
        "outputId": "c584467c-b0a7-4ee0-e5c1-8867268a9f87"
      },
      "source": [
        "a[5:]"
      ],
      "execution_count": 131,
      "outputs": [
        {
          "output_type": "execute_result",
          "data": {
            "application/vnd.google.colaboratory.intrinsic+json": {
              "type": "string"
            },
            "text/plain": [
              "'KKU'"
            ]
          },
          "metadata": {
            "tags": []
          },
          "execution_count": 131
        }
      ]
    },
    {
      "cell_type": "code",
      "metadata": {
        "colab": {
          "base_uri": "https://localhost:8080/",
          "height": 35
        },
        "id": "w1MAJx5pFDbt",
        "outputId": "bbf04634-86ef-4e79-9133-7e8bff95d15f"
      },
      "source": [
        "a[-3:]"
      ],
      "execution_count": 132,
      "outputs": [
        {
          "output_type": "execute_result",
          "data": {
            "application/vnd.google.colaboratory.intrinsic+json": {
              "type": "string"
            },
            "text/plain": [
              "'KKU'"
            ]
          },
          "metadata": {
            "tags": []
          },
          "execution_count": 132
        }
      ]
    },
    {
      "cell_type": "code",
      "metadata": {
        "colab": {
          "base_uri": "https://localhost:8080/",
          "height": 35
        },
        "id": "fEwR6zDoFwbb",
        "outputId": "52b363f0-aec0-43c9-df4c-da37393e3909"
      },
      "source": [
        "a[5::]"
      ],
      "execution_count": 133,
      "outputs": [
        {
          "output_type": "execute_result",
          "data": {
            "application/vnd.google.colaboratory.intrinsic+json": {
              "type": "string"
            },
            "text/plain": [
              "'KKU'"
            ]
          },
          "metadata": {
            "tags": []
          },
          "execution_count": 133
        }
      ]
    },
    {
      "cell_type": "code",
      "metadata": {
        "colab": {
          "base_uri": "https://localhost:8080/",
          "height": 35
        },
        "id": "5iDU2bw5FyYN",
        "outputId": "1530a968-20ad-4100-d6a0-5ef36be42a8b"
      },
      "source": [
        "a[5:8]"
      ],
      "execution_count": 134,
      "outputs": [
        {
          "output_type": "execute_result",
          "data": {
            "application/vnd.google.colaboratory.intrinsic+json": {
              "type": "string"
            },
            "text/plain": [
              "'KKU'"
            ]
          },
          "metadata": {
            "tags": []
          },
          "execution_count": 134
        }
      ]
    },
    {
      "cell_type": "code",
      "metadata": {
        "colab": {
          "base_uri": "https://localhost:8080/",
          "height": 35
        },
        "id": "8CihkmNlF_jE",
        "outputId": "31801dba-9eed-41a2-f0c8-dce4ef83d15d"
      },
      "source": [
        "a[-3::]"
      ],
      "execution_count": 135,
      "outputs": [
        {
          "output_type": "execute_result",
          "data": {
            "application/vnd.google.colaboratory.intrinsic+json": {
              "type": "string"
            },
            "text/plain": [
              "'KKU'"
            ]
          },
          "metadata": {
            "tags": []
          },
          "execution_count": 135
        }
      ]
    },
    {
      "cell_type": "markdown",
      "metadata": {
        "id": "b4TtmWLUGlL-"
      },
      "source": [
        "### list + list"
      ]
    },
    {
      "cell_type": "code",
      "metadata": {
        "colab": {
          "base_uri": "https://localhost:8080/"
        },
        "id": "10ErZapsGEb6",
        "outputId": "79852d60-ff33-4d63-8cd4-7dccae1731dd"
      },
      "source": [
        "print(list_a)\n",
        "print(list_b)"
      ],
      "execution_count": 136,
      "outputs": [
        {
          "output_type": "stream",
          "text": [
            "[1, 2, 0.2, 'abs']\n",
            "[2, 'xyz', [1, 2, 0.2, 'abs'], [1, 2, 0.0]]\n"
          ],
          "name": "stdout"
        }
      ]
    },
    {
      "cell_type": "code",
      "metadata": {
        "colab": {
          "base_uri": "https://localhost:8080/"
        },
        "id": "tDoX6Ff_G5wT",
        "outputId": "d6770a25-81c4-45c2-a42f-cfb7197e7363"
      },
      "source": [
        "list_a + list_b # คือ เอา list สองอันมาต่อกันเลย"
      ],
      "execution_count": 137,
      "outputs": [
        {
          "output_type": "execute_result",
          "data": {
            "text/plain": [
              "[1, 2, 0.2, 'abs', 2, 'xyz', [1, 2, 0.2, 'abs'], [1, 2, 0.0]]"
            ]
          },
          "metadata": {
            "tags": []
          },
          "execution_count": 137
        }
      ]
    },
    {
      "cell_type": "markdown",
      "metadata": {
        "id": "1k8lZHXXLRj3"
      },
      "source": [
        "#### format string"
      ]
    },
    {
      "cell_type": "markdown",
      "metadata": {
        "id": "_RK_z6SnLxMc"
      },
      "source": [
        "\n",
        "\n",
        "```python\n",
        "f'string{ตัวเเปร}'\n",
        "```\n",
        "{} เรียกว่า curly brackets \n"
      ]
    },
    {
      "cell_type": "code",
      "metadata": {
        "colab": {
          "base_uri": "https://localhost:8080/",
          "height": 35
        },
        "id": "0LAWzUciLVSt",
        "outputId": "526dafb0-9c91-423e-b242-2db9b24247bc"
      },
      "source": [
        "f'ตัวเเปร list_a มีค่าคือ {list_a}' # ภายใน {} คือ ค่า"
      ],
      "execution_count": 138,
      "outputs": [
        {
          "output_type": "execute_result",
          "data": {
            "application/vnd.google.colaboratory.intrinsic+json": {
              "type": "string"
            },
            "text/plain": [
              "\"ตัวเเปร list_a มีค่าคือ [1, 2, 0.2, 'abs']\""
            ]
          },
          "metadata": {
            "tags": []
          },
          "execution_count": 138
        }
      ]
    },
    {
      "cell_type": "markdown",
      "metadata": {
        "id": "HxBLnYExHhOv"
      },
      "source": [
        "## Loop เป็น การวนซ้ำ\n",
        "\n",
        "ทำงานซ้ำๆ หรือ ทำงานคล้ายๆกัน\n"
      ]
    },
    {
      "cell_type": "markdown",
      "metadata": {
        "id": "dRzikHV3KStw"
      },
      "source": [
        "indent เเปลว่าเว้น\n",
        "```python\n",
        "for ตัวเเปรที่จะรับค่าจากลิสต์ in ลิสต์ที่จะนำมาวนลูป:\n",
        "    do something # in loop\n",
        "    do another thing # in loop\n",
        "do other things # out side loop\n",
        "```\n",
        "\n"
      ]
    },
    {
      "cell_type": "code",
      "metadata": {
        "colab": {
          "base_uri": "https://localhost:8080/"
        },
        "id": "_6BZany-JuZJ",
        "outputId": "0323ba44-5890-43a5-c60e-297869392ad2"
      },
      "source": [
        "for i in [1,2,3,4,5]:\n",
        "    print(i+1) # อันดับที่ 1"
      ],
      "execution_count": 139,
      "outputs": [
        {
          "output_type": "stream",
          "text": [
            "2\n",
            "3\n",
            "4\n",
            "5\n",
            "6\n"
          ],
          "name": "stdout"
        }
      ]
    },
    {
      "cell_type": "code",
      "metadata": {
        "colab": {
          "base_uri": "https://localhost:8080/"
        },
        "id": "UxnfhJrzMXjc",
        "outputId": "67e20ec0-4c9a-4ad5-ca74-ce2a12fee48a"
      },
      "source": [
        "for x in [1,2,3,4,5]:\n",
        "    print(f'ค่าตัวเเปร x คือ {x} เเละ x+2={x+2}')"
      ],
      "execution_count": 140,
      "outputs": [
        {
          "output_type": "stream",
          "text": [
            "ค่าตัวเเปร x คือ 1 เเละ x+2=3\n",
            "ค่าตัวเเปร x คือ 2 เเละ x+2=4\n",
            "ค่าตัวเเปร x คือ 3 เเละ x+2=5\n",
            "ค่าตัวเเปร x คือ 4 เเละ x+2=6\n",
            "ค่าตัวเเปร x คือ 5 เเละ x+2=7\n"
          ],
          "name": "stdout"
        }
      ]
    },
    {
      "cell_type": "code",
      "metadata": {
        "colab": {
          "base_uri": "https://localhost:8080/"
        },
        "id": "mqxD5U82M6Bd",
        "outputId": "0d4d09b7-0fe9-4039-cbb9-e04e6b961707"
      },
      "source": [
        "list5=[1,2,3,4,5]\n",
        "for x in list5:\n",
        "    print(f'ค่าตัวเเปร x คือ {x} เเละ x+2={x+2}')"
      ],
      "execution_count": 141,
      "outputs": [
        {
          "output_type": "stream",
          "text": [
            "ค่าตัวเเปร x คือ 1 เเละ x+2=3\n",
            "ค่าตัวเเปร x คือ 2 เเละ x+2=4\n",
            "ค่าตัวเเปร x คือ 3 เเละ x+2=5\n",
            "ค่าตัวเเปร x คือ 4 เเละ x+2=6\n",
            "ค่าตัวเเปร x คือ 5 เเละ x+2=7\n"
          ],
          "name": "stdout"
        }
      ]
    },
    {
      "cell_type": "code",
      "metadata": {
        "colab": {
          "base_uri": "https://localhost:8080/"
        },
        "id": "65zxzkd9NEwd",
        "outputId": "ec8a4f82-1508-4708-b7b1-964440741dd3"
      },
      "source": [
        "list(range(10)) # สร้าง list ที่เริ่มตั้งเเต่ 0 ถึง 9(ก่อนหน้าตัวมันเอง)"
      ],
      "execution_count": 142,
      "outputs": [
        {
          "output_type": "execute_result",
          "data": {
            "text/plain": [
              "[0, 1, 2, 3, 4, 5, 6, 7, 8, 9]"
            ]
          },
          "metadata": {
            "tags": []
          },
          "execution_count": 142
        }
      ]
    },
    {
      "cell_type": "code",
      "metadata": {
        "colab": {
          "base_uri": "https://localhost:8080/"
        },
        "id": "VLq35bEgNTsc",
        "outputId": "59dc5343-d12e-49cc-c0b9-c6d20a8aec44"
      },
      "source": [
        "for i in range(2,7):\n",
        "    print(i) #คือเอาตั้งเเต่ 2 ถึง ตัวก่อนหน้า คือ 6"
      ],
      "execution_count": 143,
      "outputs": [
        {
          "output_type": "stream",
          "text": [
            "2\n",
            "3\n",
            "4\n",
            "5\n",
            "6\n"
          ],
          "name": "stdout"
        }
      ]
    },
    {
      "cell_type": "code",
      "metadata": {
        "colab": {
          "base_uri": "https://localhost:8080/"
        },
        "id": "OecfkBdxN1V9",
        "outputId": "85b663cd-df12-4389-e2f8-577564cf4c76"
      },
      "source": [
        "for i in range(2,7,2): # เลขตั้งเเต่ 2 จนถึง 6 เเต่กระโดดทีละ 2\n",
        "    print(i)"
      ],
      "execution_count": 144,
      "outputs": [
        {
          "output_type": "stream",
          "text": [
            "2\n",
            "4\n",
            "6\n"
          ],
          "name": "stdout"
        }
      ]
    },
    {
      "cell_type": "code",
      "metadata": {
        "colab": {
          "base_uri": "https://localhost:8080/"
        },
        "id": "IE0e38pOJl8X",
        "outputId": "9e10c56f-b463-4d3d-a401-18915b53590f"
      },
      "source": [
        "for i in range(5):\n",
        "    print('hahaha') # print  hahaha 5 รอบ"
      ],
      "execution_count": 145,
      "outputs": [
        {
          "output_type": "stream",
          "text": [
            "hahaha\n",
            "hahaha\n",
            "hahaha\n",
            "hahaha\n",
            "hahaha\n"
          ],
          "name": "stdout"
        }
      ]
    },
    {
      "cell_type": "code",
      "metadata": {
        "colab": {
          "base_uri": "https://localhost:8080/"
        },
        "id": "Clk5ILVgOdgl",
        "outputId": "d68041f9-f7d5-477c-c75a-c6aeb0951429"
      },
      "source": [
        "for i in range(5):\n",
        "    print('hahaha')\n",
        "    x = i + 3\n",
        "    print(f'i={i} x={x}')"
      ],
      "execution_count": 146,
      "outputs": [
        {
          "output_type": "stream",
          "text": [
            "hahaha\n",
            "i=0 x=3\n",
            "hahaha\n",
            "i=1 x=4\n",
            "hahaha\n",
            "i=2 x=5\n",
            "hahaha\n",
            "i=3 x=6\n",
            "hahaha\n",
            "i=4 x=7\n"
          ],
          "name": "stdout"
        }
      ]
    },
    {
      "cell_type": "markdown",
      "metadata": {
        "id": "HsMsdBJLPCCs"
      },
      "source": [
        "### Nested loop คือ loop ซ้อน loop"
      ]
    },
    {
      "cell_type": "code",
      "metadata": {
        "colab": {
          "base_uri": "https://localhost:8080/"
        },
        "id": "I3t2pf9OPBc2",
        "outputId": "c67cfdac-c694-42b1-aa54-431c6aec979e"
      },
      "source": [
        "for i in range(3):\n",
        "    print(f'now i = {i}')\n",
        "    print('start j loop')\n",
        "    for j in range(4): # วน j ก่อนค่อยเปลี่ยน i\n",
        "        print(f'i = {i} j= {j} i+j ={i+j}')\n",
        "    print('end j loop')    "
      ],
      "execution_count": 147,
      "outputs": [
        {
          "output_type": "stream",
          "text": [
            "now i = 0\n",
            "start j loop\n",
            "i = 0 j= 0 i+j =0\n",
            "i = 0 j= 1 i+j =1\n",
            "i = 0 j= 2 i+j =2\n",
            "i = 0 j= 3 i+j =3\n",
            "end j loop\n",
            "now i = 1\n",
            "start j loop\n",
            "i = 1 j= 0 i+j =1\n",
            "i = 1 j= 1 i+j =2\n",
            "i = 1 j= 2 i+j =3\n",
            "i = 1 j= 3 i+j =4\n",
            "end j loop\n",
            "now i = 2\n",
            "start j loop\n",
            "i = 2 j= 0 i+j =2\n",
            "i = 2 j= 1 i+j =3\n",
            "i = 2 j= 2 i+j =4\n",
            "i = 2 j= 3 i+j =5\n",
            "end j loop\n"
          ],
          "name": "stdout"
        }
      ]
    },
    {
      "cell_type": "markdown",
      "metadata": {
        "id": "9L-e8akdJoSn"
      },
      "source": [
        "### Condition (if statement)"
      ]
    },
    {
      "cell_type": "markdown",
      "metadata": {
        "id": "91C9a1GFFiX3"
      },
      "source": [
        "\n",
        "\n",
        "```python\n",
        "if เงื่อนไขที่จะตรวจสอบ(โดยใช้สัญลักษณ์ ==,!=,<,>,<=,>=):\n",
        "    ถ้าเงื่อนไขเป็นจริง ทำงาน 1\n",
        "    ถ้าเงื่อนไขเป็นจริง ทำงาน 2\n",
        "\n",
        "```\n",
        "\n"
      ]
    },
    {
      "cell_type": "code",
      "metadata": {
        "colab": {
          "base_uri": "https://localhost:8080/"
        },
        "id": "rnkB8ID7G5GG",
        "outputId": "237ef22f-c9b3-4d53-d46c-6ce7ebda667e"
      },
      "source": [
        "stringx = 'sadfasdfsadfweirjwersdfspadofgj'\n",
        "\n",
        "if len(stringx) > 30:\n",
        "    print(f'{stringx} is longer than 30 characters') # มีการเช็คเเล้ว"
      ],
      "execution_count": 150,
      "outputs": [
        {
          "output_type": "stream",
          "text": [
            "sadfasdfsadfweirjwersdfspadofgj is longer than 30 characters\n"
          ],
          "name": "stdout"
        }
      ]
    },
    {
      "cell_type": "code",
      "metadata": {
        "id": "JWtIAQZWF5hI"
      },
      "source": [
        "stringx = 'sadfasdfsadfweirjwersdfspadofgj'\n",
        "\n",
        "if len(stringx) > 100:\n",
        "    print(f'{stringx} is longer than 100 characters') # มีการเช็คเเล้ว"
      ],
      "execution_count": 151,
      "outputs": []
    },
    {
      "cell_type": "markdown",
      "metadata": {
        "id": "KB_Hy0dqHoZL"
      },
      "source": [
        "```python\n",
        "if เงื่อนไขที่จะตรวจสอบ(โดยใช้สัญลักษณ์ ==,!=,<,>,<=,>=):\n",
        "    ถ้าเงื่อนไขเป็นจริง ทำงาน 1\n",
        "    ถ้าเงื่อนไขเป็นจริง ทำงาน 2\n",
        "else:# ตรวจสอบเงื่อนไขข้างบนเเล้วไม่เป็นจริง\n",
        "    ทำงานที่ x\n",
        "\n",
        "```\n",
        "\n"
      ]
    },
    {
      "cell_type": "code",
      "metadata": {
        "colab": {
          "base_uri": "https://localhost:8080/"
        },
        "id": "ULl3s8ptH-p1",
        "outputId": "5a52fa33-1350-493c-f9cb-398ec2ef03e6"
      },
      "source": [
        "stringx = 'sadfasdfsadfweirjwersdfspadofgj'\n",
        "\n",
        "if len(stringx) > 100:\n",
        "    print(f'{stringx} is longer than 100 characters') # มีการเช็คเเล้ว\n",
        "else:\n",
        "    print(f'{stringx} in {len(stringx)} characters long') # มันจะเช็คว่ามีจำนวนตัวอักษรเท่าไหร่"
      ],
      "execution_count": 153,
      "outputs": [
        {
          "output_type": "stream",
          "text": [
            "sadfasdfsadfweirjwersdfspadofgj in 31 characters long\n"
          ],
          "name": "stdout"
        }
      ]
    },
    {
      "cell_type": "markdown",
      "metadata": {
        "id": "t28VWELNJGb_"
      },
      "source": [
        "```python\n",
        "if เงื่อนไขที่จะตรวจสอบ(โดยใช้สัญลักษณ์ ==,!=,<,>,<=,>=):\n",
        "    ถ้าเงื่อนไขเป็นจริง ทำงาน 1\n",
        "    ถ้าเงื่อนไขเป็นจริง ทำงาน 2\n",
        "elif เงื่อนไขที่จะตรวจสอบต่อไปถ้าเงื่อนไขข้างบนไม่เป็นจริง:\n",
        "    ถ้าเงื่อนไขเป็นจริง ทำงานที่ a1\n",
        "    ถ้าเงื่อนไขเป็นจริง ทำงานที่ a2\n",
        "elif เงื่อนไขที่จะตรวจสอบต่อไปถ้าเงื่อนไขข้างบนไม่เป็นจริง:\n",
        "    ถ้าเงื่อนไขเป็นจริง ทำงานที่ b1\n",
        "    ถ้าเงื่อนไขเป็นจริง ทำงานที่ b2\n",
        "else:# ตรวจสอบเงื่อนไขข้างบนเเล้วไม่เป็นจริง\n",
        "    ทำงานที่ x\n",
        "\n",
        "```"
      ]
    },
    {
      "cell_type": "code",
      "metadata": {
        "colab": {
          "base_uri": "https://localhost:8080/"
        },
        "id": "H3hLASuqKwuN",
        "outputId": "1f9cecfa-44b7-4bc4-fc42-d50ec78719dd"
      },
      "source": [
        "password = '12345'\n",
        "\n",
        "input_pass = '123sf'\n",
        "if input_pass == password:\n",
        "    print(f'{stringx} is longer than 100 characters')\n",
        "elif len(input_pass) > len(password):\n",
        "    print('Too long, try again!')\n",
        "elif len(input_pass) < len(password):\n",
        "    print('Too short, try again!')   \n",
        "else:\n",
        "    print('Wrong password, try again!')        "
      ],
      "execution_count": 158,
      "outputs": [
        {
          "output_type": "stream",
          "text": [
            "Wrong password, try again!\n"
          ],
          "name": "stdout"
        }
      ]
    },
    {
      "cell_type": "markdown",
      "metadata": {
        "id": "PaXouSqYK6Gn"
      },
      "source": [
        "Quiz 1 หา min  "
      ]
    },
    {
      "cell_type": "code",
      "metadata": {
        "id": "fNPO4f3nNjrG"
      },
      "source": [
        "list_ex = [1,5,9,-19,-2,0] # หาค่าน้อยที่สุดใน list_ex โดยไม่ใช้ function min (commit ก่อน 10:30:Quiz1)"
      ],
      "execution_count": 172,
      "outputs": []
    },
    {
      "cell_type": "code",
      "metadata": {
        "colab": {
          "base_uri": "https://localhost:8080/"
        },
        "id": "9A4mEcaLN6Kc",
        "outputId": "b3df2bde-bfbc-4cf5-8bcb-10af6f2b1c8d"
      },
      "source": [
        "min = 10000000\n",
        "\n",
        "for i in list_ex:\n",
        "  if i < min:\n",
        "      min = i\n",
        "\n",
        "print(min)"
      ],
      "execution_count": 175,
      "outputs": [
        {
          "output_type": "stream",
          "text": [
            "-19\n"
          ],
          "name": "stdout"
        }
      ]
    },
    {
      "cell_type": "code",
      "metadata": {
        "colab": {
          "base_uri": "https://localhost:8080/"
        },
        "id": "cIic_gehUHIK",
        "outputId": "2ec1cd72-f8c5-421c-e023-daf1c9422340"
      },
      "source": [
        "min = 10000000\n",
        "print(list_ex)\n",
        "for i in list_ex:\n",
        "  print(f'now i = {i}, min = {min}')\n",
        "  print('Start condition')\n",
        "  if i < min:\n",
        "      print(f'i < min, update min -> {i}')\n",
        "      min = i\n",
        "  else:\n",
        "      print('i >=min, not update')\n",
        "  print('end condition, go to next i')    \n",
        "print(min)"
      ],
      "execution_count": 179,
      "outputs": [
        {
          "output_type": "stream",
          "text": [
            "[1, 5, 9, -19, -2, 0]\n",
            "now i = 1, min = 10000000\n",
            "Start condition\n",
            "i < min, update min -> 1\n",
            "end condition, go to next i\n",
            "now i = 5, min = 1\n",
            "Start condition\n",
            "i >=min, not update\n",
            "end condition, go to next i\n",
            "now i = 9, min = 1\n",
            "Start condition\n",
            "i >=min, not update\n",
            "end condition, go to next i\n",
            "now i = -19, min = 1\n",
            "Start condition\n",
            "i < min, update min -> -19\n",
            "end condition, go to next i\n",
            "now i = -2, min = -19\n",
            "Start condition\n",
            "i >=min, not update\n",
            "end condition, go to next i\n",
            "now i = 0, min = -19\n",
            "Start condition\n",
            "i >=min, not update\n",
            "end condition, go to next i\n",
            "-19\n"
          ],
          "name": "stdout"
        }
      ]
    },
    {
      "cell_type": "markdown",
      "metadata": {
        "id": "LFMvuf_OK-xM"
      },
      "source": [
        "HW3 ตัดเกรด"
      ]
    },
    {
      "cell_type": "code",
      "metadata": {
        "id": "JmEK-7SSVuiq"
      },
      "source": [
        "score = [49,65,70,95,82,55,89,20,77,77,81,59,10] # ตัดเกรด คะเเนนใน list score (ใช้ if กับ for)"
      ],
      "execution_count": 180,
      "outputs": []
    },
    {
      "cell_type": "markdown",
      "metadata": {
        "id": "lRl3-GlzJq0k"
      },
      "source": [
        "#### Function"
      ]
    }
  ]
}