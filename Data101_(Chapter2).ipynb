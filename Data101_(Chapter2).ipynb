{
  "nbformat": 4,
  "nbformat_minor": 0,
  "metadata": {
    "colab": {
      "name": "Data101 (Chapter2).ipynb",
      "provenance": [],
      "authorship_tag": "ABX9TyO+PdpkV1uESxjXBfiBkQC+",
      "include_colab_link": true
    },
    "kernelspec": {
      "name": "python3",
      "display_name": "Python 3"
    },
    "language_info": {
      "name": "python"
    }
  },
  "cells": [
    {
      "cell_type": "markdown",
      "metadata": {
        "id": "view-in-github",
        "colab_type": "text"
      },
      "source": [
        "<a href=\"https://colab.research.google.com/github/SupidchayaTangkidwanich/DWDM21/blob/main/Data101_(Chapter2).ipynb\" target=\"_parent\"><img src=\"https://colab.research.google.com/assets/colab-badge.svg\" alt=\"Open In Colab\"/></a>"
      ]
    },
    {
      "cell_type": "markdown",
      "metadata": {
        "id": "MxIwoR1Lz0Op"
      },
      "source": [
        "ข้อความที่อยู่ใน textbox จะเป็น ภาษา markdown "
      ]
    },
    {
      "cell_type": "markdown",
      "metadata": {
        "id": "3iBgDYt-tl1b"
      },
      "source": [
        "ข้อดีหนึ่งของ Python คือมี package \n",
        "สำหรับทำงานต่างๆมากมาย \n",
        "\n",
        "ซึ่ง pandas เป็น package สำหรับการทำงานกับข้อมูลที่อยู่ในรูปเเบบตาราง\n",
        "\n",
        "โดย pandas จะเรียกตารางนั้นว่า dataframe"
      ]
    },
    {
      "cell_type": "code",
      "metadata": {
        "id": "AAIhZdGorvOq"
      },
      "source": [
        "import pandas # วิธีเรียกใช้ คือ import ตามด้วยชื่อ package |pandas ไว้ใช้เก็บข้อมูล"
      ],
      "execution_count": 54,
      "outputs": []
    },
    {
      "cell_type": "code",
      "metadata": {
        "id": "H5X5QjJQs2f2"
      },
      "source": [
        "import pandas as pd # เหมือนกันกับข้างบนเเต่ว่า ตั้งชื่อให้ package ที่โหลดมาใหม่ว่า pd"
      ],
      "execution_count": 55,
      "outputs": []
    },
    {
      "cell_type": "markdown",
      "metadata": {
        "id": "MSytLq9uusnU"
      },
      "source": [
        "ไฟล์ .csv (CSV = comma separated values)\n",
        "เป็นไฟล์หลักที่เราจะได้ใช้กันในวิชานี้\n",
        "\n",
        "จะเก็บข้อมูลเป็นตารางเข้าใจง่ายๆ สามารถส่งเเล้วเปิดได้ด้วยกันทั้งหมด"
      ]
    },
    {
      "cell_type": "code",
      "metadata": {
        "id": "umwqgzB3ubKG"
      },
      "source": [
        "data_df = pd.read_csv('data.csv') # ไว้ใช้โหลด data"
      ],
      "execution_count": 56,
      "outputs": []
    },
    {
      "cell_type": "code",
      "metadata": {
        "colab": {
          "base_uri": "https://localhost:8080/",
          "height": 143
        },
        "id": "hlDo_FIhxNjI",
        "outputId": "81ef811d-11c0-468d-a6fd-9bf2d31f60e8"
      },
      "source": [
        "data_df # เเสดงข้อมูล"
      ],
      "execution_count": 57,
      "outputs": [
        {
          "output_type": "execute_result",
          "data": {
            "text/html": [
              "<div>\n",
              "<style scoped>\n",
              "    .dataframe tbody tr th:only-of-type {\n",
              "        vertical-align: middle;\n",
              "    }\n",
              "\n",
              "    .dataframe tbody tr th {\n",
              "        vertical-align: top;\n",
              "    }\n",
              "\n",
              "    .dataframe thead th {\n",
              "        text-align: right;\n",
              "    }\n",
              "</style>\n",
              "<table border=\"1\" class=\"dataframe\">\n",
              "  <thead>\n",
              "    <tr style=\"text-align: right;\">\n",
              "      <th></th>\n",
              "      <th>name</th>\n",
              "      <th>age</th>\n",
              "      <th>city</th>\n",
              "    </tr>\n",
              "  </thead>\n",
              "  <tbody>\n",
              "    <tr>\n",
              "      <th>0</th>\n",
              "      <td>Tom</td>\n",
              "      <td>27</td>\n",
              "      <td>Khon Kaen</td>\n",
              "    </tr>\n",
              "    <tr>\n",
              "      <th>1</th>\n",
              "      <td>Paul</td>\n",
              "      <td>15</td>\n",
              "      <td>Bangkok</td>\n",
              "    </tr>\n",
              "    <tr>\n",
              "      <th>2</th>\n",
              "      <td>Sarah</td>\n",
              "      <td>49</td>\n",
              "      <td>London</td>\n",
              "    </tr>\n",
              "  </tbody>\n",
              "</table>\n",
              "</div>"
            ],
            "text/plain": [
              "    name  age       city\n",
              "0    Tom   27  Khon Kaen\n",
              "1   Paul   15    Bangkok\n",
              "2  Sarah   49     London"
            ]
          },
          "metadata": {
            "tags": []
          },
          "execution_count": 57
        }
      ]
    },
    {
      "cell_type": "code",
      "metadata": {
        "colab": {
          "base_uri": "https://localhost:8080/",
          "height": 143
        },
        "id": "ykXwS6BzxQzj",
        "outputId": "5309a186-f0bd-42c4-eeb2-05f8bd93edb2"
      },
      "source": [
        "data_df2 = pd.read_csv('data.csv') # ใน 1 cell สามารถมีได้หลายคำสั่ง\n",
        "data_df2"
      ],
      "execution_count": 58,
      "outputs": [
        {
          "output_type": "execute_result",
          "data": {
            "text/html": [
              "<div>\n",
              "<style scoped>\n",
              "    .dataframe tbody tr th:only-of-type {\n",
              "        vertical-align: middle;\n",
              "    }\n",
              "\n",
              "    .dataframe tbody tr th {\n",
              "        vertical-align: top;\n",
              "    }\n",
              "\n",
              "    .dataframe thead th {\n",
              "        text-align: right;\n",
              "    }\n",
              "</style>\n",
              "<table border=\"1\" class=\"dataframe\">\n",
              "  <thead>\n",
              "    <tr style=\"text-align: right;\">\n",
              "      <th></th>\n",
              "      <th>name</th>\n",
              "      <th>age</th>\n",
              "      <th>city</th>\n",
              "    </tr>\n",
              "  </thead>\n",
              "  <tbody>\n",
              "    <tr>\n",
              "      <th>0</th>\n",
              "      <td>Tom</td>\n",
              "      <td>27</td>\n",
              "      <td>Khon Kaen</td>\n",
              "    </tr>\n",
              "    <tr>\n",
              "      <th>1</th>\n",
              "      <td>Paul</td>\n",
              "      <td>15</td>\n",
              "      <td>Bangkok</td>\n",
              "    </tr>\n",
              "    <tr>\n",
              "      <th>2</th>\n",
              "      <td>Sarah</td>\n",
              "      <td>49</td>\n",
              "      <td>London</td>\n",
              "    </tr>\n",
              "  </tbody>\n",
              "</table>\n",
              "</div>"
            ],
            "text/plain": [
              "    name  age       city\n",
              "0    Tom   27  Khon Kaen\n",
              "1   Paul   15    Bangkok\n",
              "2  Sarah   49     London"
            ]
          },
          "metadata": {
            "tags": []
          },
          "execution_count": 58
        }
      ]
    },
    {
      "cell_type": "markdown",
      "metadata": {
        "id": "TCnhImN4zCPS"
      },
      "source": [
        "# Basic python\n",
        "## Variables คือ กล่องที่เก็บข้อมูล\n",
        "\n",
        "ข้อกำหนดในการตั้งชื่อตัวเเปร\n",
        "\n",
        "\n",
        "1.   ชื่อห้ามมีเว้นวรรค\n",
        "2.   (พยายาม)ใช้ภาษาอังกฤษ \n",
        "3.   ตัวเล็กกับตัวใหญ่ เเตกต่างกัน (case sensitive)\n",
        "4.   ห้ามใช้ตัวเลขเป็นตัวหน้า\n",
        "\n",
        "\n"
      ]
    },
    {
      "cell_type": "code",
      "metadata": {
        "id": "uhK1VElsyFsE"
      },
      "source": [
        "variable_a = 12 # ข้อมูลเป็นค่าตัวเลข\n",
        "variable_b = 'abcde' # ' เรียกว่า quote ไว้ใช้กับ text/string\n",
        "variable_c = variable_a # ตัวเเปร"
      ],
      "execution_count": 59,
      "outputs": []
    },
    {
      "cell_type": "code",
      "metadata": {
        "colab": {
          "base_uri": "https://localhost:8080/"
        },
        "id": "8pVJ72tv1JGC",
        "outputId": "1a2de1af-398b-4750-8447-d1cafc8744b1"
      },
      "source": [
        "variable_a"
      ],
      "execution_count": 60,
      "outputs": [
        {
          "output_type": "execute_result",
          "data": {
            "text/plain": [
              "12"
            ]
          },
          "metadata": {
            "tags": []
          },
          "execution_count": 60
        }
      ]
    },
    {
      "cell_type": "code",
      "metadata": {
        "colab": {
          "base_uri": "https://localhost:8080/",
          "height": 34
        },
        "id": "w876hISk1Kl4",
        "outputId": "febc57fd-4472-45e3-b44a-c654f3304435"
      },
      "source": [
        "variable_b"
      ],
      "execution_count": 61,
      "outputs": [
        {
          "output_type": "execute_result",
          "data": {
            "application/vnd.google.colaboratory.intrinsic+json": {
              "type": "string"
            },
            "text/plain": [
              "'abcde'"
            ]
          },
          "metadata": {
            "tags": []
          },
          "execution_count": 61
        }
      ]
    },
    {
      "cell_type": "code",
      "metadata": {
        "colab": {
          "base_uri": "https://localhost:8080/"
        },
        "id": "D4J2flLD1NQi",
        "outputId": "7c544e74-cbce-4041-e4ce-7e3cd123f343"
      },
      "source": [
        "variable_c # เท่ากับ variable_a "
      ],
      "execution_count": 62,
      "outputs": [
        {
          "output_type": "execute_result",
          "data": {
            "text/plain": [
              "12"
            ]
          },
          "metadata": {
            "tags": []
          },
          "execution_count": 62
        }
      ]
    },
    {
      "cell_type": "markdown",
      "metadata": {
        "id": "XmrgSEaW2HeE"
      },
      "source": [
        "### สิ่งที่ผิด"
      ]
    },
    {
      "cell_type": "code",
      "metadata": {
        "colab": {
          "base_uri": "https://localhost:8080/",
          "height": 132
        },
        "id": "wGJdPKJ81Ojn",
        "outputId": "3d970b19-9da0-41bd-f3e4-d103a59c8dd0"
      },
      "source": [
        "# ชื่อห้ามมีเว้นเวรรค\n",
        "variable a = 6"
      ],
      "execution_count": 64,
      "outputs": [
        {
          "output_type": "error",
          "ename": "SyntaxError",
          "evalue": "ignored",
          "traceback": [
            "\u001b[0;36m  File \u001b[0;32m\"<ipython-input-64-3c4ead0f09cc>\"\u001b[0;36m, line \u001b[0;32m2\u001b[0m\n\u001b[0;31m    variable a = 6\u001b[0m\n\u001b[0m             ^\u001b[0m\n\u001b[0;31mSyntaxError\u001b[0m\u001b[0;31m:\u001b[0m invalid syntax\n"
          ]
        }
      ]
    },
    {
      "cell_type": "code",
      "metadata": {
        "colab": {
          "base_uri": "https://localhost:8080/"
        },
        "id": "TlDEuWE22GLh",
        "outputId": "2f841722-3a09-49d0-cc8a-351cf3d3f1be"
      },
      "source": [
        "# (พยายาม)ใช้ภาษาอังกฤษ\n",
        "#colab ใช้ภาษาไทยเป็นชื่อตัวเเปรได้ เเต่ไม่ควรใช้\n",
        "ตัวเเปร = 3 \n",
        "ตัวเเปร"
      ],
      "execution_count": 65,
      "outputs": [
        {
          "output_type": "execute_result",
          "data": {
            "text/plain": [
              "3"
            ]
          },
          "metadata": {
            "tags": []
          },
          "execution_count": 65
        }
      ]
    },
    {
      "cell_type": "code",
      "metadata": {
        "colab": {
          "base_uri": "https://localhost:8080/"
        },
        "id": "m_TtRNpu2RVn",
        "outputId": "5979fc52-def6-48ce-9a18-cd19f911ec66"
      },
      "source": [
        "# ตัวเล็กกับตัวใหญ่ เเตกต่างกัน (case sensitive)\n",
        "v_a = 1\n",
        "V_a = 2\n",
        "print(v_a)\n",
        "print(V_a)"
      ],
      "execution_count": 66,
      "outputs": [
        {
          "output_type": "stream",
          "text": [
            "1\n",
            "2\n"
          ],
          "name": "stdout"
        }
      ]
    },
    {
      "cell_type": "code",
      "metadata": {
        "colab": {
          "base_uri": "https://localhost:8080/"
        },
        "id": "0H3BMDhc3HdX",
        "outputId": "3c01b9f9-fa31-4dab-82c0-a1bcc5d98016"
      },
      "source": [
        "# ตัวเล็กกับตัวใหญ่ เเตกต่างกัน (case sensitive)\n",
        "v_a = 1\n",
        "v_a = 2\n",
        "print(v_a)\n",
        "print(v_a)"
      ],
      "execution_count": 67,
      "outputs": [
        {
          "output_type": "stream",
          "text": [
            "2\n",
            "2\n"
          ],
          "name": "stdout"
        }
      ]
    },
    {
      "cell_type": "code",
      "metadata": {
        "colab": {
          "base_uri": "https://localhost:8080/",
          "height": 132
        },
        "id": "RAP3lDpI3aJI",
        "outputId": "1e0e6b73-41a4-4676-a683-f4f64b5a286a"
      },
      "source": [
        "# ห้ามใช้ตัวเลขเป็นตัวหน้า\n",
        "2 = 1"
      ],
      "execution_count": 68,
      "outputs": [
        {
          "output_type": "error",
          "ename": "SyntaxError",
          "evalue": "ignored",
          "traceback": [
            "\u001b[0;36m  File \u001b[0;32m\"<ipython-input-68-24eb8a2ec18c>\"\u001b[0;36m, line \u001b[0;32m2\u001b[0m\n\u001b[0;31m    2 = 1\u001b[0m\n\u001b[0m         ^\u001b[0m\n\u001b[0;31mSyntaxError\u001b[0m\u001b[0;31m:\u001b[0m can't assign to literal\n"
          ]
        }
      ]
    },
    {
      "cell_type": "code",
      "metadata": {
        "id": "bCe6sI4-3pKn"
      },
      "source": [
        "# ห้ามใช้ตัวเลขเป็นตัวหน้า\n",
        "2ab = 1"
      ],
      "execution_count": null,
      "outputs": []
    },
    {
      "cell_type": "code",
      "metadata": {
        "id": "AOHNxjgd3vj6"
      },
      "source": [
        "# ห้ามใช้ตัวเลขเป็นตัวหน้า\n",
        "variable1 = 1 # ทำได้เพราะเลขอยู่ข้างหลัง"
      ],
      "execution_count": 69,
      "outputs": []
    },
    {
      "cell_type": "code",
      "metadata": {
        "id": "X5FfSzU930M_",
        "colab": {
          "base_uri": "https://localhost:8080/"
        },
        "outputId": "0d3c5bba-3587-4204-f3c7-606eca16ea52"
      },
      "source": [
        "print(variable1)"
      ],
      "execution_count": 70,
      "outputs": [
        {
          "output_type": "stream",
          "text": [
            "1\n"
          ],
          "name": "stdout"
        }
      ]
    },
    {
      "cell_type": "code",
      "metadata": {
        "id": "Rf7L70XG32KY"
      },
      "source": [
        "variable_a = 12 # ข้อมูลเป็นค่าตัวเลข\n",
        "variable_b = 'abcde' # ' เรียกว่า quote ไว้ใช้กับ text/string\n",
        "variable_c = variable_a # ตัวเเปร\n",
        "variable_d = -41.2\n",
        "variable_4 = \"KKU\" # \" \" เรียกว่า double quote ใช้เป็นค่า text/string"
      ],
      "execution_count": 71,
      "outputs": []
    },
    {
      "cell_type": "code",
      "metadata": {
        "colab": {
          "base_uri": "https://localhost:8080/"
        },
        "id": "I8TuRCWH39bO",
        "outputId": "11c15f11-0c78-4335-9d29-93b7cb41fcda"
      },
      "source": [
        "variable_x = variable_c + variable_d # ตัวเเปรสามารถบวกกันได้\n",
        "print(variable_x) # มาตรฐานในการเเสดงค่า"
      ],
      "execution_count": 72,
      "outputs": [
        {
          "output_type": "stream",
          "text": [
            "-29.200000000000003\n"
          ],
          "name": "stdout"
        }
      ]
    },
    {
      "cell_type": "code",
      "metadata": {
        "colab": {
          "base_uri": "https://localhost:8080/",
          "height": 166
        },
        "id": "O420xP1V4jCP",
        "outputId": "bcf13bba-446b-4dc2-c5b7-282d0364f30d"
      },
      "source": [
        "variable_a + variable_b  # ก็จะ error int + string ไม่สามารถบวกกันได้(ตัวเลขกับตัวหนังสือบวกกันไม่ได้)"
      ],
      "execution_count": 73,
      "outputs": [
        {
          "output_type": "error",
          "ename": "TypeError",
          "evalue": "ignored",
          "traceback": [
            "\u001b[0;31m---------------------------------------------------------------------------\u001b[0m",
            "\u001b[0;31mTypeError\u001b[0m                                 Traceback (most recent call last)",
            "\u001b[0;32m<ipython-input-73-c7eb5fbe674d>\u001b[0m in \u001b[0;36m<module>\u001b[0;34m()\u001b[0m\n\u001b[0;32m----> 1\u001b[0;31m \u001b[0mvariable_a\u001b[0m \u001b[0;34m+\u001b[0m \u001b[0mvariable_b\u001b[0m  \u001b[0;31m# ก็จะ error int + string ไม่สามารถบวกกันได้(ตัวเลขกับตัวหนังสือบวกกันไม่ได้)\u001b[0m\u001b[0;34m\u001b[0m\u001b[0;34m\u001b[0m\u001b[0m\n\u001b[0m",
            "\u001b[0;31mTypeError\u001b[0m: unsupported operand type(s) for +: 'int' and 'str'"
          ]
        }
      ]
    },
    {
      "cell_type": "code",
      "metadata": {
        "id": "iqcWr8VW6LNB"
      },
      "source": [
        "print(variable_b + variable_4) # ตัวหนังสือกับตัวหนังสือบวกกันได้ โดยการเอา string มาต่อกัน"
      ],
      "execution_count": null,
      "outputs": []
    },
    {
      "cell_type": "markdown",
      "metadata": {
        "id": "k_3j9Qxh7BR5"
      },
      "source": [
        "## Casting int() floating() str() \n",
        "\n",
        "คือ สามารถเปลี่ยนชนิดของตัวเเปรได้"
      ]
    },
    {
      "cell_type": "code",
      "metadata": {
        "colab": {
          "base_uri": "https://localhost:8080/"
        },
        "id": "iMcr7CPI6ci4",
        "outputId": "d43fbc5a-2b91-4f25-8f2b-e0ddbc0b9ae8"
      },
      "source": [
        "print(variable_x)\n",
        "print(int(variable_x)) # มันจะตัดทศนิยมออกไปเลย ไม่ปัดขึ้น-ปัดลง"
      ],
      "execution_count": 74,
      "outputs": [
        {
          "output_type": "stream",
          "text": [
            "-29.200000000000003\n",
            "-29\n"
          ],
          "name": "stdout"
        }
      ]
    },
    {
      "cell_type": "code",
      "metadata": {
        "colab": {
          "base_uri": "https://localhost:8080/"
        },
        "id": "BD4NuOnp7YkH",
        "outputId": "8c94934d-ae5b-49f4-d6e1-51a95eb8c9b3"
      },
      "source": [
        "V_X = str(variable_x)\n",
        "print(V_X) # เป็น str เเล้ว"
      ],
      "execution_count": 75,
      "outputs": [
        {
          "output_type": "stream",
          "text": [
            "-29.200000000000003\n"
          ],
          "name": "stdout"
        }
      ]
    },
    {
      "cell_type": "code",
      "metadata": {
        "colab": {
          "base_uri": "https://localhost:8080/",
          "height": 166
        },
        "id": "GBH-9bE572lP",
        "outputId": "ee2c9f08-9516-416f-9907-11a5e0cb88c6"
      },
      "source": [
        "V_X + variable_a  # ไม่สามารถทำได้เพราะ V_X เป็น str เเล้ว"
      ],
      "execution_count": 76,
      "outputs": [
        {
          "output_type": "error",
          "ename": "TypeError",
          "evalue": "ignored",
          "traceback": [
            "\u001b[0;31m---------------------------------------------------------------------------\u001b[0m",
            "\u001b[0;31mTypeError\u001b[0m                                 Traceback (most recent call last)",
            "\u001b[0;32m<ipython-input-76-fc71ec4110bf>\u001b[0m in \u001b[0;36m<module>\u001b[0;34m()\u001b[0m\n\u001b[0;32m----> 1\u001b[0;31m \u001b[0mV_X\u001b[0m \u001b[0;34m+\u001b[0m \u001b[0mvariable_a\u001b[0m  \u001b[0;31m# ไม่สามารถทำได้เพราะ V_X เป็น str เเล้ว\u001b[0m\u001b[0;34m\u001b[0m\u001b[0;34m\u001b[0m\u001b[0m\n\u001b[0m",
            "\u001b[0;31mTypeError\u001b[0m: can only concatenate str (not \"int\") to str"
          ]
        }
      ]
    },
    {
      "cell_type": "code",
      "metadata": {
        "colab": {
          "base_uri": "https://localhost:8080/",
          "height": 166
        },
        "id": "frJtGg4E78Qm",
        "outputId": "fc0d9c6f-afd8-4e1b-9547-5ef1cba7d94b"
      },
      "source": [
        "variable_a + V_X # สลับที่ก็ยังคงบวกกันไม่ได้อยู่ดี เพราะ V_X เป็น str เเล้ว Variable_a เป็นตัวเลข"
      ],
      "execution_count": 77,
      "outputs": [
        {
          "output_type": "error",
          "ename": "TypeError",
          "evalue": "ignored",
          "traceback": [
            "\u001b[0;31m---------------------------------------------------------------------------\u001b[0m",
            "\u001b[0;31mTypeError\u001b[0m                                 Traceback (most recent call last)",
            "\u001b[0;32m<ipython-input-77-5ae90b8690c1>\u001b[0m in \u001b[0;36m<module>\u001b[0;34m()\u001b[0m\n\u001b[0;32m----> 1\u001b[0;31m \u001b[0mvariable_a\u001b[0m \u001b[0;34m+\u001b[0m \u001b[0mV_X\u001b[0m \u001b[0;31m# สลับที่ก็ยังคงบวกกันไม่ได้อยู่ดี เพราะ V_X เป็น str เเล้ว Variable_a เป็นตัวเลข\u001b[0m\u001b[0;34m\u001b[0m\u001b[0;34m\u001b[0m\u001b[0m\n\u001b[0m",
            "\u001b[0;31mTypeError\u001b[0m: unsupported operand type(s) for +: 'int' and 'str'"
          ]
        }
      ]
    },
    {
      "cell_type": "code",
      "metadata": {
        "colab": {
          "base_uri": "https://localhost:8080/",
          "height": 34
        },
        "id": "HwY6-ij68DT-",
        "outputId": "01cfcef0-8ea5-4e06-ed1e-bf7c1c630da8"
      },
      "source": [
        "V_X # จะบอกว่าเป็นตัวเเปรชนิดไหน"
      ],
      "execution_count": 78,
      "outputs": [
        {
          "output_type": "execute_result",
          "data": {
            "application/vnd.google.colaboratory.intrinsic+json": {
              "type": "string"
            },
            "text/plain": [
              "'-29.200000000000003'"
            ]
          },
          "metadata": {
            "tags": []
          },
          "execution_count": 78
        }
      ]
    },
    {
      "cell_type": "code",
      "metadata": {
        "colab": {
          "base_uri": "https://localhost:8080/"
        },
        "id": "bPvBTH2O8ZMP",
        "outputId": "32735c84-8b24-4c40-b431-c95fdb27d9b3"
      },
      "source": [
        "float(V_X) # เปลี่ยนกลายเป็นตัวเลขทศนิยมเหมือนเดิมได้"
      ],
      "execution_count": 79,
      "outputs": [
        {
          "output_type": "execute_result",
          "data": {
            "text/plain": [
              "-29.200000000000003"
            ]
          },
          "metadata": {
            "tags": []
          },
          "execution_count": 79
        }
      ]
    },
    {
      "cell_type": "markdown",
      "metadata": {
        "id": "QQQfgMSF839I"
      },
      "source": [
        "# Data Structure (โครงสร้างของข้อมูล)\n",
        "### list()\n",
        "\n",
        "คือ ตัวเลขหรือตัวเเปรมาเรียงต่อๆกัน"
      ]
    },
    {
      "cell_type": "code",
      "metadata": {
        "id": "CENuxLti8le_"
      },
      "source": [
        "list_a = [1,2,0.2,'abs'] # [] square brackets \n",
        "list_b = [2,'xyz',list_a,[1,2,0.0]] # สามารถเก็บซ้อนลิสต์ได้"
      ],
      "execution_count": 80,
      "outputs": []
    },
    {
      "cell_type": "code",
      "metadata": {
        "colab": {
          "base_uri": "https://localhost:8080/"
        },
        "id": "9GuVN0O094Cm",
        "outputId": "5ce9d0fc-5d80-4b20-e9bf-f1152f8eb56a"
      },
      "source": [
        "list_a #ลำดับมีความสำคัญ"
      ],
      "execution_count": 81,
      "outputs": [
        {
          "output_type": "execute_result",
          "data": {
            "text/plain": [
              "[1, 2, 0.2, 'abs']"
            ]
          },
          "metadata": {
            "tags": []
          },
          "execution_count": 81
        }
      ]
    },
    {
      "cell_type": "code",
      "metadata": {
        "colab": {
          "base_uri": "https://localhost:8080/"
        },
        "id": "pCNWMr5N95Iv",
        "outputId": "cb5e8e41-a431-4aec-c537-6d1151232b37"
      },
      "source": [
        "list_b"
      ],
      "execution_count": 82,
      "outputs": [
        {
          "output_type": "execute_result",
          "data": {
            "text/plain": [
              "[2, 'xyz', [1, 2, 0.2, 'abs'], [1, 2, 0.0]]"
            ]
          },
          "metadata": {
            "tags": []
          },
          "execution_count": 82
        }
      ]
    },
    {
      "cell_type": "code",
      "metadata": {
        "colab": {
          "base_uri": "https://localhost:8080/"
        },
        "id": "iM0yTahu-C1o",
        "outputId": "078d0996-69ba-453f-eb9e-bdff3a1f9b1c"
      },
      "source": [
        "len(list_b) # len ย่อมาจาก length ใช้ดูความยาว"
      ],
      "execution_count": 83,
      "outputs": [
        {
          "output_type": "execute_result",
          "data": {
            "text/plain": [
              "4"
            ]
          },
          "metadata": {
            "tags": []
          },
          "execution_count": 83
        }
      ]
    },
    {
      "cell_type": "code",
      "metadata": {
        "colab": {
          "base_uri": "https://localhost:8080/"
        },
        "id": "529tsoEK-QqW",
        "outputId": "f7f75b1c-de34-43da-9370-7594522e026b"
      },
      "source": [
        "list_b[3] # ชี้ลิสต์ได้"
      ],
      "execution_count": 84,
      "outputs": [
        {
          "output_type": "execute_result",
          "data": {
            "text/plain": [
              "[1, 2, 0.0]"
            ]
          },
          "metadata": {
            "tags": []
          },
          "execution_count": 84
        }
      ]
    },
    {
      "cell_type": "code",
      "metadata": {
        "colab": {
          "base_uri": "https://localhost:8080/"
        },
        "id": "mlySZ5Ty-bbu",
        "outputId": "08bec5d5-d657-4928-989c-74090016c855"
      },
      "source": [
        "list_b[3][1] # ชี้ซ้อนลิสต์ได้ ในทีนี้อยากชี้ลิสต์ [1,2,0.0] อยากชี้ตัวอันดับที่ 1 คือเลข 2"
      ],
      "execution_count": 85,
      "outputs": [
        {
          "output_type": "execute_result",
          "data": {
            "text/plain": [
              "2"
            ]
          },
          "metadata": {
            "tags": []
          },
          "execution_count": 85
        }
      ]
    },
    {
      "cell_type": "markdown",
      "metadata": {
        "id": "RS8lKzpJ-2YC"
      },
      "source": [
        "string คือ list ของ ตัวหนังสือ"
      ]
    },
    {
      "cell_type": "code",
      "metadata": {
        "id": "GUa0IzMG-kdW"
      },
      "source": [
        "a = 'Stat KKU'"
      ],
      "execution_count": 86,
      "outputs": []
    },
    {
      "cell_type": "code",
      "metadata": {
        "colab": {
          "base_uri": "https://localhost:8080/",
          "height": 34
        },
        "id": "G5MKhpw3_DVt",
        "outputId": "959a9356-d133-4581-d200-bea22af7a6a4"
      },
      "source": [
        "a[4] # เว้นววรค"
      ],
      "execution_count": 87,
      "outputs": [
        {
          "output_type": "execute_result",
          "data": {
            "application/vnd.google.colaboratory.intrinsic+json": {
              "type": "string"
            },
            "text/plain": [
              "' '"
            ]
          },
          "metadata": {
            "tags": []
          },
          "execution_count": 87
        }
      ]
    },
    {
      "cell_type": "markdown",
      "metadata": {
        "id": "FvJnPdhb_dP4"
      },
      "source": [
        "### วิธีสร้าง list ว่าง"
      ]
    },
    {
      "cell_type": "code",
      "metadata": {
        "id": "PLf8Ge3g_G-G"
      },
      "source": [
        "list_c = list() # เเบบที่ 1 \n",
        "list_d = [] # เเบบที่ 2 "
      ],
      "execution_count": 88,
      "outputs": []
    },
    {
      "cell_type": "code",
      "metadata": {
        "colab": {
          "base_uri": "https://localhost:8080/"
        },
        "id": "4WHmbOap_2yc",
        "outputId": "81694345-fbb9-4b3f-97f2-995298cabc60"
      },
      "source": [
        "list_c "
      ],
      "execution_count": 89,
      "outputs": [
        {
          "output_type": "execute_result",
          "data": {
            "text/plain": [
              "[]"
            ]
          },
          "metadata": {
            "tags": []
          },
          "execution_count": 89
        }
      ]
    },
    {
      "cell_type": "code",
      "metadata": {
        "colab": {
          "base_uri": "https://localhost:8080/"
        },
        "id": "QRlFbbj1_4B_",
        "outputId": "4db57f6a-d42a-4166-d2e0-85314d7684f4"
      },
      "source": [
        "list_d"
      ],
      "execution_count": 90,
      "outputs": [
        {
          "output_type": "execute_result",
          "data": {
            "text/plain": [
              "[]"
            ]
          },
          "metadata": {
            "tags": []
          },
          "execution_count": 90
        }
      ]
    },
    {
      "cell_type": "markdown",
      "metadata": {
        "id": "6mTsdKTbAbji"
      },
      "source": [
        "เติมค่าลงไปใน list(.append())"
      ]
    },
    {
      "cell_type": "code",
      "metadata": {
        "id": "LP5EotRf_70v"
      },
      "source": [
        "list_d.append('a')"
      ],
      "execution_count": 91,
      "outputs": []
    },
    {
      "cell_type": "code",
      "metadata": {
        "colab": {
          "base_uri": "https://localhost:8080/"
        },
        "id": "YJpFttlMAqR-",
        "outputId": "10703ea5-8bf0-43d7-8e1a-9a7c57e9e12b"
      },
      "source": [
        "list_d"
      ],
      "execution_count": 92,
      "outputs": [
        {
          "output_type": "execute_result",
          "data": {
            "text/plain": [
              "['a']"
            ]
          },
          "metadata": {
            "tags": []
          },
          "execution_count": 92
        }
      ]
    },
    {
      "cell_type": "code",
      "metadata": {
        "id": "MoyPtVyMAtKl"
      },
      "source": [
        "list_d.append(56)"
      ],
      "execution_count": 93,
      "outputs": []
    },
    {
      "cell_type": "code",
      "metadata": {
        "colab": {
          "base_uri": "https://localhost:8080/"
        },
        "id": "A1P7G6NGA2nm",
        "outputId": "c5a55487-9c2d-41e8-ee41-0af7a615aa7f"
      },
      "source": [
        "list_d"
      ],
      "execution_count": 94,
      "outputs": [
        {
          "output_type": "execute_result",
          "data": {
            "text/plain": [
              "['a', 56]"
            ]
          },
          "metadata": {
            "tags": []
          },
          "execution_count": 94
        }
      ]
    },
    {
      "cell_type": "markdown",
      "metadata": {
        "id": "GYLDMJSiBCQQ"
      },
      "source": [
        "#### การชี้ค่าใน list (Indexing)\n",
        "\n",
        "1.   ใช้ลำดับในการชี้\n",
        "2.   ลำดับเริ่มจาก 0 \n",
        "3.   สามารถชี้จากข้างหลังได้โดยใช้ negative index\n",
        "\n"
      ]
    },
    {
      "cell_type": "code",
      "metadata": {
        "colab": {
          "base_uri": "https://localhost:8080/"
        },
        "id": "J-3WfOqhA32s",
        "outputId": "35938d57-e7d0-40fa-fe51-6f36573133a7"
      },
      "source": [
        "list_b"
      ],
      "execution_count": 95,
      "outputs": [
        {
          "output_type": "execute_result",
          "data": {
            "text/plain": [
              "[2, 'xyz', [1, 2, 0.2, 'abs'], [1, 2, 0.0]]"
            ]
          },
          "metadata": {
            "tags": []
          },
          "execution_count": 95
        }
      ]
    },
    {
      "cell_type": "code",
      "metadata": {
        "colab": {
          "base_uri": "https://localhost:8080/"
        },
        "id": "gFUKqlB5Bagu",
        "outputId": "0d9c8e29-8d8d-477e-a835-77c201594fa2"
      },
      "source": [
        "list_b[-1] # ชี้จากข้างหลังได้"
      ],
      "execution_count": 96,
      "outputs": [
        {
          "output_type": "execute_result",
          "data": {
            "text/plain": [
              "[1, 2, 0.0]"
            ]
          },
          "metadata": {
            "tags": []
          },
          "execution_count": 96
        }
      ]
    },
    {
      "cell_type": "markdown",
      "metadata": {
        "id": "Lc16tQQMCCko"
      },
      "source": [
        "### list slicing \n",
        "\n",
        "คือ  การตัด list เลือกบางส่วนของ list ได้"
      ]
    },
    {
      "cell_type": "code",
      "metadata": {
        "id": "jx-XR5JxBgOl"
      },
      "source": [
        "list_ex = [1,2,3,5,6,8,-1,20,50,0]"
      ],
      "execution_count": 97,
      "outputs": []
    },
    {
      "cell_type": "markdown",
      "metadata": {
        "id": "K3mRF3ITC3Q5"
      },
      "source": [
        "เราจะตัด list โดยเอาตั้งเเต่ [ตัวหน้า:ตัวก่อนตัวหลัง]\n",
        "\n",
        "ถ้าเป็นสัญลักษณ์คณิตศาสตร์ [ตัวหน้า:ตัวหลัง]-> [ตัวหน้า,ตัวหลัง)"
      ]
    },
    {
      "cell_type": "code",
      "metadata": {
        "colab": {
          "base_uri": "https://localhost:8080/"
        },
        "id": "x3LYKB6jCV7b",
        "outputId": "042c7ad1-6db9-4a5b-88a9-de915de171e7"
      },
      "source": [
        "list_ex[1:6] # อยากได้ตัวที่ 1 - 5"
      ],
      "execution_count": 98,
      "outputs": [
        {
          "output_type": "execute_result",
          "data": {
            "text/plain": [
              "[2, 3, 5, 6, 8]"
            ]
          },
          "metadata": {
            "tags": []
          },
          "execution_count": 98
        }
      ]
    },
    {
      "cell_type": "code",
      "metadata": {
        "colab": {
          "base_uri": "https://localhost:8080/"
        },
        "id": "oZ26pmasCj3m",
        "outputId": "a4cb99a3-1492-4af5-fa45-03da5433f2e1"
      },
      "source": [
        "list_ex[4:] # คือเอาจนถึงตัวสุดท้าย"
      ],
      "execution_count": 99,
      "outputs": [
        {
          "output_type": "execute_result",
          "data": {
            "text/plain": [
              "[6, 8, -1, 20, 50, 0]"
            ]
          },
          "metadata": {
            "tags": []
          },
          "execution_count": 99
        }
      ]
    },
    {
      "cell_type": "code",
      "metadata": {
        "colab": {
          "base_uri": "https://localhost:8080/"
        },
        "id": "zBil77pNDe6b",
        "outputId": "35202540-983a-4b60-dc53-9e2042ef625d"
      },
      "source": [
        "list_ex[:6] # คือเอาตั้งเเต่ตัวเเรก จนถึงตัวที่ 6"
      ],
      "execution_count": 100,
      "outputs": [
        {
          "output_type": "execute_result",
          "data": {
            "text/plain": [
              "[1, 2, 3, 5, 6, 8]"
            ]
          },
          "metadata": {
            "tags": []
          },
          "execution_count": 100
        }
      ]
    },
    {
      "cell_type": "markdown",
      "metadata": {
        "id": "GtXJLG9nELEf"
      },
      "source": [
        "[จุดเริ่มต้น:จุดสุดท้าย:step]"
      ]
    },
    {
      "cell_type": "code",
      "metadata": {
        "colab": {
          "base_uri": "https://localhost:8080/"
        },
        "id": "ZpZjoFKNEVKH",
        "outputId": "562cb908-4f4b-49db-bff1-35a38c97a55e"
      },
      "source": [
        "list_ex"
      ],
      "execution_count": 101,
      "outputs": [
        {
          "output_type": "execute_result",
          "data": {
            "text/plain": [
              "[1, 2, 3, 5, 6, 8, -1, 20, 50, 0]"
            ]
          },
          "metadata": {
            "tags": []
          },
          "execution_count": 101
        }
      ]
    },
    {
      "cell_type": "code",
      "metadata": {
        "colab": {
          "base_uri": "https://localhost:8080/"
        },
        "id": "ryEPGBvFDmz9",
        "outputId": "d50b131e-0751-4079-c9e8-26c5c61ae518"
      },
      "source": [
        "list_ex[::2] # ตัวเเรกไปจนถึงตัวสุดท้าย step 2 คือกระโดด 2"
      ],
      "execution_count": 102,
      "outputs": [
        {
          "output_type": "execute_result",
          "data": {
            "text/plain": [
              "[1, 3, 6, -1, 50]"
            ]
          },
          "metadata": {
            "tags": []
          },
          "execution_count": 102
        }
      ]
    },
    {
      "cell_type": "code",
      "metadata": {
        "colab": {
          "base_uri": "https://localhost:8080/"
        },
        "id": "9cJmkKr1EAfE",
        "outputId": "d9d7f432-39d6-42c1-f6b1-0944bde3798f"
      },
      "source": [
        "list_ex[::-1] # การกลับ list "
      ],
      "execution_count": 103,
      "outputs": [
        {
          "output_type": "execute_result",
          "data": {
            "text/plain": [
              "[0, 50, 20, -1, 8, 6, 5, 3, 2, 1]"
            ]
          },
          "metadata": {
            "tags": []
          },
          "execution_count": 103
        }
      ]
    },
    {
      "cell_type": "code",
      "metadata": {
        "colab": {
          "base_uri": "https://localhost:8080/",
          "height": 34
        },
        "id": "Cu5vmUzzEsPE",
        "outputId": "f30d77c9-6abc-4416-8d71-02c15552bd96"
      },
      "source": [
        "a"
      ],
      "execution_count": 104,
      "outputs": [
        {
          "output_type": "execute_result",
          "data": {
            "application/vnd.google.colaboratory.intrinsic+json": {
              "type": "string"
            },
            "text/plain": [
              "'Stat KKU'"
            ]
          },
          "metadata": {
            "tags": []
          },
          "execution_count": 104
        }
      ]
    },
    {
      "cell_type": "code",
      "metadata": {
        "colab": {
          "base_uri": "https://localhost:8080/",
          "height": 34
        },
        "id": "yi8g7pdoE42M",
        "outputId": "43140035-4bf8-4f30-83ba-8e0fa7b2b941"
      },
      "source": [
        "a[5:]"
      ],
      "execution_count": 105,
      "outputs": [
        {
          "output_type": "execute_result",
          "data": {
            "application/vnd.google.colaboratory.intrinsic+json": {
              "type": "string"
            },
            "text/plain": [
              "'KKU'"
            ]
          },
          "metadata": {
            "tags": []
          },
          "execution_count": 105
        }
      ]
    },
    {
      "cell_type": "code",
      "metadata": {
        "colab": {
          "base_uri": "https://localhost:8080/",
          "height": 34
        },
        "id": "w1MAJx5pFDbt",
        "outputId": "5810a515-ae89-4ea7-bd30-af2ccb906842"
      },
      "source": [
        "a[-3:]"
      ],
      "execution_count": 106,
      "outputs": [
        {
          "output_type": "execute_result",
          "data": {
            "application/vnd.google.colaboratory.intrinsic+json": {
              "type": "string"
            },
            "text/plain": [
              "'KKU'"
            ]
          },
          "metadata": {
            "tags": []
          },
          "execution_count": 106
        }
      ]
    },
    {
      "cell_type": "code",
      "metadata": {
        "colab": {
          "base_uri": "https://localhost:8080/",
          "height": 34
        },
        "id": "fEwR6zDoFwbb",
        "outputId": "56c6cbba-600c-47db-f5ed-6fbd64bcde04"
      },
      "source": [
        "a[5::]"
      ],
      "execution_count": 107,
      "outputs": [
        {
          "output_type": "execute_result",
          "data": {
            "application/vnd.google.colaboratory.intrinsic+json": {
              "type": "string"
            },
            "text/plain": [
              "'KKU'"
            ]
          },
          "metadata": {
            "tags": []
          },
          "execution_count": 107
        }
      ]
    },
    {
      "cell_type": "code",
      "metadata": {
        "colab": {
          "base_uri": "https://localhost:8080/",
          "height": 34
        },
        "id": "5iDU2bw5FyYN",
        "outputId": "d0846960-45fc-4478-bbfd-66a05211df95"
      },
      "source": [
        "a[5:8]"
      ],
      "execution_count": 108,
      "outputs": [
        {
          "output_type": "execute_result",
          "data": {
            "application/vnd.google.colaboratory.intrinsic+json": {
              "type": "string"
            },
            "text/plain": [
              "'KKU'"
            ]
          },
          "metadata": {
            "tags": []
          },
          "execution_count": 108
        }
      ]
    },
    {
      "cell_type": "code",
      "metadata": {
        "colab": {
          "base_uri": "https://localhost:8080/",
          "height": 34
        },
        "id": "8CihkmNlF_jE",
        "outputId": "93acfdc3-f32b-46b2-a438-34bd777a9c1a"
      },
      "source": [
        "a[-3::]"
      ],
      "execution_count": 109,
      "outputs": [
        {
          "output_type": "execute_result",
          "data": {
            "application/vnd.google.colaboratory.intrinsic+json": {
              "type": "string"
            },
            "text/plain": [
              "'KKU'"
            ]
          },
          "metadata": {
            "tags": []
          },
          "execution_count": 109
        }
      ]
    },
    {
      "cell_type": "markdown",
      "metadata": {
        "id": "b4TtmWLUGlL-"
      },
      "source": [
        "### list + list"
      ]
    },
    {
      "cell_type": "code",
      "metadata": {
        "colab": {
          "base_uri": "https://localhost:8080/"
        },
        "id": "10ErZapsGEb6",
        "outputId": "32cfbca2-902a-4675-89c2-3e454ebb85f5"
      },
      "source": [
        "print(list_a)\n",
        "print(list_b)"
      ],
      "execution_count": 110,
      "outputs": [
        {
          "output_type": "stream",
          "text": [
            "[1, 2, 0.2, 'abs']\n",
            "[2, 'xyz', [1, 2, 0.2, 'abs'], [1, 2, 0.0]]\n"
          ],
          "name": "stdout"
        }
      ]
    },
    {
      "cell_type": "code",
      "metadata": {
        "colab": {
          "base_uri": "https://localhost:8080/"
        },
        "id": "tDoX6Ff_G5wT",
        "outputId": "642a16ed-1188-461c-d7ef-d1f9ac509d23"
      },
      "source": [
        "list_a + list_b # คือ เอา list สองอันมาต่อกันเลย"
      ],
      "execution_count": 111,
      "outputs": [
        {
          "output_type": "execute_result",
          "data": {
            "text/plain": [
              "[1, 2, 0.2, 'abs', 2, 'xyz', [1, 2, 0.2, 'abs'], [1, 2, 0.0]]"
            ]
          },
          "metadata": {
            "tags": []
          },
          "execution_count": 111
        }
      ]
    },
    {
      "cell_type": "markdown",
      "metadata": {
        "id": "1k8lZHXXLRj3"
      },
      "source": [
        "#### format string"
      ]
    },
    {
      "cell_type": "markdown",
      "metadata": {
        "id": "_RK_z6SnLxMc"
      },
      "source": [
        "\n",
        "\n",
        "```python\n",
        "f'string{ตัวเเปร}'\n",
        "```\n",
        "{} เรียกว่า curly brackets \n"
      ]
    },
    {
      "cell_type": "code",
      "metadata": {
        "colab": {
          "base_uri": "https://localhost:8080/",
          "height": 34
        },
        "id": "0LAWzUciLVSt",
        "outputId": "f6669a8c-be87-4706-e5c5-92c55565b074"
      },
      "source": [
        "f'ตัวเเปร list_a มีค่าคือ {list_a}' # ภายใน {} คือ ค่า"
      ],
      "execution_count": 112,
      "outputs": [
        {
          "output_type": "execute_result",
          "data": {
            "application/vnd.google.colaboratory.intrinsic+json": {
              "type": "string"
            },
            "text/plain": [
              "\"ตัวเเปร list_a มีค่าคือ [1, 2, 0.2, 'abs']\""
            ]
          },
          "metadata": {
            "tags": []
          },
          "execution_count": 112
        }
      ]
    },
    {
      "cell_type": "markdown",
      "metadata": {
        "id": "HxBLnYExHhOv"
      },
      "source": [
        "## Loop เป็น การวนซ้ำ\n",
        "\n",
        "ทำงานซ้ำๆ หรือ ทำงานคล้ายๆกัน\n"
      ]
    },
    {
      "cell_type": "markdown",
      "metadata": {
        "id": "dRzikHV3KStw"
      },
      "source": [
        "indent เเปลว่าเว้น\n",
        "```python\n",
        "for ตัวเเปรที่จะรับค่าจากลิสต์ in ลิสต์ที่จะนำมาวนลูป:\n",
        "    do something # in loop\n",
        "    do another thing # in loop\n",
        "do other things # out side loop\n",
        "```\n",
        "\n"
      ]
    },
    {
      "cell_type": "code",
      "metadata": {
        "colab": {
          "base_uri": "https://localhost:8080/"
        },
        "id": "_6BZany-JuZJ",
        "outputId": "fe909d0a-b965-4063-9b2a-317db90a9152"
      },
      "source": [
        "for i in [1,2,3,4,5]:\n",
        "    print(i+1) # อันดับที่ 1"
      ],
      "execution_count": 113,
      "outputs": [
        {
          "output_type": "stream",
          "text": [
            "2\n",
            "3\n",
            "4\n",
            "5\n",
            "6\n"
          ],
          "name": "stdout"
        }
      ]
    },
    {
      "cell_type": "code",
      "metadata": {
        "colab": {
          "base_uri": "https://localhost:8080/"
        },
        "id": "UxnfhJrzMXjc",
        "outputId": "422a83ef-d783-4ce2-f670-faf2d283180b"
      },
      "source": [
        "for x in [1,2,3,4,5]:\n",
        "    print(f'ค่าตัวเเปร x คือ {x} เเละ x+2={x+2}')"
      ],
      "execution_count": 114,
      "outputs": [
        {
          "output_type": "stream",
          "text": [
            "ค่าตัวเเปร x คือ 1 เเละ x+2=3\n",
            "ค่าตัวเเปร x คือ 2 เเละ x+2=4\n",
            "ค่าตัวเเปร x คือ 3 เเละ x+2=5\n",
            "ค่าตัวเเปร x คือ 4 เเละ x+2=6\n",
            "ค่าตัวเเปร x คือ 5 เเละ x+2=7\n"
          ],
          "name": "stdout"
        }
      ]
    },
    {
      "cell_type": "code",
      "metadata": {
        "colab": {
          "base_uri": "https://localhost:8080/"
        },
        "id": "mqxD5U82M6Bd",
        "outputId": "d664e396-87f3-49fd-d67f-6ccebba654a4"
      },
      "source": [
        "list5=[1,2,3,4,5]\n",
        "for x in list5:\n",
        "    print(f'ค่าตัวเเปร x คือ {x} เเละ x+2={x+2}')"
      ],
      "execution_count": 115,
      "outputs": [
        {
          "output_type": "stream",
          "text": [
            "ค่าตัวเเปร x คือ 1 เเละ x+2=3\n",
            "ค่าตัวเเปร x คือ 2 เเละ x+2=4\n",
            "ค่าตัวเเปร x คือ 3 เเละ x+2=5\n",
            "ค่าตัวเเปร x คือ 4 เเละ x+2=6\n",
            "ค่าตัวเเปร x คือ 5 เเละ x+2=7\n"
          ],
          "name": "stdout"
        }
      ]
    },
    {
      "cell_type": "code",
      "metadata": {
        "colab": {
          "base_uri": "https://localhost:8080/"
        },
        "id": "65zxzkd9NEwd",
        "outputId": "c0626eaa-f491-4ff1-e900-109063ad45f3"
      },
      "source": [
        "list(range(10)) # สร้าง list ที่เริ่มตั้งเเต่ 0 ถึง 9(ก่อนหน้าตัวมันเอง)"
      ],
      "execution_count": 116,
      "outputs": [
        {
          "output_type": "execute_result",
          "data": {
            "text/plain": [
              "[0, 1, 2, 3, 4, 5, 6, 7, 8, 9]"
            ]
          },
          "metadata": {
            "tags": []
          },
          "execution_count": 116
        }
      ]
    },
    {
      "cell_type": "code",
      "metadata": {
        "colab": {
          "base_uri": "https://localhost:8080/"
        },
        "id": "VLq35bEgNTsc",
        "outputId": "4d14fb30-c848-4108-d21c-cf43d1ec387a"
      },
      "source": [
        "for i in range(2,7):\n",
        "    print(i) #คือเอาตั้งเเต่ 2 ถึง ตัวก่อนหน้า คือ 6"
      ],
      "execution_count": 117,
      "outputs": [
        {
          "output_type": "stream",
          "text": [
            "2\n",
            "3\n",
            "4\n",
            "5\n",
            "6\n"
          ],
          "name": "stdout"
        }
      ]
    },
    {
      "cell_type": "code",
      "metadata": {
        "colab": {
          "base_uri": "https://localhost:8080/"
        },
        "id": "OecfkBdxN1V9",
        "outputId": "e18f9bd9-b6f8-4dcf-e500-66404e88c9d6"
      },
      "source": [
        "for i in range(2,7,2): # เลขตั้งเเต่ 2 จนถึง 6 เเต่กระโดดทีละ 2\n",
        "    print(i)"
      ],
      "execution_count": 118,
      "outputs": [
        {
          "output_type": "stream",
          "text": [
            "2\n",
            "4\n",
            "6\n"
          ],
          "name": "stdout"
        }
      ]
    },
    {
      "cell_type": "code",
      "metadata": {
        "colab": {
          "base_uri": "https://localhost:8080/"
        },
        "id": "IE0e38pOJl8X",
        "outputId": "f45a4575-4af7-44e6-d58f-453608ebf7fe"
      },
      "source": [
        "for i in range(5):\n",
        "    print('hahaha') # print  hahaha 5 รอบ"
      ],
      "execution_count": 119,
      "outputs": [
        {
          "output_type": "stream",
          "text": [
            "hahaha\n",
            "hahaha\n",
            "hahaha\n",
            "hahaha\n",
            "hahaha\n"
          ],
          "name": "stdout"
        }
      ]
    },
    {
      "cell_type": "code",
      "metadata": {
        "colab": {
          "base_uri": "https://localhost:8080/"
        },
        "id": "Clk5ILVgOdgl",
        "outputId": "404a5f6d-3e53-4af2-a6c0-1c70fbdf1945"
      },
      "source": [
        "for i in range(5):\n",
        "    print('hahaha')\n",
        "    x = i + 3\n",
        "    print(f'i={i} x={x}')"
      ],
      "execution_count": 120,
      "outputs": [
        {
          "output_type": "stream",
          "text": [
            "hahaha\n",
            "i=0 x=3\n",
            "hahaha\n",
            "i=1 x=4\n",
            "hahaha\n",
            "i=2 x=5\n",
            "hahaha\n",
            "i=3 x=6\n",
            "hahaha\n",
            "i=4 x=7\n"
          ],
          "name": "stdout"
        }
      ]
    },
    {
      "cell_type": "markdown",
      "metadata": {
        "id": "HsMsdBJLPCCs"
      },
      "source": [
        "### Nested loop คือ loop ซ้อน loop"
      ]
    },
    {
      "cell_type": "code",
      "metadata": {
        "colab": {
          "base_uri": "https://localhost:8080/"
        },
        "id": "I3t2pf9OPBc2",
        "outputId": "2e51bb4e-d948-4bc6-d621-66201eb79413"
      },
      "source": [
        "for i in range(3):\n",
        "    print(f'now i = {i}')\n",
        "    print('start j loop')\n",
        "    for j in range(4): # วน j ก่อนค่อยเปลี่ยน i\n",
        "        print(f'i = {i} j= {j} i+j ={i+j}')\n",
        "    print('end j loop')    "
      ],
      "execution_count": 121,
      "outputs": [
        {
          "output_type": "stream",
          "text": [
            "now i = 0\n",
            "start j loop\n",
            "i = 0 j= 0 i+j =0\n",
            "i = 0 j= 1 i+j =1\n",
            "i = 0 j= 2 i+j =2\n",
            "i = 0 j= 3 i+j =3\n",
            "end j loop\n",
            "now i = 1\n",
            "start j loop\n",
            "i = 1 j= 0 i+j =1\n",
            "i = 1 j= 1 i+j =2\n",
            "i = 1 j= 2 i+j =3\n",
            "i = 1 j= 3 i+j =4\n",
            "end j loop\n",
            "now i = 2\n",
            "start j loop\n",
            "i = 2 j= 0 i+j =2\n",
            "i = 2 j= 1 i+j =3\n",
            "i = 2 j= 2 i+j =4\n",
            "i = 2 j= 3 i+j =5\n",
            "end j loop\n"
          ],
          "name": "stdout"
        }
      ]
    },
    {
      "cell_type": "markdown",
      "metadata": {
        "id": "9L-e8akdJoSn"
      },
      "source": [
        "### Condition (if statement)"
      ]
    },
    {
      "cell_type": "markdown",
      "metadata": {
        "id": "91C9a1GFFiX3"
      },
      "source": [
        "\n",
        "\n",
        "```python\n",
        "if เงื่อนไขที่จะตรวจสอบ(โดยใช้สัญลักษณ์ ==,!=,<,>,<=,>=):\n",
        "    ถ้าเงื่อนไขเป็นจริง ทำงาน 1\n",
        "    ถ้าเงื่อนไขเป็นจริง ทำงาน 2\n",
        "\n",
        "```\n",
        "\n"
      ]
    },
    {
      "cell_type": "code",
      "metadata": {
        "colab": {
          "base_uri": "https://localhost:8080/"
        },
        "id": "rnkB8ID7G5GG",
        "outputId": "a4015582-8a70-4099-d6ab-c308ed6120ac"
      },
      "source": [
        "stringx = 'sadfasdfsadfweirjwersdfspadofgj'\n",
        "\n",
        "if len(stringx) > 30:\n",
        "    print(f'{stringx} is longer than 30 characters') # มีการเช็คเเล้ว"
      ],
      "execution_count": 122,
      "outputs": [
        {
          "output_type": "stream",
          "text": [
            "sadfasdfsadfweirjwersdfspadofgj is longer than 30 characters\n"
          ],
          "name": "stdout"
        }
      ]
    },
    {
      "cell_type": "code",
      "metadata": {
        "id": "JWtIAQZWF5hI"
      },
      "source": [
        "stringx = 'sadfasdfsadfweirjwersdfspadofgj'\n",
        "\n",
        "if len(stringx) > 100:\n",
        "    print(f'{stringx} is longer than 100 characters') # มีการเช็คเเล้ว"
      ],
      "execution_count": 123,
      "outputs": []
    },
    {
      "cell_type": "markdown",
      "metadata": {
        "id": "KB_Hy0dqHoZL"
      },
      "source": [
        "```python\n",
        "if เงื่อนไขที่จะตรวจสอบ(โดยใช้สัญลักษณ์ ==,!=,<,>,<=,>=):\n",
        "    ถ้าเงื่อนไขเป็นจริง ทำงาน 1\n",
        "    ถ้าเงื่อนไขเป็นจริง ทำงาน 2\n",
        "else:# ตรวจสอบเงื่อนไขข้างบนเเล้วไม่เป็นจริง\n",
        "    ทำงานที่ x\n",
        "\n",
        "```\n",
        "\n"
      ]
    },
    {
      "cell_type": "code",
      "metadata": {
        "colab": {
          "base_uri": "https://localhost:8080/"
        },
        "id": "ULl3s8ptH-p1",
        "outputId": "ecd88fa2-e4f3-4042-8295-2013871ad634"
      },
      "source": [
        "stringx = 'sadfasdfsadfweirjwersdfspadofgj'\n",
        "\n",
        "if len(stringx) > 100:\n",
        "    print(f'{stringx} is longer than 100 characters') # มีการเช็คเเล้ว\n",
        "else:\n",
        "    print(f'{stringx} in {len(stringx)} characters long') # มันจะเช็คว่ามีจำนวนตัวอักษรเท่าไหร่"
      ],
      "execution_count": 124,
      "outputs": [
        {
          "output_type": "stream",
          "text": [
            "sadfasdfsadfweirjwersdfspadofgj in 31 characters long\n"
          ],
          "name": "stdout"
        }
      ]
    },
    {
      "cell_type": "markdown",
      "metadata": {
        "id": "t28VWELNJGb_"
      },
      "source": [
        "```python\n",
        "if เงื่อนไขที่จะตรวจสอบ(โดยใช้สัญลักษณ์ ==,!=,<,>,<=,>=):\n",
        "    ถ้าเงื่อนไขเป็นจริง ทำงาน 1\n",
        "    ถ้าเงื่อนไขเป็นจริง ทำงาน 2\n",
        "elif เงื่อนไขที่จะตรวจสอบต่อไปถ้าเงื่อนไขข้างบนไม่เป็นจริง:\n",
        "    ถ้าเงื่อนไขเป็นจริง ทำงานที่ a1\n",
        "    ถ้าเงื่อนไขเป็นจริง ทำงานที่ a2\n",
        "elif เงื่อนไขที่จะตรวจสอบต่อไปถ้าเงื่อนไขข้างบนไม่เป็นจริง:\n",
        "    ถ้าเงื่อนไขเป็นจริง ทำงานที่ b1\n",
        "    ถ้าเงื่อนไขเป็นจริง ทำงานที่ b2\n",
        "else:# ตรวจสอบเงื่อนไขข้างบนเเล้วไม่เป็นจริง\n",
        "    ทำงานที่ x\n",
        "\n",
        "```"
      ]
    },
    {
      "cell_type": "code",
      "metadata": {
        "colab": {
          "base_uri": "https://localhost:8080/"
        },
        "id": "H3hLASuqKwuN",
        "outputId": "fc4f6056-3c5b-48b5-b718-36141f7543f1"
      },
      "source": [
        "password = '12345'\n",
        "\n",
        "input_pass = '123sf'\n",
        "if input_pass == password:\n",
        "    print(f'{stringx} is longer than 100 characters')\n",
        "elif len(input_pass) > len(password):\n",
        "    print('Too long, try again!')\n",
        "elif len(input_pass) < len(password):\n",
        "    print('Too short, try again!')   \n",
        "else:\n",
        "    print('Wrong password, try again!')        "
      ],
      "execution_count": 125,
      "outputs": [
        {
          "output_type": "stream",
          "text": [
            "Wrong password, try again!\n"
          ],
          "name": "stdout"
        }
      ]
    },
    {
      "cell_type": "markdown",
      "metadata": {
        "id": "PaXouSqYK6Gn"
      },
      "source": [
        "Quiz 1 หา min  "
      ]
    },
    {
      "cell_type": "code",
      "metadata": {
        "id": "fNPO4f3nNjrG"
      },
      "source": [
        "list_ex = [1,5,9,-19,-2,0] # หาค่าน้อยที่สุดใน list_ex โดยไม่ใช้ function min (commit ก่อน 10:30:Quiz1)"
      ],
      "execution_count": 126,
      "outputs": []
    },
    {
      "cell_type": "code",
      "metadata": {
        "colab": {
          "base_uri": "https://localhost:8080/"
        },
        "id": "9A4mEcaLN6Kc",
        "outputId": "04328431-32e5-476f-f750-c80e3a7c6811"
      },
      "source": [
        "min = 10000000\n",
        "\n",
        "for i in list_ex:\n",
        "  if i < min:\n",
        "      min = i\n",
        "\n",
        "print(min)"
      ],
      "execution_count": 127,
      "outputs": [
        {
          "output_type": "stream",
          "text": [
            "-19\n"
          ],
          "name": "stdout"
        }
      ]
    },
    {
      "cell_type": "code",
      "metadata": {
        "colab": {
          "base_uri": "https://localhost:8080/"
        },
        "id": "cIic_gehUHIK",
        "outputId": "03a95a7f-e470-43fa-ed93-52363c06e76a"
      },
      "source": [
        "min = 10000000\n",
        "print(list_ex)\n",
        "for i in list_ex:\n",
        "  print(f'now i = {i}, min = {min}')\n",
        "  print('Start condition')\n",
        "  if i < min:\n",
        "      print(f'i < min, update min -> {i}')\n",
        "      min = i\n",
        "  else:\n",
        "      print('i >=min, not update')\n",
        "  print('end condition, go to next i')    \n",
        "print(min)"
      ],
      "execution_count": 128,
      "outputs": [
        {
          "output_type": "stream",
          "text": [
            "[1, 5, 9, -19, -2, 0]\n",
            "now i = 1, min = 10000000\n",
            "Start condition\n",
            "i < min, update min -> 1\n",
            "end condition, go to next i\n",
            "now i = 5, min = 1\n",
            "Start condition\n",
            "i >=min, not update\n",
            "end condition, go to next i\n",
            "now i = 9, min = 1\n",
            "Start condition\n",
            "i >=min, not update\n",
            "end condition, go to next i\n",
            "now i = -19, min = 1\n",
            "Start condition\n",
            "i < min, update min -> -19\n",
            "end condition, go to next i\n",
            "now i = -2, min = -19\n",
            "Start condition\n",
            "i >=min, not update\n",
            "end condition, go to next i\n",
            "now i = 0, min = -19\n",
            "Start condition\n",
            "i >=min, not update\n",
            "end condition, go to next i\n",
            "-19\n"
          ],
          "name": "stdout"
        }
      ]
    },
    {
      "cell_type": "markdown",
      "metadata": {
        "id": "LFMvuf_OK-xM"
      },
      "source": [
        "HW3 ตัดเกรด"
      ]
    },
    {
      "cell_type": "code",
      "metadata": {
        "id": "JmEK-7SSVuiq"
      },
      "source": [
        "score = [49,65,70,95,82,55,89,20,77,77,81,59,10] # ตัดเกรด คะเเนนใน list score (ใช้ if กับ for)"
      ],
      "execution_count": 137,
      "outputs": []
    },
    {
      "cell_type": "code",
      "metadata": {
        "id": "392Qlu1gv-Xh",
        "outputId": "d50016f6-8f92-4385-9e6b-1ae699e04360",
        "colab": {
          "base_uri": "https://localhost:8080/"
        }
      },
      "source": [
        "for i in score:\n",
        "  if i >= 80:\n",
        "    print(f'คะเเนน เท่ากับ {i} อยู่ในเกณฑ์ A')\n",
        "  elif i>=75:\n",
        "    print(f'คะเเนน เท่ากับ {i} อยู่ในเกณฑ์ B+')\n",
        "  elif i>=70:\n",
        "    print(f'คะเเนน เท่ากับ {i} อยู่ในเกณฑ์ B')\n",
        "  elif i>=65:\n",
        "    print(f'คะเเนน เท่ากับ {i} อยู่ในเกณฑ์ C+')\n",
        "  elif i>=60:\n",
        "    print(f'คะเเนน เท่ากับ {i} อยู่ในเกณฑ์ C')\n",
        "  elif i>=55:\n",
        "    print(f'คะเเนน เท่ากับ {i} อยู่ในเกณฑ์ D+')\n",
        "  elif i>=50:\n",
        "    print(f'คะเเนน เท่ากับ {i} อยู่ในเกณฑ์ D')\n",
        "  else:\n",
        "    print(f'คะเเนน เท่ากับ {i} อยู่ในเกณฑ์ F ')   "
      ],
      "execution_count": 146,
      "outputs": [
        {
          "output_type": "stream",
          "text": [
            "คะเเนน เท่ากับ 49 อยู่ในเกณฑ์ F \n",
            "คะเเนน เท่ากับ 65 อยู่ในเกณฑ์ C+\n",
            "คะเเนน เท่ากับ 70 อยู่ในเกณฑ์ B\n",
            "คะเเนน เท่ากับ 95 อยู่ในเกณฑ์ A\n",
            "คะเเนน เท่ากับ 82 อยู่ในเกณฑ์ A\n",
            "คะเเนน เท่ากับ 55 อยู่ในเกณฑ์ D+\n",
            "คะเเนน เท่ากับ 89 อยู่ในเกณฑ์ A\n",
            "คะเเนน เท่ากับ 20 อยู่ในเกณฑ์ F \n",
            "คะเเนน เท่ากับ 77 อยู่ในเกณฑ์ B+\n",
            "คะเเนน เท่ากับ 77 อยู่ในเกณฑ์ B+\n",
            "คะเเนน เท่ากับ 81 อยู่ในเกณฑ์ A\n",
            "คะเเนน เท่ากับ 59 อยู่ในเกณฑ์ D+\n",
            "คะเเนน เท่ากับ 10 อยู่ในเกณฑ์ F \n"
          ],
          "name": "stdout"
        }
      ]
    },
    {
      "cell_type": "markdown",
      "metadata": {
        "id": "lRl3-GlzJq0k"
      },
      "source": [
        "#### Function"
      ]
    },
    {
      "cell_type": "code",
      "metadata": {
        "id": "wTF0pHbj0T62"
      },
      "source": [
        ""
      ],
      "execution_count": null,
      "outputs": []
    }
  ]
}